{
  "nbformat": 4,
  "nbformat_minor": 0,
  "metadata": {
    "colab": {
      "name": "Assignment3.ipynb",
      "provenance": [],
      "collapsed_sections": [
        "MXpCf68lW7eg",
        "_FO2RelRXDhc",
        "oB4cP0zigztk",
        "nxGrCkY2grXK",
        "nX3bMk8vgjCg",
        "PzglbAEWgdkX",
        "eqUOQ86Nf8Kr",
        "5I_vU7-Rf4Ar",
        "HPnn4m3Fg6WY",
        "HsYMPjkIhB3B",
        "f79BleNNgJTe",
        "KHO1Q-r_gOq3",
        "dubHhha3gE7J",
        "OeDBnl1gJSzl",
        "8J4yMOmoJfrD",
        "niOvGRJJJl1z"
      ],
      "include_colab_link": true
    },
    "kernelspec": {
      "name": "python3",
      "display_name": "Python 3"
    },
    "language_info": {
      "name": "python"
    },
    "widgets": {
      "application/vnd.jupyter.widget-state+json": {
        "122f8cb162aa4cb99b00a0f4ad032baf": {
          "model_module": "@jupyter-widgets/controls",
          "model_name": "VBoxModel",
          "state": {
            "_view_name": "VBoxView",
            "_dom_classes": [],
            "_model_name": "VBoxModel",
            "_view_module": "@jupyter-widgets/controls",
            "_model_module_version": "1.5.0",
            "_view_count": null,
            "_view_module_version": "1.5.0",
            "box_style": "",
            "layout": "IPY_MODEL_655c0b63d3174cf8ac3b488c81617f7b",
            "_model_module": "@jupyter-widgets/controls",
            "children": [
              "IPY_MODEL_1831330e9db340c99a9a7284b31f5e98",
              "IPY_MODEL_9d653609061a42be9012d29dc77af907"
            ]
          }
        },
        "655c0b63d3174cf8ac3b488c81617f7b": {
          "model_module": "@jupyter-widgets/base",
          "model_name": "LayoutModel",
          "state": {
            "_view_name": "LayoutView",
            "grid_template_rows": null,
            "right": null,
            "justify_content": null,
            "_view_module": "@jupyter-widgets/base",
            "overflow": null,
            "_model_module_version": "1.2.0",
            "_view_count": null,
            "flex_flow": null,
            "width": null,
            "min_width": null,
            "border": null,
            "align_items": null,
            "bottom": null,
            "_model_module": "@jupyter-widgets/base",
            "top": null,
            "grid_column": null,
            "overflow_y": null,
            "overflow_x": null,
            "grid_auto_flow": null,
            "grid_area": null,
            "grid_template_columns": null,
            "flex": null,
            "_model_name": "LayoutModel",
            "justify_items": null,
            "grid_row": null,
            "max_height": null,
            "align_content": null,
            "visibility": null,
            "align_self": null,
            "height": null,
            "min_height": null,
            "padding": null,
            "grid_auto_rows": null,
            "grid_gap": null,
            "max_width": null,
            "order": null,
            "_view_module_version": "1.2.0",
            "grid_template_areas": null,
            "object_position": null,
            "object_fit": null,
            "grid_auto_columns": null,
            "margin": null,
            "display": null,
            "left": null
          }
        },
        "1831330e9db340c99a9a7284b31f5e98": {
          "model_module": "@jupyter-widgets/controls",
          "model_name": "LabelModel",
          "state": {
            "_view_name": "LabelView",
            "style": "IPY_MODEL_4d1efbb61bfe46fca8f74f4fb6bbf9a0",
            "_dom_classes": [],
            "description": "",
            "_model_name": "LabelModel",
            "placeholder": "​",
            "_view_module": "@jupyter-widgets/controls",
            "_model_module_version": "1.5.0",
            "value": " 0.07MB of 0.07MB uploaded (0.00MB deduped)\r",
            "_view_count": null,
            "_view_module_version": "1.5.0",
            "description_tooltip": null,
            "_model_module": "@jupyter-widgets/controls",
            "layout": "IPY_MODEL_19f977db97cc4363b502abdba6e8a698"
          }
        },
        "9d653609061a42be9012d29dc77af907": {
          "model_module": "@jupyter-widgets/controls",
          "model_name": "FloatProgressModel",
          "state": {
            "_view_name": "ProgressView",
            "style": "IPY_MODEL_ca025e39a4f747a181728d512c7bddef",
            "_dom_classes": [],
            "description": "",
            "_model_name": "FloatProgressModel",
            "bar_style": "",
            "max": 1,
            "_view_module": "@jupyter-widgets/controls",
            "_model_module_version": "1.5.0",
            "value": 1,
            "_view_count": null,
            "_view_module_version": "1.5.0",
            "orientation": "horizontal",
            "min": 0,
            "description_tooltip": null,
            "_model_module": "@jupyter-widgets/controls",
            "layout": "IPY_MODEL_5fccf298870a4bf094713bfadf3ef11b"
          }
        },
        "4d1efbb61bfe46fca8f74f4fb6bbf9a0": {
          "model_module": "@jupyter-widgets/controls",
          "model_name": "DescriptionStyleModel",
          "state": {
            "_view_name": "StyleView",
            "_model_name": "DescriptionStyleModel",
            "description_width": "",
            "_view_module": "@jupyter-widgets/base",
            "_model_module_version": "1.5.0",
            "_view_count": null,
            "_view_module_version": "1.2.0",
            "_model_module": "@jupyter-widgets/controls"
          }
        },
        "19f977db97cc4363b502abdba6e8a698": {
          "model_module": "@jupyter-widgets/base",
          "model_name": "LayoutModel",
          "state": {
            "_view_name": "LayoutView",
            "grid_template_rows": null,
            "right": null,
            "justify_content": null,
            "_view_module": "@jupyter-widgets/base",
            "overflow": null,
            "_model_module_version": "1.2.0",
            "_view_count": null,
            "flex_flow": null,
            "width": null,
            "min_width": null,
            "border": null,
            "align_items": null,
            "bottom": null,
            "_model_module": "@jupyter-widgets/base",
            "top": null,
            "grid_column": null,
            "overflow_y": null,
            "overflow_x": null,
            "grid_auto_flow": null,
            "grid_area": null,
            "grid_template_columns": null,
            "flex": null,
            "_model_name": "LayoutModel",
            "justify_items": null,
            "grid_row": null,
            "max_height": null,
            "align_content": null,
            "visibility": null,
            "align_self": null,
            "height": null,
            "min_height": null,
            "padding": null,
            "grid_auto_rows": null,
            "grid_gap": null,
            "max_width": null,
            "order": null,
            "_view_module_version": "1.2.0",
            "grid_template_areas": null,
            "object_position": null,
            "object_fit": null,
            "grid_auto_columns": null,
            "margin": null,
            "display": null,
            "left": null
          }
        },
        "ca025e39a4f747a181728d512c7bddef": {
          "model_module": "@jupyter-widgets/controls",
          "model_name": "ProgressStyleModel",
          "state": {
            "_view_name": "StyleView",
            "_model_name": "ProgressStyleModel",
            "description_width": "",
            "_view_module": "@jupyter-widgets/base",
            "_model_module_version": "1.5.0",
            "_view_count": null,
            "_view_module_version": "1.2.0",
            "bar_color": null,
            "_model_module": "@jupyter-widgets/controls"
          }
        },
        "5fccf298870a4bf094713bfadf3ef11b": {
          "model_module": "@jupyter-widgets/base",
          "model_name": "LayoutModel",
          "state": {
            "_view_name": "LayoutView",
            "grid_template_rows": null,
            "right": null,
            "justify_content": null,
            "_view_module": "@jupyter-widgets/base",
            "overflow": null,
            "_model_module_version": "1.2.0",
            "_view_count": null,
            "flex_flow": null,
            "width": null,
            "min_width": null,
            "border": null,
            "align_items": null,
            "bottom": null,
            "_model_module": "@jupyter-widgets/base",
            "top": null,
            "grid_column": null,
            "overflow_y": null,
            "overflow_x": null,
            "grid_auto_flow": null,
            "grid_area": null,
            "grid_template_columns": null,
            "flex": null,
            "_model_name": "LayoutModel",
            "justify_items": null,
            "grid_row": null,
            "max_height": null,
            "align_content": null,
            "visibility": null,
            "align_self": null,
            "height": null,
            "min_height": null,
            "padding": null,
            "grid_auto_rows": null,
            "grid_gap": null,
            "max_width": null,
            "order": null,
            "_view_module_version": "1.2.0",
            "grid_template_areas": null,
            "object_position": null,
            "object_fit": null,
            "grid_auto_columns": null,
            "margin": null,
            "display": null,
            "left": null
          }
        }
      }
    }
  },
  "cells": [
    {
      "cell_type": "markdown",
      "metadata": {
        "id": "view-in-github",
        "colab_type": "text"
      },
      "source": [
        "<a href=\"https://colab.research.google.com/github/abisubramanya27/CS6910_Assignment3/blob/master/src/Assignment3.ipynb\" target=\"_parent\"><img src=\"https://colab.research.google.com/assets/colab-badge.svg\" alt=\"Open In Colab\"/></a>"
      ]
    },
    {
      "cell_type": "markdown",
      "metadata": {
        "id": "MXpCf68lW7eg"
      },
      "source": [
        "# Downloading dataset and unzipping"
      ]
    },
    {
      "cell_type": "code",
      "metadata": {
        "colab": {
          "base_uri": "https://localhost:8080/"
        },
        "id": "anLHOjMmcDNp",
        "outputId": "148b8e12-aaac-4595-a532-3d199571397b"
      },
      "source": [
        "!wget \"https://storage.googleapis.com/gresearch/dakshina/dakshina_dataset_v1.0.tar\""
      ],
      "execution_count": null,
      "outputs": [
        {
          "output_type": "stream",
          "text": [
            "--2021-05-06 20:28:07--  https://storage.googleapis.com/gresearch/dakshina/dakshina_dataset_v1.0.tar\n",
            "Resolving storage.googleapis.com (storage.googleapis.com)... 108.177.11.128, 108.177.13.128, 74.125.26.128, ...\n",
            "Connecting to storage.googleapis.com (storage.googleapis.com)|108.177.11.128|:443... connected.\n",
            "HTTP request sent, awaiting response... 200 OK\n",
            "Length: 2008340480 (1.9G) [application/x-tar]\n",
            "Saving to: ‘dakshina_dataset_v1.0.tar’\n",
            "\n",
            "dakshina_dataset_v1 100%[===================>]   1.87G  67.4MB/s    in 13s     \n",
            "\n",
            "2021-05-06 20:28:19 (152 MB/s) - ‘dakshina_dataset_v1.0.tar’ saved [2008340480/2008340480]\n",
            "\n"
          ],
          "name": "stdout"
        }
      ]
    },
    {
      "cell_type": "code",
      "metadata": {
        "id": "t8z7gFejcpWM"
      },
      "source": [
        "!tar xopf dakshina_dataset_v1.0.tar"
      ],
      "execution_count": null,
      "outputs": []
    },
    {
      "cell_type": "code",
      "metadata": {
        "colab": {
          "base_uri": "https://localhost:8080/"
        },
        "id": "v6Ixguaue_fq",
        "outputId": "672eafe3-c7a4-4340-fd86-e0ca78dd9b12"
      },
      "source": [
        "!ls dakshina_dataset_v1.0/hi/lexicons"
      ],
      "execution_count": null,
      "outputs": [
        {
          "output_type": "stream",
          "text": [
            "hi.translit.sampled.dev.tsv   hi.translit.sampled.train.tsv\n",
            "hi.translit.sampled.test.tsv\n"
          ],
          "name": "stdout"
        }
      ]
    },
    {
      "cell_type": "markdown",
      "metadata": {
        "id": "_FO2RelRXDhc"
      },
      "source": [
        "# Reading and processing data"
      ]
    },
    {
      "cell_type": "code",
      "metadata": {
        "id": "3-xkKp8jY8Q9"
      },
      "source": [
        "import numpy as np\n",
        "\n",
        "def read_data(data_path, characters = False):\n",
        "    # Returns the (input, output) pair from the dataset\n",
        "    # If characters == True, the input/output would be in the form list of characters, else as string\n",
        "\n",
        "    with open(data_path, \"r\", encoding=\"utf-8\") as f:\n",
        "        lines = [line.split(\"\\t\") for line in f.read().split(\"\\n\") if line != '']\n",
        "    \n",
        "    input, target = [val[1] for val in lines], [val[0] for val in lines]\n",
        "    if characters:\n",
        "        input, target = [list(inp_str) for inp_str in input], [list(tar_str) for tar_str in target]\n",
        "    return input, target\n",
        "\n",
        "\n",
        "def process_data(input, enc_timesteps, input_char_enc, target = None, dec_timesteps = None, target_char_enc = None):\n",
        "    # Returns the input and target data in a form needed by the Keras embedding layer, where each character is encoded by an integer\n",
        "\n",
        "    # ' ' -- space (equivalent to no meaningful input)\n",
        "    encoder_input = np.array([[input_char_enc[ch] for ch in string] + [input_char_enc[' ']] * (enc_timesteps - len(string)) for string in input])\n",
        "\n",
        "    decoder_input, decoder_target = None, None\n",
        "    if target is not None and dec_timesteps is not None and target_char_enc is not None:\n",
        "        # '\\t' -- start of sequence, '\\n' -- end of sequence\n",
        "        decoder_input = np.array([[target_char_enc['\\t']] + [target_char_enc[ch] for ch in string] + [target_char_enc['\\n']] \n",
        "                                    + [target_char_enc[' ']] * (dec_timesteps - len(string) - 2) for string in target])\n",
        "        decoder_target = np.zeros((decoder_input.shape[0], dec_timesteps, len(target_char_enc)), dtype='float32')\n",
        "\n",
        "        for i in range(decoder_input.shape[0]):\n",
        "            for t, char_ind in enumerate(decoder_input[i]):\n",
        "                if t > 0:\n",
        "                    decoder_target[i,t-1,char_ind] = 1.0\n",
        "            decoder_target[i,t:,target_char_enc[' ']] = 1.0\n",
        "\n",
        "    return encoder_input, decoder_input, decoder_target\n",
        "\n",
        "\n",
        "def encode_decode_characters(train_input, train_target, val_input, val_target):\n",
        "    # Returns the encoder for characters to integer (as a dictionary) and decoder for integers to characters (as a list) for input and target data\n",
        "\n",
        "    input_char_enc = {}\n",
        "    input_char_dec = []\n",
        "    max_encoder_seq_length = 1\n",
        "    for string in train_input + val_input:\n",
        "        max_encoder_seq_length = max(max_encoder_seq_length, len(string))\n",
        "        for char in string:\n",
        "            if char not in input_char_enc:\n",
        "                input_char_enc[char] = len(input_char_dec)\n",
        "                input_char_dec.append(char)\n",
        "    if ' ' not in input_char_enc:\n",
        "        input_char_enc[' '] = len(input_char_dec)\n",
        "        input_char_dec.append(' ')\n",
        "\n",
        "    target_char_enc = {}\n",
        "    target_char_dec = []\n",
        "    target_char_enc['\\t'] = len(target_char_dec)\n",
        "    target_char_dec.append('\\t')\n",
        "    max_decoder_seq_length = 1\n",
        "    for string in train_target + val_target:\n",
        "        max_decoder_seq_length = max(max_decoder_seq_length, len(string)+2)\n",
        "        for char in string:\n",
        "            if char not in target_char_enc:\n",
        "                target_char_enc[char] = len(target_char_dec)\n",
        "                target_char_dec.append(char)\n",
        "    target_char_enc['\\n'] = len(target_char_dec)\n",
        "    target_char_dec.append('\\n')\n",
        "    if ' ' not in target_char_enc:\n",
        "        target_char_enc[' '] = len(target_char_dec)\n",
        "        target_char_dec.append(' ')\n",
        "\n",
        "    print(\"Number of training samples:\", len(train_input))\n",
        "    print(\"Number of validation samples:\", len(val_input))\n",
        "    print(\"Number of unique input tokens:\", len(input_char_dec))\n",
        "    print(\"Number of unique output tokens:\", len(target_char_dec))\n",
        "    print(\"Max sequence length for inputs:\", max_encoder_seq_length)\n",
        "    print(\"Max sequence length for outputs:\", max_decoder_seq_length)\n",
        "\n",
        "    return input_char_enc, input_char_dec, target_char_enc, target_char_dec, max_encoder_seq_length, max_decoder_seq_length\n",
        "\n",
        "def max_seq_length(data):\n",
        "    max_len = 0\n",
        "    for word in data:\n",
        "        max_len = max(max_len, len(word))\n",
        "    \n",
        "    return max_len\n"
      ],
      "execution_count": null,
      "outputs": []
    },
    {
      "cell_type": "code",
      "metadata": {
        "colab": {
          "base_uri": "https://localhost:8080/"
        },
        "id": "97ou-pxE9gCQ",
        "outputId": "1b8deed0-5798-4554-f75b-bfad65d298b5"
      },
      "source": [
        "input_char_enc = {}\n",
        "input_char_dec = []\n",
        "target_char_enc = {}\n",
        "target_char_dec = []\n",
        "max_encoder_seq_length = 0\n",
        "max_decoder_seq_length = 0\n",
        "\n",
        "# Reading training, validation and test data\n",
        "train_inp, train_out = read_data('./dakshina_dataset_v1.0/hi/lexicons/hi.translit.sampled.train.tsv')\n",
        "val_inp, val_out = read_data('./dakshina_dataset_v1.0/hi/lexicons/hi.translit.sampled.dev.tsv')\n",
        "test_inp, test_out = read_data('./dakshina_dataset_v1.0/hi/lexicons/hi.translit.sampled.dev.tsv')\n",
        "# Assigning encoding and decoding for input and target characters\n",
        "input_char_enc, input_char_dec, target_char_enc, target_char_dec, max_encoder_seq_length, max_decoder_seq_length = encode_decode_characters(\n",
        "    train_inp, train_out, val_inp, val_out)\n",
        "\n",
        "# Assigning training, validation and test encoder input, decoder input, decoder output\n",
        "train_enc_input, train_dec_input, train_dec_target = process_data(train_inp, max_encoder_seq_length, input_char_enc, train_out, \n",
        "                                                                  max_decoder_seq_length, target_char_enc)\n",
        "val_enc_input, val_dec_input, val_dec_target = process_data(val_inp, max_encoder_seq_length, input_char_enc, val_out, \n",
        "                                                            max_decoder_seq_length, target_char_enc)\n",
        "test_enc_input, test_dec_input, test_dec_target = process_data(test_inp, max_encoder_seq_length, input_char_enc, test_out, \n",
        "                                                               max_decoder_seq_length, target_char_enc)\n"
      ],
      "execution_count": null,
      "outputs": [
        {
          "output_type": "stream",
          "text": [
            "Number of training samples: 44204\n",
            "Number of validation samples: 4358\n",
            "Number of unique input tokens: 27\n",
            "Number of unique output tokens: 66\n",
            "Max sequence length for inputs: 20\n",
            "Max sequence length for outputs: 21\n"
          ],
          "name": "stdout"
        }
      ]
    },
    {
      "cell_type": "markdown",
      "metadata": {
        "id": "eQd3bva5ha27"
      },
      "source": [
        "# Seq2Seq Model (without Attention)"
      ]
    },
    {
      "cell_type": "markdown",
      "metadata": {
        "id": "oB4cP0zigztk"
      },
      "source": [
        "### Creating model (without attention)"
      ]
    },
    {
      "cell_type": "code",
      "metadata": {
        "id": "N8jvETu5Ga6g"
      },
      "source": [
        "import tensorflow as tf\n",
        "import tensorflow.keras as keras\n",
        "\n",
        "def create_model(encoder_vocab_size, decoder_vocab_size, inp_emb_size=16, no_enc_layers=1, no_dec_layers=1, \n",
        "                 hid_layer_size=32, cell_type='LSTM', dropout=0, r_dropout=0, cell_activation='tanh'):\n",
        "    \n",
        "    get_cell = {\n",
        "        'RNN': keras.layers.SimpleRNN,\n",
        "        'GRU': keras.layers.GRU,\n",
        "        'LSTM': keras.layers.LSTM\n",
        "    }\n",
        "    # Encoder input and embedding\n",
        "    encoder_input = keras.layers.Input(shape=(None,), name=\"input_1\")\n",
        "    encoder_inp_emb = keras.layers.Embedding(encoder_vocab_size, inp_emb_size, name=\"embedding_1\")(encoder_input)\n",
        "\n",
        "    # Encoder cell layers\n",
        "    encoder_seq, *encoder_state = get_cell[cell_type](hid_layer_size, activation=cell_activation, return_sequences=True, return_state=True, \n",
        "                                                      dropout=dropout, recurrent_dropout=r_dropout, name=\"encoder_1\")(\n",
        "                                                            encoder_inp_emb\n",
        "                                                     )\n",
        "    for i in range(1, no_enc_layers):\n",
        "        encoder_seq, *encoder_state = get_cell[cell_type](hid_layer_size, activation=cell_activation, return_sequences=True, return_state=True, \n",
        "                                                          dropout=dropout, recurrent_dropout=r_dropout, name=\"encoder_\"+str(i+1))(\n",
        "                                                                encoder_seq\n",
        "                                                         )\n",
        "    \n",
        "    # Decoder input and embedding\n",
        "    decoder_input = keras.layers.Input(shape=(None,), name=\"input_2\")\n",
        "    decoder_inp_emb = keras.layers.Embedding(decoder_vocab_size, inp_emb_size, name=\"embedding_2\")(decoder_input)\n",
        "\n",
        "    # Decoder cell layers\n",
        "    decoder_seq, *_ = get_cell[cell_type](hid_layer_size, activation=cell_activation, return_sequences=True, return_state=True, \n",
        "                                          dropout=dropout, recurrent_dropout=r_dropout, name=\"decoder_1\")(\n",
        "                                                decoder_inp_emb, initial_state=encoder_state\n",
        "                                         )\n",
        "    for i in range(1, no_dec_layers):\n",
        "        decoder_seq, *_ = get_cell[cell_type](hid_layer_size, activation=cell_activation, return_sequences=True, return_state=True, \n",
        "                                              dropout=dropout, recurrent_dropout=r_dropout, name=\"decoder_\"+str(i+1))(\n",
        "                                                    decoder_seq, initial_state=encoder_state\n",
        "                                             )\n",
        "    \n",
        "    # Softmax FC layer\n",
        "    decoder_dense_output = keras.layers.Dense(decoder_vocab_size, activation=\"softmax\", name=\"dense_1\")(\n",
        "        decoder_seq\n",
        "    )\n",
        "\n",
        "    # Define the model that will turn encoder_input_data and decoder_input_data into decoder_target_data\n",
        "    model = keras.Model([encoder_input, decoder_input], decoder_dense_output)\n",
        "\n",
        "    model.summary()\n",
        "    return model"
      ],
      "execution_count": null,
      "outputs": []
    },
    {
      "cell_type": "code",
      "metadata": {
        "colab": {
          "base_uri": "https://localhost:8080/"
        },
        "id": "u-PJvBWTXsky",
        "outputId": "fc4cfa58-0ad0-4b47-f1b4-4883c5314476"
      },
      "source": [
        "!pip install --upgrade wandb\n",
        "!wandb login 6746f968d95eb71e281d6c7772a0469574430408\n",
        "\n",
        "import wandb\n",
        "from wandb.keras import WandbCallback"
      ],
      "execution_count": null,
      "outputs": [
        {
          "output_type": "stream",
          "text": [
            "Collecting wandb\n",
            "\u001b[?25l  Downloading https://files.pythonhosted.org/packages/67/5a/b037b50f9849212863a2fed313624d8f6f33ffa4ce89dc706e2a0e98c780/wandb-0.10.29-py2.py3-none-any.whl (2.1MB)\n",
            "\u001b[K     |████████████████████████████████| 2.1MB 3.8MB/s \n",
            "\u001b[?25hRequirement already satisfied, skipping upgrade: PyYAML in /usr/local/lib/python3.7/dist-packages (from wandb) (3.13)\n",
            "Requirement already satisfied, skipping upgrade: six>=1.13.0 in /usr/local/lib/python3.7/dist-packages (from wandb) (1.15.0)\n",
            "Requirement already satisfied, skipping upgrade: Click>=7.0 in /usr/local/lib/python3.7/dist-packages (from wandb) (7.1.2)\n",
            "Requirement already satisfied, skipping upgrade: python-dateutil>=2.6.1 in /usr/local/lib/python3.7/dist-packages (from wandb) (2.8.1)\n",
            "Requirement already satisfied, skipping upgrade: psutil>=5.0.0 in /usr/local/lib/python3.7/dist-packages (from wandb) (5.4.8)\n",
            "Requirement already satisfied, skipping upgrade: requests<3,>=2.0.0 in /usr/local/lib/python3.7/dist-packages (from wandb) (2.23.0)\n",
            "Collecting subprocess32>=3.5.3\n",
            "\u001b[?25l  Downloading https://files.pythonhosted.org/packages/32/c8/564be4d12629b912ea431f1a50eb8b3b9d00f1a0b1ceff17f266be190007/subprocess32-3.5.4.tar.gz (97kB)\n",
            "\u001b[K     |████████████████████████████████| 102kB 8.6MB/s \n",
            "\u001b[?25hRequirement already satisfied, skipping upgrade: protobuf>=3.12.0 in /usr/local/lib/python3.7/dist-packages (from wandb) (3.12.4)\n",
            "Requirement already satisfied, skipping upgrade: promise<3,>=2.0 in /usr/local/lib/python3.7/dist-packages (from wandb) (2.3)\n",
            "Collecting pathtools\n",
            "  Downloading https://files.pythonhosted.org/packages/e7/7f/470d6fcdf23f9f3518f6b0b76be9df16dcc8630ad409947f8be2eb0ed13a/pathtools-0.1.2.tar.gz\n",
            "Collecting sentry-sdk>=0.4.0\n",
            "\u001b[?25l  Downloading https://files.pythonhosted.org/packages/1c/4a/a54b254f67d8f4052338d54ebe90126f200693440a93ef76d254d581e3ec/sentry_sdk-1.1.0-py2.py3-none-any.whl (131kB)\n",
            "\u001b[K     |████████████████████████████████| 133kB 33.2MB/s \n",
            "\u001b[?25hCollecting configparser>=3.8.1\n",
            "  Downloading https://files.pythonhosted.org/packages/fd/01/ff260a18caaf4457eb028c96eeb405c4a230ca06c8ec9c1379f813caa52e/configparser-5.0.2-py3-none-any.whl\n",
            "Collecting GitPython>=1.0.0\n",
            "\u001b[?25l  Downloading https://files.pythonhosted.org/packages/a6/99/98019716955ba243657daedd1de8f3a88ca1f5b75057c38e959db22fb87b/GitPython-3.1.14-py3-none-any.whl (159kB)\n",
            "\u001b[K     |████████████████████████████████| 163kB 29.4MB/s \n",
            "\u001b[?25hCollecting shortuuid>=0.5.0\n",
            "  Downloading https://files.pythonhosted.org/packages/25/a6/2ecc1daa6a304e7f1b216f0896b26156b78e7c38e1211e9b798b4716c53d/shortuuid-1.0.1-py3-none-any.whl\n",
            "Collecting docker-pycreds>=0.4.0\n",
            "  Downloading https://files.pythonhosted.org/packages/f5/e8/f6bd1eee09314e7e6dee49cbe2c5e22314ccdb38db16c9fc72d2fa80d054/docker_pycreds-0.4.0-py2.py3-none-any.whl\n",
            "Requirement already satisfied, skipping upgrade: certifi>=2017.4.17 in /usr/local/lib/python3.7/dist-packages (from requests<3,>=2.0.0->wandb) (2020.12.5)\n",
            "Requirement already satisfied, skipping upgrade: urllib3!=1.25.0,!=1.25.1,<1.26,>=1.21.1 in /usr/local/lib/python3.7/dist-packages (from requests<3,>=2.0.0->wandb) (1.24.3)\n",
            "Requirement already satisfied, skipping upgrade: chardet<4,>=3.0.2 in /usr/local/lib/python3.7/dist-packages (from requests<3,>=2.0.0->wandb) (3.0.4)\n",
            "Requirement already satisfied, skipping upgrade: idna<3,>=2.5 in /usr/local/lib/python3.7/dist-packages (from requests<3,>=2.0.0->wandb) (2.10)\n",
            "Requirement already satisfied, skipping upgrade: setuptools in /usr/local/lib/python3.7/dist-packages (from protobuf>=3.12.0->wandb) (56.0.0)\n",
            "Collecting gitdb<5,>=4.0.1\n",
            "\u001b[?25l  Downloading https://files.pythonhosted.org/packages/ea/e8/f414d1a4f0bbc668ed441f74f44c116d9816833a48bf81d22b697090dba8/gitdb-4.0.7-py3-none-any.whl (63kB)\n",
            "\u001b[K     |████████████████████████████████| 71kB 6.9MB/s \n",
            "\u001b[?25hCollecting smmap<5,>=3.0.1\n",
            "  Downloading https://files.pythonhosted.org/packages/68/ee/d540eb5e5996eb81c26ceffac6ee49041d473bc5125f2aa995cf51ec1cf1/smmap-4.0.0-py2.py3-none-any.whl\n",
            "Building wheels for collected packages: subprocess32, pathtools\n",
            "  Building wheel for subprocess32 (setup.py) ... \u001b[?25l\u001b[?25hdone\n",
            "  Created wheel for subprocess32: filename=subprocess32-3.5.4-cp37-none-any.whl size=6489 sha256=69e75776707310dc4f563cd3d4e181ce3d58365c2a46ca179c1a65d8468d1abb\n",
            "  Stored in directory: /root/.cache/pip/wheels/68/39/1a/5e402bdfdf004af1786c8b853fd92f8c4a04f22aad179654d1\n",
            "  Building wheel for pathtools (setup.py) ... \u001b[?25l\u001b[?25hdone\n",
            "  Created wheel for pathtools: filename=pathtools-0.1.2-cp37-none-any.whl size=8786 sha256=e063fbc497e94a018ab73f22f86335943047a04536e3ee8e835853409fe88a50\n",
            "  Stored in directory: /root/.cache/pip/wheels/0b/04/79/c3b0c3a0266a3cb4376da31e5bfe8bba0c489246968a68e843\n",
            "Successfully built subprocess32 pathtools\n",
            "Installing collected packages: subprocess32, pathtools, sentry-sdk, configparser, smmap, gitdb, GitPython, shortuuid, docker-pycreds, wandb\n",
            "Successfully installed GitPython-3.1.14 configparser-5.0.2 docker-pycreds-0.4.0 gitdb-4.0.7 pathtools-0.1.2 sentry-sdk-1.1.0 shortuuid-1.0.1 smmap-4.0.0 subprocess32-3.5.4 wandb-0.10.29\n",
            "\u001b[34m\u001b[1mwandb\u001b[0m: Appending key for api.wandb.ai to your netrc file: /root/.netrc\n"
          ],
          "name": "stdout"
        }
      ]
    },
    {
      "cell_type": "markdown",
      "metadata": {
        "id": "nxGrCkY2grXK"
      },
      "source": [
        "### Inference Model (without attention)"
      ]
    },
    {
      "cell_type": "code",
      "metadata": {
        "id": "Ozyl__IWdNvo"
      },
      "source": [
        "def create_inference_model(model):\n",
        "    no_enc_layers, no_dec_layers = 0, 0\n",
        "    for layer in model.layers:\n",
        "        no_enc_layers += layer.name.startswith('encoder')\n",
        "        no_dec_layers += layer.name.startswith('decoder')\n",
        "\n",
        "    # Encoder input\n",
        "    encoder_input = model.input[0]      # Input_1\n",
        "    # Encoder cell final layer\n",
        "    encoder_cell = model.get_layer(\"encoder_\"+str(no_enc_layers))\n",
        "    encoder_type = encoder_cell.__class__.__name__\n",
        "    encoder_seq, *encoder_state = encoder_cell.output\n",
        "    # Encoder model\n",
        "    encoder_model = keras.Model(encoder_input, encoder_state)\n",
        "\n",
        "    # Decoder input\n",
        "    decoder_input = model.input[1]      # Input_2\n",
        "    decoder_inp_emb = model.get_layer(\"embedding_2\")(decoder_input)\n",
        "    decoder_seq = decoder_inp_emb\n",
        "    # Inputs to decoder layers' initial states\n",
        "    decoder_states, decoder_state_inputs = [], []\n",
        "    for i in range(1, no_dec_layers+1):\n",
        "        if encoder_type == 'LSTM':\n",
        "            decoder_state_input = [keras.Input(shape=(encoder_state[0].shape[1],), name=\"input_\"+str(2*i+1)), \n",
        "                                   keras.Input(shape=(encoder_state[1].shape[1],), name=\"input_\"+str(2*i+2))]\n",
        "        else:\n",
        "            decoder_state_input = [keras.Input(shape=(encoder_state[0].shape[1],), name=\"input_\"+str(i+2))]\n",
        "\n",
        "        decoder_cell = model.get_layer(\"decoder_\"+str(i))\n",
        "        decoder_seq, *decoder_state = decoder_cell(decoder_seq, initial_state=decoder_state_input)\n",
        "        decoder_states += decoder_state\n",
        "        decoder_state_inputs += decoder_state_input\n",
        "\n",
        "    # Softmax FC layer\n",
        "    decoder_dense = model.get_layer(\"dense_1\")\n",
        "    decoder_dense_output = decoder_dense(decoder_seq)\n",
        "\n",
        "    # Decoder model\n",
        "    decoder_model = keras.Model(\n",
        "        [decoder_input] + decoder_state_inputs, [decoder_dense_output] + decoder_states\n",
        "    )\n",
        "\n",
        "    return encoder_model, decoder_model, no_enc_layers, no_dec_layers\n",
        "\n",
        "\n",
        "def convert_to_word(predictions, char_enc, char_dec = None):\n",
        "    no_samples = len(predictions) if type(predictions) is list else predictions.shape[0]\n",
        "    pred_words = ['' for _ in range(no_samples)]\n",
        "    for i, pred_list in enumerate(predictions):\n",
        "        for l in pred_list:\n",
        "            # Stop word : '\\n'\n",
        "            if l == char_enc['\\n']:\n",
        "                break\n",
        "            pred_words[i] += char_dec[l] if char_dec is not None else l\n",
        "    \n",
        "    return pred_words\n"
      ],
      "execution_count": null,
      "outputs": []
    },
    {
      "cell_type": "markdown",
      "metadata": {
        "id": "nX3bMk8vgjCg"
      },
      "source": [
        "### Beam decoder (with/without attention) for inference"
      ]
    },
    {
      "cell_type": "code",
      "metadata": {
        "id": "qfvzFIUKdYAw"
      },
      "source": [
        "def beam_decoder_infer(model, input_seqs, max_decoder_timesteps, K=1, target_seqs=None, starting_char_enc=0, batch_size=64, attention=False):\n",
        "    # K : beam_width\n",
        "    encoder_model, decoder_model, no_enc_layers, no_dec_layers = create_attention_inference_model(model) if attention else create_inference_model(model)\n",
        "    encoder_output = encoder_model.predict(input_seqs, batch_size=batch_size)\n",
        "    encoder_out = encoder_output if type(encoder_output) is list else [encoder_output]\n",
        "\n",
        "    # Number of input samples in the data passed\n",
        "    no_samples = input_seqs.shape[0]\n",
        "\n",
        "    # Top K output sequences for each input \n",
        "    final_outputs = np.zeros((no_samples, K, max_decoder_timesteps), dtype=np.int32)\n",
        "    # Errors for top K output sequences for each input\n",
        "    final_errors = np.zeros((no_samples, K))\n",
        "    # Attention scores for top K output sequences for each input\n",
        "    final_attn_scores = np.zeros((no_samples, K, max_decoder_timesteps, input_seqs.shape[1]))\n",
        "\n",
        "    # decoder input sequence for 1 timestep (for all samples). Initially one choice only there\n",
        "    decoder_k_inputs = np.zeros((no_samples, 1, 1))\n",
        "    # Populate the input sequence with the start character at the 1st timestep\n",
        "    decoder_k_inputs[:, :, 0] = starting_char_enc\n",
        "\n",
        "    # (log(probability) sequence, decoder output sequence) pairs for all choices and all samples. Probability starts with log(1) = 0\n",
        "    decoder_k_out = [[(0, [])] for _ in range(no_samples)]\n",
        "    # Categorical cross entropy error in the sequence for all choice and all samples\n",
        "    errors = [[0] for _ in range(no_samples)]\n",
        "    # Output states from decoder for all choices, and all samples\n",
        "    states_values  = [encoder_out * no_dec_layers]\n",
        "\n",
        "    # Attention weights output\n",
        "    attn_k_scores = [[None] for _ in range(no_samples)]\n",
        "\n",
        "    # Sampling loop\n",
        "    for it in range(max_decoder_timesteps):\n",
        "\n",
        "        All_k_beams = [[] for _ in range(no_samples)]\n",
        "        All_decoder_states = [[] for _ in range(no_samples)]\n",
        "        All_errors = [[] for _ in range(no_samples)]\n",
        "        All_attn_scores = [[] for _ in range(no_samples)]\n",
        "\n",
        "        for k in range(len(decoder_k_out[0])):\n",
        "            if attention:\n",
        "                attn_score, decoder_output, *decoder_states = decoder_model.predict([input_seqs, decoder_k_inputs[:,k]] + states_values[k], batch_size=batch_size)\n",
        "            else:\n",
        "                decoder_output, *decoder_states = decoder_model.predict([decoder_k_inputs[:,k]] + states_values[k], batch_size=batch_size)\n",
        "\n",
        "            # Top K scores\n",
        "            top_k = np.argsort(decoder_output[:, -1, :], axis=-1)[:, -K:]\n",
        "            for b in range(no_samples):\n",
        "                All_k_beams[b] += [(\n",
        "                    decoder_k_out[b][k][0] + np.log(decoder_output[b, -1, top_k[b][i]]),\n",
        "                    decoder_k_out[b][k][1] + [top_k[b][i]]\n",
        "                ) for i in range(K)]\n",
        "\n",
        "                if attention:\n",
        "                    All_attn_scores[b] += [attn_score[b]] * K if attn_k_scores[b][k] is None \\\n",
        "                                          else [np.concatenate((attn_k_scores[b][k], attn_score[b]), axis=0)] * K\n",
        "            \n",
        "                if target_seqs is not None:\n",
        "                    All_errors[b] += [errors[b][k] - np.log(decoder_output[b, -1, target_seqs[b, it]])] * K\n",
        "                \n",
        "                All_decoder_states[b] += [[state[b:b+1] for state in decoder_states]] * K\n",
        "        \n",
        "        # Sort and choose top K with max probabilities\n",
        "        sorted_ind = list(range(len(All_k_beams[0])))\n",
        "        sorted_ind = [sorted(sorted_ind, key = lambda ix: All_k_beams[b][ix][0])[-K:][::-1] for b in range(no_samples)]\n",
        "        # Choose the top K decoder output sequences till now\n",
        "        decoder_k_out = [[All_k_beams[b][ind] for ind in sorted_ind[b]] for b in range(no_samples)]\n",
        "\n",
        "        # Update the input sequence for next 1 timestep\n",
        "        decoder_k_inputs = np.array([[All_k_beams[b][ind][1][-1] for ind in sorted_ind[b]] for b in range(no_samples)])\n",
        "\n",
        "        # Update states\n",
        "        states_values = [All_decoder_states[0][ind] for ind in sorted_ind[0]]\n",
        "        for b in range(1, no_samples):\n",
        "            states_values = [[np.concatenate((states_values[i][j], All_decoder_states[b][ind][j])) \n",
        "                              for j in range(len(All_decoder_states[b][ind]))] for i,ind in enumerate(sorted_ind[b])]\n",
        "\n",
        "        # Update attention scores\n",
        "        if attention:\n",
        "            attn_k_scores = [[All_attn_scores[b][ind] for ind in sorted_ind[b]] for b in range(no_samples)]\n",
        "\n",
        "        # Update errors\n",
        "        if target_seqs is not None:\n",
        "            errors = [[All_errors[b][ind] for ind in sorted_ind[b]] for b in range(no_samples)]\n",
        "\n",
        "    final_outputs = np.array([[decoder_k_out[b][i][1] for i in range(K)] for b in range(no_samples)])\n",
        "    if target_seqs is not None:\n",
        "        final_errors = np.array(errors) / max_decoder_timesteps\n",
        "    if attention:\n",
        "        final_attn_scores = np.array(attn_k_scores)\n",
        "\n",
        "    return final_outputs, final_errors, np.array(states_values), final_attn_scores\n",
        "\n",
        "def calc_metrics(k_outputs, target_seqs, char_enc, char_dec, k_errors=None, exact_word=True):\n",
        "    # Calculates the accuracy (and mean error if info provided) for the best of K possible output sequences\n",
        "    # target_seqs -- Expected output (encoded sequence)\n",
        "    # k_outputs -- k choices of output sequences for each sample\n",
        "\n",
        "    matches = np.mean(k_outputs == np.repeat(target_seqs.reshape((target_seqs.shape[0], 1, target_seqs.shape[1])), k_outputs.shape[1], axis=1), axis=-1)\n",
        "    best_k = np.argmax(matches, axis=-1)\n",
        "    best_ind = (tuple(range(best_k.shape[0])), tuple(best_k))\n",
        "    accuracy = np.mean(matches[best_ind])\n",
        "\n",
        "    loss = None\n",
        "    if k_errors is not None:\n",
        "        loss = np.mean(k_errors[best_ind])\n",
        "    if exact_word:\n",
        "        equal = [0] * k_outputs.shape[0]\n",
        "        true_out = convert_to_word(target_seqs, char_enc, char_dec)\n",
        "        for k in range(k_outputs.shape[1]):\n",
        "            pred_out = convert_to_word(k_outputs[:,k], char_enc, char_dec)\n",
        "            equal = [equal[i] or (pred_out[i] == true_out[i]) for i in range(k_outputs.shape[0])]\n",
        "        exact_accuracy = np.mean(equal)\n",
        "\n",
        "        return accuracy, exact_accuracy, loss\n",
        "    \n",
        "    return accuracy, loss\n",
        "\n",
        "def beam_decoder(model, input_seqs, target_seqs_onehot, max_decoder_timesteps, char_enc, char_dec, K=1, \n",
        "                 model_batch_size=64, attention=False, infer_batch_size=512, exact_word=True, return_outputs=False, \n",
        "                 return_states=False, return_attn_scores=False):\n",
        "    target_seqs = np.argmax(target_seqs_onehot, axis=-1)\n",
        "    k_outputs, k_errors, k_states, k_attn_scores = None, None, None, None\n",
        "    for i in range(0, input_seqs.shape[0], infer_batch_size):\n",
        "        tmp_k_outputs, tmp_k_errors, tmp_k_states, tmp_k_attn_scores = beam_decoder_infer(model, input_seqs[i:i+infer_batch_size], \n",
        "                                                                                          max_decoder_timesteps, K, \n",
        "                                                                                          target_seqs[i:i+infer_batch_size], char_enc['\\t'], \n",
        "                                                                                          model_batch_size, attention)\n",
        "        if k_errors is None:\n",
        "            k_outputs, k_errors, k_states, k_attn_scores = tmp_k_outputs, tmp_k_errors, tmp_k_states, tmp_k_attn_scores\n",
        "        else:\n",
        "            k_outputs = np.concatenate((k_outputs, tmp_k_outputs))\n",
        "            k_errors = np.concatenate((k_errors, tmp_k_errors))\n",
        "            k_states = np.concatenate((k_states, tmp_k_states), axis=2)\n",
        "            k_attn_scores = np.concatenate((k_attn_scores, tmp_k_attn_scores))\n",
        "\n",
        "    return_elements = []\n",
        "    if return_outputs:\n",
        "        return_elements += [k_outputs]\n",
        "    if return_states:\n",
        "        return_elements += [k_states]\n",
        "    if return_attn_scores:\n",
        "        return_elements += [k_attn_scores]\n",
        "\n",
        "    if len(return_elements) > 0:\n",
        "        return calc_metrics(k_outputs, target_seqs, char_enc, char_dec, k_errors, exact_word) + tuple(return_elements)\n",
        "\n",
        "    return calc_metrics(k_outputs, target_seqs, char_enc, char_dec, k_errors, exact_word)\n"
      ],
      "execution_count": null,
      "outputs": []
    },
    {
      "cell_type": "markdown",
      "metadata": {
        "id": "PzglbAEWgdkX"
      },
      "source": [
        "### Training (without attention)"
      ]
    },
    {
      "cell_type": "code",
      "metadata": {
        "id": "FbxGPFfs_Vtv"
      },
      "source": [
        "class customValidation(keras.callbacks.Callback):\n",
        "    def __init__(self, val_enc_input, val_dec_target, beam_width=1, batch_size=64, attention=False):\n",
        "        self.beam_width = beam_width\n",
        "        self.validation_input = val_enc_input\n",
        "        self.validation_target = val_dec_target\n",
        "        self.batch_size = batch_size\n",
        "        self.attention = attention\n",
        "\n",
        "    def on_epoch_end(self, epoch, logs):\n",
        "        val_accuracy, val_exact_accuracy, val_loss = beam_decoder(self.model, self.validation_input, self.validation_target, max_decoder_seq_length, \n",
        "                                                                  target_char_enc, target_char_dec, self.beam_width, self.batch_size, self.attention)\n",
        "\n",
        "        # Log them to reflect in WANDB callback and EarlyStopping\n",
        "        logs[\"val_accuracy\"] = val_accuracy\n",
        "        logs[\"val_exact_accuracy\"] = val_exact_accuracy\n",
        "        logs[\"val_loss\"] = val_loss             # Validation loss calculates categorical cross entropy loss\n",
        "\n",
        "        print(\"— val_loss: {:.4f} — val_accuracy: {:.4f} — val_exact_accuracy: {:.4f}\".format(val_loss, val_accuracy, val_exact_accuracy))\n"
      ],
      "execution_count": null,
      "outputs": []
    },
    {
      "cell_type": "code",
      "metadata": {
        "id": "ClA5ym6tw2fp"
      },
      "source": [
        "from tensorflow.keras.optimizers import Adam, SGD, RMSprop, Nadam\n",
        "from tensorflow.keras.metrics import categorical_crossentropy\n",
        "from tensorflow.keras.callbacks import EarlyStopping\n",
        "\n",
        "def train_model(model, train_input_data, train_target_data, val_input_data, val_target_data, beam_width = 1, attention = False,\n",
        "                batch_size = 64, optimizer = 'adam', learning_rate = 1e-3, epochs = 10, loss_fn = 'categorical_crossentropy'):\n",
        "    # Function to train the model using the mentioned optimizer, learning rate and epochs using given training and validation data\n",
        "\n",
        "    if optimizer == 'adam':\n",
        "        model.compile(optimizer = Adam(learning_rate=learning_rate), loss = loss_fn, metrics = ['accuracy'])\n",
        "    elif optimizer == 'momentum':\n",
        "        model.compile(optimizer = SGD(learning_rate=learning_rate, momentum = 0.9), loss = loss_fn, metrics = ['accuracy'])\n",
        "    elif optimizer == 'rmsprop':\n",
        "        model.compile(optimizer = RMSprop(learning_rate=learning_rate), loss = loss_fn, metrics = ['accuracy'])\n",
        "    elif optimizer == 'nesterov':\n",
        "        model.compile(optimizer = SGD(learning_rate=learning_rate, momentum = 0.9, nesterov = True), loss = loss_fn, metrics = ['accuracy'])\n",
        "    elif optimizer == 'nadam':\n",
        "        model.compile(optimizer = Nadam(learning_rate=learning_rate), loss = loss_fn, metrics = ['accuracy'])\n",
        "    else:\n",
        "        model.compile(optimizer = SGD(learning_rate=learning_rate), loss = loss_fn, metrics = ['accuracy'])\n",
        "\n",
        "    # Using validation accuracy as the metric to monitor as that is what is intended to be maximized\n",
        "    model.fit(train_input_data,\n",
        "              train_target_data,\n",
        "              batch_size = batch_size,\n",
        "              epochs = epochs, \n",
        "              verbose = 2,\n",
        "              callbacks = [customValidation(val_input_data[0], val_target_data, beam_width, batch_size, attention), \n",
        "                           WandbCallback(monitor='val_accuracy'), EarlyStopping(monitor='val_accuracy', patience=5)])\n",
        "\n",
        "    return model"
      ],
      "execution_count": null,
      "outputs": []
    },
    {
      "cell_type": "code",
      "metadata": {
        "id": "pAUGuzLFZoRg"
      },
      "source": [
        "config_1 = {\n",
        "    \"learning_rate\": 1e-3,                                      # Hyperparameter for updating the parameters in gradient descent\n",
        "    \"epochs\": 10,                                               # Number of epochs to train the model   \n",
        "    \"optimizer\": 'adam',                                        # Gradient descent algorithm used for the parameter updation\n",
        "    \"batch_size\": 64,                                           # Batch size used for the optimizer\n",
        "    \"loss_function\": 'categorical_crossentropy',                # Loss function used in the optimizer\n",
        "    \"architecture\": 'RNN',                                      # Type of neural network used\n",
        "    \"dataset\": \"Dakshina\",                                      # Name of dataset\n",
        "    \"inp_emb_size\": 64,                                         # Number of filters for the first convolution layer\n",
        "    \"no_enc_layers\": 1,                                         # The factor by which the number of filters change in the subseqeuent convolution layers\n",
        "    \"no_dec_layers\": 1,                                         # Number of neurons in the dense FC layer\n",
        "    \"hid_layer_size\": 64,                                       # True : Data augmentation is done during training, False : No data augmentation done\n",
        "    \"dropout\" : 0.25,                                           # Probability of dropping out a neuron in dropout technique\n",
        "    \"cell_type\": 'GRU',\n",
        "    \"beam_width\": 4,\n",
        "    \"attention\": False\n",
        "}\n",
        "\n",
        "import yaml\n",
        "\n",
        "def seq2seq_no_attention(config, load_model=None, wandb_init=True):\n",
        "  if load_model is not None:\n",
        "    api = wandb.Api()\n",
        "    prev_run = api.run('abisheks/assignment3/'+load_model)\n",
        "    prev_model_file = prev_run.file('model-best.h5').download(replace=True)\n",
        "    model = keras.models.load_model(prev_model_file.name)\n",
        "    config_file = prev_run.file('config.yaml').download(replace=True)\n",
        "    with open(config_file.name, 'r') as file:\n",
        "      config = yaml.safe_load(file)\n",
        "  else:\n",
        "    model = create_model(len(input_char_dec), len(target_char_dec), config['inp_emb_size'], config['no_enc_layers'], \n",
        "                         config['no_dec_layers'], config['hid_layer_size'], config['cell_type'], config['dropout'], config['dropout'])\n",
        "  \n",
        "  id = None\n",
        "  if wandb_init:\n",
        "    id = wandb.util.generate_id()\n",
        "    run = wandb.init(id = id, project=\"assignment3\", entity=\"abisheks\", reinit=True, config=config)\n",
        "  \n",
        "  model = train_model(model, [train_enc_input,train_dec_input], train_dec_target, [val_enc_input,val_dec_input], val_dec_target, config['beam_width'],\n",
        "                      config['attention'], config['batch_size'], config['optimizer'], config['learning_rate'], config['epochs'], config['loss_function'])\n",
        "  \n",
        "  if wandb_init:\n",
        "    run.finish()\n",
        "\n",
        "  return model, config, id\n"
      ],
      "execution_count": null,
      "outputs": []
    },
    {
      "cell_type": "code",
      "metadata": {
        "id": "F-t-wAKzh-xl"
      },
      "source": [
        "def infer(model, input_seqs, target_char_enc, target_char_dec, max_decoder_timesteps):\n",
        "    encoder_model, decoder_model, no_enc_layers, no_dec_layers = create_inference_model(model)\n",
        "    # Encoder output which is the input initial state for the decoder\n",
        "    encoder_output = encoder_model.predict(input_seqs)\n",
        "\n",
        "    no_samples, no_decoder_tokens = input_seqs.shape[0], len(target_char_dec)\n",
        "\n",
        "    # Generate empty decoder input sequence for 1 timestep\n",
        "    decoder_input_seq = np.zeros((no_samples, 1))\n",
        "    # Populate the input sequence with the start character at the 1st timestep\n",
        "    decoder_input_seq[:, 0] = target_char_enc[\"\\t\"]\n",
        "\n",
        "    states_value = encoder_output * no_dec_layers if type(encoder_output) is list else [encoder_output] * no_dec_layers\n",
        "    # Sampling loop for a batch of sequences\n",
        "    stop_mask = np.array([False] * no_samples)\n",
        "    stop_condition = False\n",
        "    decoded_words = [\"\"] * no_samples\n",
        "    iterations = 0\n",
        "    while not stop_condition:\n",
        "        decoder_output, *decoder_states = decoder_model.predict([decoder_input_seq] + states_value)\n",
        "\n",
        "        # Sample the tokens\n",
        "        sampled_tokens_enc = np.argmax(decoder_output[:, -1, :], axis=-1)\n",
        "        sampled_chars = [target_char_dec[token] for token in sampled_tokens_enc]\n",
        "        # Update stop_mask\n",
        "        stop_mask = np.array([(stop_mask[i] or sampled_chars[i] == '\\n') for i in range(no_samples)])\n",
        "        # Update the decoded words\n",
        "        decoded_words = [decoded_words[i]+sampled_chars[i] if not stop_mask[i] else decoded_words[i] for i in range(no_samples)]\n",
        "        iterations += 1\n",
        "\n",
        "        # Exit condition: either hit max number of timesteps in decoder or hit stop characters (\"\\n\") in all the decoded words\n",
        "        if np.all(stop_mask) or iterations > max_decoder_timesteps:\n",
        "            stop_condition = True\n",
        "\n",
        "        # Update the target sequence (of length 1).\n",
        "        decoder_input_seq[:, 0] = sampled_tokens_enc\n",
        "\n",
        "        # Update states\n",
        "        states_value = decoder_states\n",
        "\n",
        "    return decoded_words\n",
        "\n",
        "\n",
        "# load_run = 'z5xoybdt'\n",
        "# api = wandb.Api()\n",
        "# run_prev = api.run('abisheks/assignment3/'+load_run)\n",
        "# prev_model_file = run_prev.file('model-best.h5').download(replace=True)\n",
        "# model = tf.keras.models.load_model(prev_model_file.name)\n",
        "# print([layer.name for layer in model.layers])\n",
        "# # predicted_words = infer(model, train_enc_input[:10], target_char_enc, target_char_dec, 21)\n",
        "# # k_pred, _ = beam_decoder_infer(model, train_enc_input[:10], 21, 5)\n",
        "# # for i in range(10):\n",
        "# #     print('-' * 60)\n",
        "# #     print('English word:', train_inp[i])\n",
        "# #     for j in range(5):\n",
        "# #         print(f'Translated word (possibility {j+1}):', convert_to_word(k_pred[i,j,:], target_char_enc, target_char_dec))\n",
        "# acc, error = beam_decoder(model, val_enc_input, val_dec_target, max_decoder_seq_length, target_char_enc, target_char_dec, 5)\n",
        "# print(error, acc)\n"
      ],
      "execution_count": null,
      "outputs": []
    },
    {
      "cell_type": "markdown",
      "metadata": {
        "id": "eqUOQ86Nf8Kr"
      },
      "source": [
        "### Sweep (models without attention)"
      ]
    },
    {
      "cell_type": "code",
      "metadata": {
        "id": "LVUmL1bU4Rkf"
      },
      "source": [
        "# Hyperparameter choices to sweep \n",
        "sweep_config = {\n",
        "    'name': 'RNN',\n",
        "    'method': 'bayes',                   # Possible search : grid, random, bayes\n",
        "    'metric': {\n",
        "      'name': 'val_accuracy',\n",
        "      'goal': 'maximize'   \n",
        "    },\n",
        "    'parameters': {\n",
        "        'inp_emb_size': {\n",
        "            'values': [32, 64, 256]\n",
        "        },\n",
        "        'no_enc_layers': {\n",
        "            'values': [1, 2, 3]\n",
        "        },\n",
        "        'no_dec_layers': {\n",
        "            'values': [1, 2, 3]\n",
        "        },\n",
        "        'hid_layer_size': {\n",
        "            'values': [32, 64, 256]\n",
        "        },\n",
        "        'cell_type': {\n",
        "            'values': ['RNN', 'LSTM', 'GRU']\n",
        "        },\n",
        "        'dropout' :{\n",
        "            'values': [0, 0.25, 0.4]\n",
        "        },\n",
        "        'beam_width': {\n",
        "            'values': [1, 5]\n",
        "        }\n",
        "    }\n",
        "}"
      ],
      "execution_count": null,
      "outputs": []
    },
    {
      "cell_type": "code",
      "metadata": {
        "id": "Sa8cfQE6uZI3"
      },
      "source": [
        "def sweep_wrapper():\n",
        "    # Wrapper function to call the CNN function for sweeping with different hyperparameters\n",
        "\n",
        "    # Initialize a new wandb run\n",
        "    run = wandb.init(config=config_1, reinit=True)\n",
        "\n",
        "    # Config is a variable that holds and saves hyperparameters and inputs\n",
        "    config = wandb.config\n",
        "\n",
        "    wandb.run.name = f'ie_{config.inp_emb_size}_ne_{config.no_enc_layers}_de_{config.no_dec_layers}_ct_{config.cell_type}_dr_{config.dropout}'\n",
        "    wandb.run.name += f'_da_{config.hid_layer_size}_K_{config.beam_width}'\n",
        "    wandb.run.save()\n",
        "    print(wandb.run.name)\n",
        "\n",
        "    model, *_ = seq2seq_no_attention(config, wandb_init=False)\n",
        "    run.finish()"
      ],
      "execution_count": null,
      "outputs": []
    },
    {
      "cell_type": "code",
      "metadata": {
        "id": "qswMgpZe9mqx"
      },
      "source": [
        "# sweep_id = wandb.sweep(sweep_config, entity=\"abisheks\", project=\"assignment3\")\n",
        "# wandb.agent(sweep_id, lambda : sweep_wrapper())"
      ],
      "execution_count": null,
      "outputs": []
    },
    {
      "cell_type": "markdown",
      "metadata": {
        "id": "5I_vU7-Rf4Ar"
      },
      "source": [
        "### Test accuracy and sample input/output for best model (without attention)"
      ]
    },
    {
      "cell_type": "code",
      "metadata": {
        "id": "KMF9NzNiESCT"
      },
      "source": [
        "def levenshtein(s1, s2):\n",
        "    m, n = len(s1)+1, len(s2)+1\n",
        "    # Initialisation\n",
        "    dp = np.zeros((m, n))\n",
        "    # Base case\n",
        "    dp[0,1:] = np.arange(1,n)\n",
        "    dp[1:,0] = np.arange(1,m)\n",
        "\n",
        "    # Recursion\n",
        "    for i in range(1,m):\n",
        "        for j in range(1,n):\n",
        "            if s1[i-1] == s2[j-1]:\n",
        "                dp[i,j] = min(dp[i-1,j-1], dp[i-1,j]+1, dp[i,j-1]+1)\n",
        "            else:\n",
        "                dp[i,j] = min(dp[i,j-1], dp[i-1,j], dp[i-1,j-1]) + 1\n",
        "    \n",
        "    return dp[m-1,n-1]"
      ],
      "execution_count": null,
      "outputs": []
    },
    {
      "cell_type": "code",
      "metadata": {
        "id": "S2ctN_YL8SNv"
      },
      "source": [
        "def test_model(run_id, test_enc_input, test_dec_target, max_decoder_seq_lengthm, target_char_enc, target_char_dec, attention=False):\n",
        "    api = wandb.Api()\n",
        "    prev_run = api.run('abisheks/assignment3/'+run_id)\n",
        "    prev_model_file = prev_run.file('model-best.h5').download(replace=True)\n",
        "    if attention:\n",
        "        model = keras.models.load_model(prev_model_file.name, custom_objects={'AttentionLayer': AttentionLayer})\n",
        "    else:\n",
        "        model = keras.models.load_model(prev_model_file.name)\n",
        "    config_file = prev_run.file('config.yaml').download(replace=True)\n",
        "    with open(config_file.name, 'r') as file:\n",
        "        config = yaml.safe_load(file)\n",
        "    \n",
        "    no_samples, K, batch_size = test_enc_input.shape[0], config['beam_width']['value'], config['batch_size']['value']\n",
        "    acc, exact_K_acc, loss, outputs, attn_scores = beam_decoder(model, test_enc_input, test_dec_target, max_decoder_seq_length, target_char_enc, \n",
        "                                                                target_char_dec, K, batch_size, attention,\n",
        "                                                                return_outputs=True, return_attn_scores=True)\n",
        "    \n",
        "    print(f'Test accuracy (using exact word match with beam width = {K}) : {exact_K_acc*100:.2f}%')\n",
        "\n",
        "    test_target = np.argmax(test_dec_target, axis=-1)\n",
        "    true_out = convert_to_word(test_target, target_char_enc, target_char_dec)\n",
        "    pred_out = [[] for _ in range(no_samples)]\n",
        "    pred_scores = [[] for _ in range(no_samples)]\n",
        "    for k in range(K):\n",
        "        pred = convert_to_word(outputs[:,k], target_char_enc, target_char_dec)\n",
        "        pred_out = [pred_out[b] + [pred[b]] for b in range(no_samples)]\n",
        "        pred_scores = [pred_scores[b] + [levenshtein(pred[b], true_out[b])] for b in range(no_samples)]\n",
        "    \n",
        "    equal = [pred_out[i][0] == true_out[i] for i in range(no_samples)]\n",
        "    exact_acc = np.mean(equal)\n",
        "\n",
        "    print(f'Test accuracy (using exact word match of the first prediction) : {exact_acc*100:.2f}%')\n",
        "    print('\\n')\n",
        "    \n",
        "    if attention:\n",
        "        return acc, exact_K_acc, exact_acc, loss, true_out, pred_out, pred_scores, attn_scores\n",
        "    return acc, exact_K_acc, exact_acc, loss, true_out, pred_out, pred_scores, attn_scores"
      ],
      "execution_count": null,
      "outputs": []
    },
    {
      "cell_type": "code",
      "metadata": {
        "id": "149Lm8kellS0"
      },
      "source": [
        "import matplotlib\n",
        "\n",
        "# get appropriate color for value\n",
        "def get_clr(value, cmap=None):\n",
        "  colors = ['#85c2e1', '#89c4e2', '#95cae5', '#99cce6', '#a1d0e8',\n",
        "    '#b2d9ec', '#baddee', '#c2e1f0', '#eff7fb', '#f9e8e8',\n",
        "    '#f9e8e8', '#f9d4d4', '#f9bdbd', '#f8a8a8', '#f68f8f',\n",
        "    '#f47676', '#f45f5f', '#f34343', '#f33b3b', '#f42e2e']\n",
        "  if cmap is not None:\n",
        "      rgba = matplotlib.cm.get_cmap(cmap)(value)\n",
        "      return 'rgb'+str(tuple([int(c*255) for c in rgba[:-1]]))\n",
        "  value = min(int((value * 100) / 5), 19)\n",
        "  return colors[value]"
      ],
      "execution_count": null,
      "outputs": []
    },
    {
      "cell_type": "code",
      "metadata": {
        "id": "ROfEI42K5mHe"
      },
      "source": [
        "from IPython.display import HTML as html_print\n",
        "from IPython.display import display\n",
        "\n",
        "def print_samples(input, true_out, pred_out, pred_scores):\n",
        "    no_samples = len(true_out)\n",
        "    rand_seq = np.random.randint(no_samples, size=(10,))\n",
        "    print('-'*20 + f' Top {len(pred_scores[0])} predictions in decreasing order of probabilities for 10 random samples ' + '-'*20)\n",
        "    print('')\n",
        "    for i in rand_seq:\n",
        "        K = len(pred_scores[i])\n",
        "        html_str = '''\n",
        "        <table style=\"border:2px solid black; border-collapse:collapse\">\n",
        "        <caption> <strong>INPUT :</strong> {} &emsp; | &emsp; <strong> TRUE OUTPUT : </strong> {} </caption>\n",
        "        <tr>\n",
        "        <th scope=\"row\" style=\"border:1px solid black;padding:10px;text-align:left\"> Top {} Predictions </th>\n",
        "        '''.format(input[i], true_out[i], K)\n",
        "        for k in range(K):\n",
        "            html_str += '''\n",
        "            <td style=\"color:#000;background-color:{};border:1px solid black;padding:10px\"> {} </td>\n",
        "            '''.format(get_clr(pred_scores[i][k]/5, 'coolwarm'), pred_out[i][k])\n",
        "        html_str += '''\n",
        "        </tr>\n",
        "        <tr>\n",
        "        <th scope=\"row\" style=\"border:1px solid black;padding:10px;text-align:left\"> Levenshtein distance (to true output) &emsp; </th>\n",
        "        '''\n",
        "        for k in range(K):\n",
        "            html_str += '''\n",
        "            <td style=\"border:1px solid black;padding:10px\"> {} </td>\n",
        "            '''.format(pred_scores[i][k])\n",
        "        html_str += '''\n",
        "        </tr>\n",
        "        </table>\n",
        "        '''\n",
        "        display(html_print(html_str))\n",
        "        print('\\n\\n')"
      ],
      "execution_count": null,
      "outputs": []
    },
    {
      "cell_type": "code",
      "metadata": {
        "id": "7EBhDu1s8Zw1",
        "colab": {
          "base_uri": "https://localhost:8080/",
          "height": 1000
        },
        "outputId": "4beb189d-7d70-4d19-cf81-f82e957f4fd8"
      },
      "source": [
        "test1_acc, test1_exact_K_acc, test1_exact_acc, test1_loss, test1_true_out, \\\n",
        "test1_pred_out, test1_pred_scores, test1_attn_scores = test_model('ddhrh5hn', test_enc_input, \n",
        "                                                                  test_dec_target, \n",
        "                                                                  max_decoder_seq_length, \n",
        "                                                                  target_char_enc, \n",
        "                                                                  target_char_dec, \n",
        "                                                                  False)\n",
        "print_samples(test_inp, test1_true_out, test1_pred_out, test1_pred_scores)"
      ],
      "execution_count": null,
      "outputs": [
        {
          "output_type": "stream",
          "text": [
            "-------------------- Top 5 predictions in decreasing order of probabilities for 10 random samples --------------------\n",
            "\n"
          ],
          "name": "stdout"
        },
        {
          "output_type": "display_data",
          "data": {
            "text/html": [
              "\n",
              "        <table style=\"border:2px solid black; border-collapse:collapse\">\n",
              "        <caption> <strong>INPUT :</strong> bastiya &emsp; | &emsp; <strong> TRUE OUTPUT : </strong> बस्तियां </caption>\n",
              "        <tr>\n",
              "        <th scope=\"row\" style=\"border:1px solid black;padding:10px;text-align:left\"> Top 5 Predictions </th>\n",
              "        \n",
              "            <td style=\"color:#000;background-color:rgb(241, 202, 182);border:1px solid black;padding:10px\"> बस्तीय </td>\n",
              "            \n",
              "            <td style=\"color:#000;background-color:rgb(123, 158, 248);border:1px solid black;padding:10px\"> बस्तिया </td>\n",
              "            \n",
              "            <td style=\"color:#000;background-color:rgb(192, 211, 245);border:1px solid black;padding:10px\"> बस्तीया </td>\n",
              "            \n",
              "            <td style=\"color:#000;background-color:rgb(237, 132, 103);border:1px solid black;padding:10px\"> बास्तीय </td>\n",
              "            \n",
              "            <td style=\"color:#000;background-color:rgb(192, 211, 245);border:1px solid black;padding:10px\"> बास्तिया </td>\n",
              "            \n",
              "        </tr>\n",
              "        <tr>\n",
              "        <th scope=\"row\" style=\"border:1px solid black;padding:10px;text-align:left\"> Levenshtein distance (to true output) &emsp; </th>\n",
              "        \n",
              "            <td style=\"border:1px solid black;padding:10px\"> 3.0 </td>\n",
              "            \n",
              "            <td style=\"border:1px solid black;padding:10px\"> 1.0 </td>\n",
              "            \n",
              "            <td style=\"border:1px solid black;padding:10px\"> 2.0 </td>\n",
              "            \n",
              "            <td style=\"border:1px solid black;padding:10px\"> 4.0 </td>\n",
              "            \n",
              "            <td style=\"border:1px solid black;padding:10px\"> 2.0 </td>\n",
              "            \n",
              "        </tr>\n",
              "        </table>\n",
              "        "
            ],
            "text/plain": [
              "<IPython.core.display.HTML object>"
            ]
          },
          "metadata": {
            "tags": []
          }
        },
        {
          "output_type": "stream",
          "text": [
            "\n",
            "\n",
            "\n"
          ],
          "name": "stdout"
        },
        {
          "output_type": "display_data",
          "data": {
            "text/html": [
              "\n",
              "        <table style=\"border:2px solid black; border-collapse:collapse\">\n",
              "        <caption> <strong>INPUT :</strong> jen &emsp; | &emsp; <strong> TRUE OUTPUT : </strong> जेन </caption>\n",
              "        <tr>\n",
              "        <th scope=\"row\" style=\"border:1px solid black;padding:10px;text-align:left\"> Top 5 Predictions </th>\n",
              "        \n",
              "            <td style=\"color:#000;background-color:rgb(58, 76, 192);border:1px solid black;padding:10px\"> जेन </td>\n",
              "            \n",
              "            <td style=\"color:#000;background-color:rgb(123, 158, 248);border:1px solid black;padding:10px\"> जीन </td>\n",
              "            \n",
              "            <td style=\"color:#000;background-color:rgb(123, 158, 248);border:1px solid black;padding:10px\"> जैन </td>\n",
              "            \n",
              "            <td style=\"color:#000;background-color:rgb(123, 158, 248);border:1px solid black;padding:10px\"> जें </td>\n",
              "            \n",
              "            <td style=\"color:#000;background-color:rgb(123, 158, 248);border:1px solid black;padding:10px\"> जन </td>\n",
              "            \n",
              "        </tr>\n",
              "        <tr>\n",
              "        <th scope=\"row\" style=\"border:1px solid black;padding:10px;text-align:left\"> Levenshtein distance (to true output) &emsp; </th>\n",
              "        \n",
              "            <td style=\"border:1px solid black;padding:10px\"> 0.0 </td>\n",
              "            \n",
              "            <td style=\"border:1px solid black;padding:10px\"> 1.0 </td>\n",
              "            \n",
              "            <td style=\"border:1px solid black;padding:10px\"> 1.0 </td>\n",
              "            \n",
              "            <td style=\"border:1px solid black;padding:10px\"> 1.0 </td>\n",
              "            \n",
              "            <td style=\"border:1px solid black;padding:10px\"> 1.0 </td>\n",
              "            \n",
              "        </tr>\n",
              "        </table>\n",
              "        "
            ],
            "text/plain": [
              "<IPython.core.display.HTML object>"
            ]
          },
          "metadata": {
            "tags": []
          }
        },
        {
          "output_type": "stream",
          "text": [
            "\n",
            "\n",
            "\n"
          ],
          "name": "stdout"
        },
        {
          "output_type": "display_data",
          "data": {
            "text/html": [
              "\n",
              "        <table style=\"border:2px solid black; border-collapse:collapse\">\n",
              "        <caption> <strong>INPUT :</strong> kelaang &emsp; | &emsp; <strong> TRUE OUTPUT : </strong> केलांग </caption>\n",
              "        <tr>\n",
              "        <th scope=\"row\" style=\"border:1px solid black;padding:10px;text-align:left\"> Top 5 Predictions </th>\n",
              "        \n",
              "            <td style=\"color:#000;background-color:rgb(58, 76, 192);border:1px solid black;padding:10px\"> केलांग </td>\n",
              "            \n",
              "            <td style=\"color:#000;background-color:rgb(123, 158, 248);border:1px solid black;padding:10px\"> केलाग </td>\n",
              "            \n",
              "            <td style=\"color:#000;background-color:rgb(123, 158, 248);border:1px solid black;padding:10px\"> केलाएंग </td>\n",
              "            \n",
              "            <td style=\"color:#000;background-color:rgb(123, 158, 248);border:1px solid black;padding:10px\"> केलंग </td>\n",
              "            \n",
              "            <td style=\"color:#000;background-color:rgb(123, 158, 248);border:1px solid black;padding:10px\"> केलैंग </td>\n",
              "            \n",
              "        </tr>\n",
              "        <tr>\n",
              "        <th scope=\"row\" style=\"border:1px solid black;padding:10px;text-align:left\"> Levenshtein distance (to true output) &emsp; </th>\n",
              "        \n",
              "            <td style=\"border:1px solid black;padding:10px\"> 0.0 </td>\n",
              "            \n",
              "            <td style=\"border:1px solid black;padding:10px\"> 1.0 </td>\n",
              "            \n",
              "            <td style=\"border:1px solid black;padding:10px\"> 1.0 </td>\n",
              "            \n",
              "            <td style=\"border:1px solid black;padding:10px\"> 1.0 </td>\n",
              "            \n",
              "            <td style=\"border:1px solid black;padding:10px\"> 1.0 </td>\n",
              "            \n",
              "        </tr>\n",
              "        </table>\n",
              "        "
            ],
            "text/plain": [
              "<IPython.core.display.HTML object>"
            ]
          },
          "metadata": {
            "tags": []
          }
        },
        {
          "output_type": "stream",
          "text": [
            "\n",
            "\n",
            "\n"
          ],
          "name": "stdout"
        },
        {
          "output_type": "display_data",
          "data": {
            "text/html": [
              "\n",
              "        <table style=\"border:2px solid black; border-collapse:collapse\">\n",
              "        <caption> <strong>INPUT :</strong> munafey &emsp; | &emsp; <strong> TRUE OUTPUT : </strong> मुनाफे </caption>\n",
              "        <tr>\n",
              "        <th scope=\"row\" style=\"border:1px solid black;padding:10px;text-align:left\"> Top 5 Predictions </th>\n",
              "        \n",
              "            <td style=\"color:#000;background-color:rgb(58, 76, 192);border:1px solid black;padding:10px\"> मुनाफे </td>\n",
              "            \n",
              "            <td style=\"color:#000;background-color:rgb(123, 158, 248);border:1px solid black;padding:10px\"> मुनाफी </td>\n",
              "            \n",
              "            <td style=\"color:#000;background-color:rgb(123, 158, 248);border:1px solid black;padding:10px\"> मूनाफे </td>\n",
              "            \n",
              "            <td style=\"color:#000;background-color:rgb(123, 158, 248);border:1px solid black;padding:10px\"> मुनाफ़े </td>\n",
              "            \n",
              "            <td style=\"color:#000;background-color:rgb(192, 211, 245);border:1px solid black;padding:10px\"> मुनेफा </td>\n",
              "            \n",
              "        </tr>\n",
              "        <tr>\n",
              "        <th scope=\"row\" style=\"border:1px solid black;padding:10px;text-align:left\"> Levenshtein distance (to true output) &emsp; </th>\n",
              "        \n",
              "            <td style=\"border:1px solid black;padding:10px\"> 0.0 </td>\n",
              "            \n",
              "            <td style=\"border:1px solid black;padding:10px\"> 1.0 </td>\n",
              "            \n",
              "            <td style=\"border:1px solid black;padding:10px\"> 1.0 </td>\n",
              "            \n",
              "            <td style=\"border:1px solid black;padding:10px\"> 1.0 </td>\n",
              "            \n",
              "            <td style=\"border:1px solid black;padding:10px\"> 2.0 </td>\n",
              "            \n",
              "        </tr>\n",
              "        </table>\n",
              "        "
            ],
            "text/plain": [
              "<IPython.core.display.HTML object>"
            ]
          },
          "metadata": {
            "tags": []
          }
        },
        {
          "output_type": "stream",
          "text": [
            "\n",
            "\n",
            "\n"
          ],
          "name": "stdout"
        },
        {
          "output_type": "display_data",
          "data": {
            "text/html": [
              "\n",
              "        <table style=\"border:2px solid black; border-collapse:collapse\">\n",
              "        <caption> <strong>INPUT :</strong> dbs &emsp; | &emsp; <strong> TRUE OUTPUT : </strong> डीबीएस </caption>\n",
              "        <tr>\n",
              "        <th scope=\"row\" style=\"border:1px solid black;padding:10px;text-align:left\"> Top 5 Predictions </th>\n",
              "        \n",
              "            <td style=\"color:#000;background-color:rgb(58, 76, 192);border:1px solid black;padding:10px\"> डीबीएस </td>\n",
              "            \n",
              "            <td style=\"color:#000;background-color:rgb(123, 158, 248);border:1px solid black;padding:10px\"> डीबीएसी </td>\n",
              "            \n",
              "            <td style=\"color:#000;background-color:rgb(123, 158, 248);border:1px solid black;padding:10px\"> डबीएस </td>\n",
              "            \n",
              "            <td style=\"color:#000;background-color:rgb(123, 158, 248);border:1px solid black;padding:10px\"> डीजीएस </td>\n",
              "            \n",
              "            <td style=\"color:#000;background-color:rgb(123, 158, 248);border:1px solid black;padding:10px\"> डीबीएल </td>\n",
              "            \n",
              "        </tr>\n",
              "        <tr>\n",
              "        <th scope=\"row\" style=\"border:1px solid black;padding:10px;text-align:left\"> Levenshtein distance (to true output) &emsp; </th>\n",
              "        \n",
              "            <td style=\"border:1px solid black;padding:10px\"> 0.0 </td>\n",
              "            \n",
              "            <td style=\"border:1px solid black;padding:10px\"> 1.0 </td>\n",
              "            \n",
              "            <td style=\"border:1px solid black;padding:10px\"> 1.0 </td>\n",
              "            \n",
              "            <td style=\"border:1px solid black;padding:10px\"> 1.0 </td>\n",
              "            \n",
              "            <td style=\"border:1px solid black;padding:10px\"> 1.0 </td>\n",
              "            \n",
              "        </tr>\n",
              "        </table>\n",
              "        "
            ],
            "text/plain": [
              "<IPython.core.display.HTML object>"
            ]
          },
          "metadata": {
            "tags": []
          }
        },
        {
          "output_type": "stream",
          "text": [
            "\n",
            "\n",
            "\n"
          ],
          "name": "stdout"
        },
        {
          "output_type": "display_data",
          "data": {
            "text/html": [
              "\n",
              "        <table style=\"border:2px solid black; border-collapse:collapse\">\n",
              "        <caption> <strong>INPUT :</strong> swarnakal &emsp; | &emsp; <strong> TRUE OUTPUT : </strong> स्वर्णकाल </caption>\n",
              "        <tr>\n",
              "        <th scope=\"row\" style=\"border:1px solid black;padding:10px;text-align:left\"> Top 5 Predictions </th>\n",
              "        \n",
              "            <td style=\"color:#000;background-color:rgb(58, 76, 192);border:1px solid black;padding:10px\"> स्वर्णकाल </td>\n",
              "            \n",
              "            <td style=\"color:#000;background-color:rgb(123, 158, 248);border:1px solid black;padding:10px\"> स्वर्णकल </td>\n",
              "            \n",
              "            <td style=\"color:#000;background-color:rgb(123, 158, 248);border:1px solid black;padding:10px\"> स्वरणकाल </td>\n",
              "            \n",
              "            <td style=\"color:#000;background-color:rgb(123, 158, 248);border:1px solid black;padding:10px\"> स्वर्नकाल </td>\n",
              "            \n",
              "            <td style=\"color:#000;background-color:rgb(123, 158, 248);border:1px solid black;padding:10px\"> स्वार्णकाल </td>\n",
              "            \n",
              "        </tr>\n",
              "        <tr>\n",
              "        <th scope=\"row\" style=\"border:1px solid black;padding:10px;text-align:left\"> Levenshtein distance (to true output) &emsp; </th>\n",
              "        \n",
              "            <td style=\"border:1px solid black;padding:10px\"> 0.0 </td>\n",
              "            \n",
              "            <td style=\"border:1px solid black;padding:10px\"> 1.0 </td>\n",
              "            \n",
              "            <td style=\"border:1px solid black;padding:10px\"> 1.0 </td>\n",
              "            \n",
              "            <td style=\"border:1px solid black;padding:10px\"> 1.0 </td>\n",
              "            \n",
              "            <td style=\"border:1px solid black;padding:10px\"> 1.0 </td>\n",
              "            \n",
              "        </tr>\n",
              "        </table>\n",
              "        "
            ],
            "text/plain": [
              "<IPython.core.display.HTML object>"
            ]
          },
          "metadata": {
            "tags": []
          }
        },
        {
          "output_type": "stream",
          "text": [
            "\n",
            "\n",
            "\n"
          ],
          "name": "stdout"
        },
        {
          "output_type": "display_data",
          "data": {
            "text/html": [
              "\n",
              "        <table style=\"border:2px solid black; border-collapse:collapse\">\n",
              "        <caption> <strong>INPUT :</strong> live &emsp; | &emsp; <strong> TRUE OUTPUT : </strong> लाइव </caption>\n",
              "        <tr>\n",
              "        <th scope=\"row\" style=\"border:1px solid black;padding:10px;text-align:left\"> Top 5 Predictions </th>\n",
              "        \n",
              "            <td style=\"color:#000;background-color:rgb(58, 76, 192);border:1px solid black;padding:10px\"> लाइव </td>\n",
              "            \n",
              "            <td style=\"color:#000;background-color:rgb(192, 211, 245);border:1px solid black;padding:10px\"> लिव </td>\n",
              "            \n",
              "            <td style=\"color:#000;background-color:rgb(192, 211, 245);border:1px solid black;padding:10px\"> लीव </td>\n",
              "            \n",
              "            <td style=\"color:#000;background-color:rgb(241, 202, 182);border:1px solid black;padding:10px\"> लिवे </td>\n",
              "            \n",
              "            <td style=\"color:#000;background-color:rgb(241, 202, 182);border:1px solid black;padding:10px\"> लिवी </td>\n",
              "            \n",
              "        </tr>\n",
              "        <tr>\n",
              "        <th scope=\"row\" style=\"border:1px solid black;padding:10px;text-align:left\"> Levenshtein distance (to true output) &emsp; </th>\n",
              "        \n",
              "            <td style=\"border:1px solid black;padding:10px\"> 0.0 </td>\n",
              "            \n",
              "            <td style=\"border:1px solid black;padding:10px\"> 2.0 </td>\n",
              "            \n",
              "            <td style=\"border:1px solid black;padding:10px\"> 2.0 </td>\n",
              "            \n",
              "            <td style=\"border:1px solid black;padding:10px\"> 3.0 </td>\n",
              "            \n",
              "            <td style=\"border:1px solid black;padding:10px\"> 3.0 </td>\n",
              "            \n",
              "        </tr>\n",
              "        </table>\n",
              "        "
            ],
            "text/plain": [
              "<IPython.core.display.HTML object>"
            ]
          },
          "metadata": {
            "tags": []
          }
        },
        {
          "output_type": "stream",
          "text": [
            "\n",
            "\n",
            "\n"
          ],
          "name": "stdout"
        },
        {
          "output_type": "display_data",
          "data": {
            "text/html": [
              "\n",
              "        <table style=\"border:2px solid black; border-collapse:collapse\">\n",
              "        <caption> <strong>INPUT :</strong> enzymes &emsp; | &emsp; <strong> TRUE OUTPUT : </strong> एंजाइम्स </caption>\n",
              "        <tr>\n",
              "        <th scope=\"row\" style=\"border:1px solid black;padding:10px;text-align:left\"> Top 5 Predictions </th>\n",
              "        \n",
              "            <td style=\"color:#000;background-color:rgb(237, 132, 103);border:1px solid black;padding:10px\"> इंजेमिस </td>\n",
              "            \n",
              "            <td style=\"color:#000;background-color:rgb(179, 3, 38);border:1px solid black;padding:10px\"> इन्जीमेस </td>\n",
              "            \n",
              "            <td style=\"color:#000;background-color:rgb(237, 132, 103);border:1px solid black;padding:10px\"> इंजीमेस </td>\n",
              "            \n",
              "            <td style=\"color:#000;background-color:rgb(179, 3, 38);border:1px solid black;padding:10px\"> इंज्वेन </td>\n",
              "            \n",
              "            <td style=\"color:#000;background-color:rgb(179, 3, 38);border:1px solid black;padding:10px\"> एन्जीमेस </td>\n",
              "            \n",
              "        </tr>\n",
              "        <tr>\n",
              "        <th scope=\"row\" style=\"border:1px solid black;padding:10px;text-align:left\"> Levenshtein distance (to true output) &emsp; </th>\n",
              "        \n",
              "            <td style=\"border:1px solid black;padding:10px\"> 4.0 </td>\n",
              "            \n",
              "            <td style=\"border:1px solid black;padding:10px\"> 6.0 </td>\n",
              "            \n",
              "            <td style=\"border:1px solid black;padding:10px\"> 4.0 </td>\n",
              "            \n",
              "            <td style=\"border:1px solid black;padding:10px\"> 6.0 </td>\n",
              "            \n",
              "            <td style=\"border:1px solid black;padding:10px\"> 5.0 </td>\n",
              "            \n",
              "        </tr>\n",
              "        </table>\n",
              "        "
            ],
            "text/plain": [
              "<IPython.core.display.HTML object>"
            ]
          },
          "metadata": {
            "tags": []
          }
        },
        {
          "output_type": "stream",
          "text": [
            "\n",
            "\n",
            "\n"
          ],
          "name": "stdout"
        },
        {
          "output_type": "display_data",
          "data": {
            "text/html": [
              "\n",
              "        <table style=\"border:2px solid black; border-collapse:collapse\">\n",
              "        <caption> <strong>INPUT :</strong> lions &emsp; | &emsp; <strong> TRUE OUTPUT : </strong> लायंस </caption>\n",
              "        <tr>\n",
              "        <th scope=\"row\" style=\"border:1px solid black;padding:10px;text-align:left\"> Top 5 Predictions </th>\n",
              "        \n",
              "            <td style=\"color:#000;background-color:rgb(58, 76, 192);border:1px solid black;padding:10px\"> लायंस </td>\n",
              "            \n",
              "            <td style=\"color:#000;background-color:rgb(123, 158, 248);border:1px solid black;padding:10px\"> लाइंस </td>\n",
              "            \n",
              "            <td style=\"color:#000;background-color:rgb(123, 158, 248);border:1px solid black;padding:10px\"> लियंस </td>\n",
              "            \n",
              "            <td style=\"color:#000;background-color:rgb(192, 211, 245);border:1px solid black;padding:10px\"> लिएंस </td>\n",
              "            \n",
              "            <td style=\"color:#000;background-color:rgb(192, 211, 245);border:1px solid black;padding:10px\"> लायन्स </td>\n",
              "            \n",
              "        </tr>\n",
              "        <tr>\n",
              "        <th scope=\"row\" style=\"border:1px solid black;padding:10px;text-align:left\"> Levenshtein distance (to true output) &emsp; </th>\n",
              "        \n",
              "            <td style=\"border:1px solid black;padding:10px\"> 0.0 </td>\n",
              "            \n",
              "            <td style=\"border:1px solid black;padding:10px\"> 1.0 </td>\n",
              "            \n",
              "            <td style=\"border:1px solid black;padding:10px\"> 1.0 </td>\n",
              "            \n",
              "            <td style=\"border:1px solid black;padding:10px\"> 2.0 </td>\n",
              "            \n",
              "            <td style=\"border:1px solid black;padding:10px\"> 2.0 </td>\n",
              "            \n",
              "        </tr>\n",
              "        </table>\n",
              "        "
            ],
            "text/plain": [
              "<IPython.core.display.HTML object>"
            ]
          },
          "metadata": {
            "tags": []
          }
        },
        {
          "output_type": "stream",
          "text": [
            "\n",
            "\n",
            "\n"
          ],
          "name": "stdout"
        },
        {
          "output_type": "display_data",
          "data": {
            "text/html": [
              "\n",
              "        <table style=\"border:2px solid black; border-collapse:collapse\">\n",
              "        <caption> <strong>INPUT :</strong> massage &emsp; | &emsp; <strong> TRUE OUTPUT : </strong> मसाज </caption>\n",
              "        <tr>\n",
              "        <th scope=\"row\" style=\"border:1px solid black;padding:10px;text-align:left\"> Top 5 Predictions </th>\n",
              "        \n",
              "            <td style=\"color:#000;background-color:rgb(241, 202, 182);border:1px solid black;padding:10px\"> मसाएगे </td>\n",
              "            \n",
              "            <td style=\"color:#000;background-color:rgb(241, 202, 182);border:1px solid black;padding:10px\"> मसंगे </td>\n",
              "            \n",
              "            <td style=\"color:#000;background-color:rgb(241, 202, 182);border:1px solid black;padding:10px\"> मस्लेज </td>\n",
              "            \n",
              "            <td style=\"color:#000;background-color:rgb(241, 202, 182);border:1px solid black;padding:10px\"> मसांगे </td>\n",
              "            \n",
              "            <td style=\"color:#000;background-color:rgb(241, 202, 182);border:1px solid black;padding:10px\"> मस्सेज </td>\n",
              "            \n",
              "        </tr>\n",
              "        <tr>\n",
              "        <th scope=\"row\" style=\"border:1px solid black;padding:10px;text-align:left\"> Levenshtein distance (to true output) &emsp; </th>\n",
              "        \n",
              "            <td style=\"border:1px solid black;padding:10px\"> 3.0 </td>\n",
              "            \n",
              "            <td style=\"border:1px solid black;padding:10px\"> 3.0 </td>\n",
              "            \n",
              "            <td style=\"border:1px solid black;padding:10px\"> 3.0 </td>\n",
              "            \n",
              "            <td style=\"border:1px solid black;padding:10px\"> 3.0 </td>\n",
              "            \n",
              "            <td style=\"border:1px solid black;padding:10px\"> 3.0 </td>\n",
              "            \n",
              "        </tr>\n",
              "        </table>\n",
              "        "
            ],
            "text/plain": [
              "<IPython.core.display.HTML object>"
            ]
          },
          "metadata": {
            "tags": []
          }
        },
        {
          "output_type": "stream",
          "text": [
            "\n",
            "\n",
            "\n"
          ],
          "name": "stdout"
        }
      ]
    },
    {
      "cell_type": "markdown",
      "metadata": {
        "id": "J3SXOwppmVux"
      },
      "source": [
        "# Seq2Seq Model (with Attention)"
      ]
    },
    {
      "cell_type": "markdown",
      "metadata": {
        "id": "HPnn4m3Fg6WY"
      },
      "source": [
        "### Creating Custom Attention layer"
      ]
    },
    {
      "cell_type": "code",
      "metadata": {
        "id": "KE3M6O-LXlII"
      },
      "source": [
        "from keras.layers import Layer\n",
        "import keras.backend as K\n",
        "\n",
        "class AttentionLayer(Layer):\n",
        "    \"\"\"\n",
        "    This Attention layer class code is used from : https://github.com/thushv89/attention_keras/blob/master/src/layers/attention.py\n",
        "    This class implements Bahdanau attention (https://arxiv.org/pdf/1409.0473.pdf).\n",
        "    There are three sets of weights introduced W_a, U_a, and V_a\n",
        "    \"\"\"\n",
        "\n",
        "    def __init__(self, **kwargs):\n",
        "        super(AttentionLayer, self).__init__(**kwargs)\n",
        "\n",
        "    def build(self, input_shape):\n",
        "        assert isinstance(input_shape, list)\n",
        "        # Create a trainable weight variable for this layer.\n",
        "\n",
        "        self.W_a = self.add_weight(name='W_a',\n",
        "                                   shape=tf.TensorShape((input_shape[0][2], input_shape[0][2])),\n",
        "                                   initializer='uniform',\n",
        "                                   trainable=True)\n",
        "        self.U_a = self.add_weight(name='U_a',\n",
        "                                   shape=tf.TensorShape((input_shape[1][2], input_shape[0][2])),\n",
        "                                   initializer='uniform',\n",
        "                                   trainable=True)\n",
        "        self.V_a = self.add_weight(name='V_a',\n",
        "                                   shape=tf.TensorShape((input_shape[0][2], 1)),\n",
        "                                   initializer='uniform',\n",
        "                                   trainable=True)\n",
        "\n",
        "        super(AttentionLayer, self).build(input_shape)  # Be sure to call this at the end\n",
        "\n",
        "    def call(self, inputs, verbose=False):\n",
        "        \"\"\"\n",
        "        inputs: [encoder_output_sequence, decoder_output_sequence]\n",
        "        \"\"\"\n",
        "        assert type(inputs) == list\n",
        "        encoder_out_seq, decoder_out_seq = inputs\n",
        "        if verbose:\n",
        "            print('encoder_out_seq>', encoder_out_seq.shape)\n",
        "            print('decoder_out_seq>', decoder_out_seq.shape)\n",
        "\n",
        "        def energy_step(inputs, states):\n",
        "            \"\"\" Step function for computing energy for a single decoder state\n",
        "            inputs: (batchsize * 1 * de_in_dim)\n",
        "            states: (batchsize * 1 * de_latent_dim)\n",
        "            \"\"\"\n",
        "\n",
        "            assert_msg = \"States must be an iterable. Got {} of type {}\".format(states, type(states))\n",
        "            assert isinstance(states, list) or isinstance(states, tuple), assert_msg\n",
        "\n",
        "            \"\"\" Some parameters required for shaping tensors\"\"\"\n",
        "            en_seq_len, en_hidden = encoder_out_seq.shape[1], encoder_out_seq.shape[2]\n",
        "            de_hidden = inputs.shape[-1]\n",
        "\n",
        "            \"\"\" Computing S.Wa where S=[s0, s1, ..., si]\"\"\"\n",
        "            # <= batch size * en_seq_len * latent_dim\n",
        "            W_a_dot_s = K.dot(encoder_out_seq, self.W_a)\n",
        "\n",
        "            \"\"\" Computing hj.Ua \"\"\"\n",
        "            U_a_dot_h = K.expand_dims(K.dot(inputs, self.U_a), 1)  # <= batch_size, 1, latent_dim\n",
        "            if verbose:\n",
        "                print('Ua.h>', U_a_dot_h.shape)\n",
        "\n",
        "            \"\"\" tanh(S.Wa + hj.Ua) \"\"\"\n",
        "            # <= batch_size*en_seq_len, latent_dim\n",
        "            Ws_plus_Uh = K.tanh(W_a_dot_s + U_a_dot_h)\n",
        "            if verbose:\n",
        "                print('Ws+Uh>', Ws_plus_Uh.shape)\n",
        "\n",
        "            \"\"\" softmax(va.tanh(S.Wa + hj.Ua)) \"\"\"\n",
        "            # <= batch_size, en_seq_len\n",
        "            e_i = K.squeeze(K.dot(Ws_plus_Uh, self.V_a), axis=-1)\n",
        "            # <= batch_size, en_seq_len\n",
        "            e_i = K.softmax(e_i)\n",
        "\n",
        "            if verbose:\n",
        "                print('ei>', e_i.shape)\n",
        "\n",
        "            return e_i, [e_i]\n",
        "\n",
        "        def context_step(inputs, states):\n",
        "            \"\"\" Step function for computing ci using ei \"\"\"\n",
        "\n",
        "            assert_msg = \"States must be an iterable. Got {} of type {}\".format(states, type(states))\n",
        "            assert isinstance(states, list) or isinstance(states, tuple), assert_msg\n",
        "\n",
        "            # <= batch_size, hidden_size\n",
        "            c_i = K.sum(encoder_out_seq * K.expand_dims(inputs, -1), axis=1)\n",
        "            if verbose:\n",
        "                print('ci>', c_i.shape)\n",
        "            return c_i, [c_i]\n",
        "\n",
        "        fake_state_c = K.sum(encoder_out_seq, axis=1)\n",
        "        fake_state_e = K.sum(encoder_out_seq, axis=2)  # <= (batch_size, enc_seq_len, latent_dim\n",
        "\n",
        "        \"\"\" Computing energy outputs \"\"\"\n",
        "        # e_outputs => (batch_size, de_seq_len, en_seq_len)\n",
        "        last_out, e_outputs, _ = K.rnn(\n",
        "            energy_step, decoder_out_seq, [fake_state_e],\n",
        "        )\n",
        "\n",
        "        \"\"\" Computing context vectors \"\"\"\n",
        "        last_out, c_outputs, _ = K.rnn(\n",
        "            context_step, e_outputs, [fake_state_c],\n",
        "        )\n",
        "\n",
        "        return c_outputs, e_outputs\n",
        "\n",
        "    def compute_output_shape(self, input_shape):\n",
        "        \"\"\" Outputs produced by the layer \"\"\"\n",
        "        return [\n",
        "            # (batch_size, decoder_timesteps, decoder_hid_layer_size)\n",
        "            tf.TensorShape((input_shape[1][0], input_shape[1][1], input_shape[1][2])),\n",
        "            # (batch_size, decoder_timesteps, encoder_timesteps)\n",
        "            tf.TensorShape((input_shape[1][0], input_shape[1][1], input_shape[0][1]))\n",
        "        ]"
      ],
      "execution_count": null,
      "outputs": []
    },
    {
      "cell_type": "markdown",
      "metadata": {
        "id": "HsYMPjkIhB3B"
      },
      "source": [
        "### Creating model (with attention)"
      ]
    },
    {
      "cell_type": "code",
      "metadata": {
        "id": "WB6bPH59m0cA"
      },
      "source": [
        "def create_attention_model(encoder_vocab_size, decoder_vocab_size, inp_emb_size=16, no_enc_layers=1, no_dec_layers=1, \n",
        "                           hid_layer_size=32, cell_type='LSTM', dropout=0, r_dropout=0, cell_activation='tanh'):\n",
        "    get_cell = {\n",
        "        'RNN': keras.layers.SimpleRNN,\n",
        "        'GRU': keras.layers.GRU,\n",
        "        'LSTM': keras.layers.LSTM\n",
        "    }\n",
        "    # Encoder input and embedding\n",
        "    encoder_input = keras.layers.Input(shape=(None,), name=\"input_1\")\n",
        "    encoder_inp_emb = keras.layers.Embedding(encoder_vocab_size, inp_emb_size, name=\"embedding_1\")(encoder_input)\n",
        "\n",
        "    # Encoder cell layers\n",
        "    encoder_seq, *encoder_state = get_cell[cell_type](hid_layer_size, activation=cell_activation, return_sequences=True, return_state=True, \n",
        "                                                      dropout=dropout, recurrent_dropout=r_dropout, name=\"encoder_1\")(\n",
        "                                                            encoder_inp_emb\n",
        "                                                     )\n",
        "    for i in range(1, no_enc_layers):\n",
        "        encoder_seq, *encoder_state = get_cell[cell_type](hid_layer_size, activation=cell_activation, return_sequences=True, return_state=True, \n",
        "                                                          dropout=dropout, recurrent_dropout=r_dropout, name=\"encoder_\"+str(i+1))(\n",
        "                                                                encoder_seq\n",
        "                                                         )\n",
        "    # Decoder input and embedding\n",
        "    decoder_input = keras.layers.Input(shape=(None,), name=\"input_2\")\n",
        "    decoder_inp_emb = keras.layers.Embedding(decoder_vocab_size, inp_emb_size, name=\"embedding_2\")(decoder_input)\n",
        "    decoder_seq = decoder_inp_emb\n",
        "    # Decoder cell layers\n",
        "    for i in range(no_dec_layers-1):\n",
        "        decoder_seq, *_ = get_cell[cell_type](hid_layer_size, activation=cell_activation, return_sequences=True, return_state=True, \n",
        "                                              dropout=dropout, recurrent_dropout=r_dropout, name=\"decoder_\"+str(i+1))(\n",
        "                                                    decoder_seq, initial_state=encoder_state\n",
        "                                             )\n",
        "    # Decoder last layer\n",
        "    decoder_seq, *_ = get_cell[cell_type](hid_layer_size, activation=cell_activation, return_sequences=True, return_state=True, \n",
        "                                          dropout=dropout, recurrent_dropout=r_dropout, name=\"decoder_1\")(\n",
        "                                                decoder_inp_emb, initial_state=encoder_state\n",
        "                                         )\n",
        "\n",
        "    # Attention layer\n",
        "    attn_out, attn_scores = AttentionLayer(name='attention_1')([encoder_seq, decoder_seq])        # Bahdanau Attention\n",
        "    # Concat attention output and decoder output\n",
        "    dense_concat_input = keras.layers.Concatenate(axis=-1, name='concat_layer_1')([decoder_seq, attn_out])\n",
        "\n",
        "    # Time distributed Softmax FC layer\n",
        "    decoder_dense_layer = keras.layers.Dense(decoder_vocab_size, activation=\"softmax\", name=\"dense_1\")\n",
        "    decoder_dense_output = decoder_dense_layer(dense_concat_input)\n",
        "\n",
        "    # Define the model that will turn encoder_input_data and decoder_input_data into decoder_target_data\n",
        "    model = keras.Model([encoder_input, decoder_input], decoder_dense_output)\n",
        "\n",
        "    model.summary()\n",
        "    return model"
      ],
      "execution_count": null,
      "outputs": []
    },
    {
      "cell_type": "markdown",
      "metadata": {
        "id": "f79BleNNgJTe"
      },
      "source": [
        "### Inference Model (with attention)"
      ]
    },
    {
      "cell_type": "code",
      "metadata": {
        "id": "7aBpevCUYHww"
      },
      "source": [
        "def create_attention_inference_model(model):\n",
        "    no_enc_layers, no_dec_layers = 0, 0\n",
        "    for layer in model.layers:\n",
        "        no_enc_layers += layer.name.startswith('encoder')\n",
        "        no_dec_layers += layer.name.startswith('decoder')\n",
        "\n",
        "    # Encoder input\n",
        "    encoder_input = model.input[0]      # Input_1\n",
        "    # Encoder cell final layer\n",
        "    encoder_cell = model.get_layer(\"encoder_\"+str(no_enc_layers))\n",
        "    encoder_type = encoder_cell.__class__.__name__\n",
        "    encoder_seq, *encoder_state = encoder_cell.output\n",
        "    # Encoder model\n",
        "    encoder_model = keras.Model(encoder_input, encoder_state)\n",
        "\n",
        "    # Decoder input\n",
        "    decoder_input = model.input[1]      # Input_2\n",
        "    decoder_inp_emb = model.get_layer(\"embedding_2\")(decoder_input)\n",
        "    decoder_seq = decoder_inp_emb\n",
        "    # Inputs to decoder layers' initial states\n",
        "    decoder_states, decoder_state_inputs = [], []\n",
        "    for i in range(1, no_dec_layers+1):\n",
        "        if encoder_type == 'LSTM':\n",
        "            decoder_state_input = [keras.Input(shape=(encoder_state[0].shape[1],), name=\"input_\"+str(2*i+1)), \n",
        "                                   keras.Input(shape=(encoder_state[1].shape[1],), name=\"input_\"+str(2*i+2))]\n",
        "        else:\n",
        "            decoder_state_input = [keras.Input(shape=(encoder_state[0].shape[1],), name=\"input_\"+str(i+2))]\n",
        "\n",
        "        decoder_cell = model.get_layer(\"decoder_\"+str(i))\n",
        "        decoder_seq, *decoder_state = decoder_cell(decoder_seq, initial_state=decoder_state_input)\n",
        "        decoder_states += decoder_state\n",
        "        decoder_state_inputs += decoder_state_input\n",
        "\n",
        "    # Attention layer\n",
        "    attn_out, attn_scores = model.get_layer('attention_1')([encoder_seq, decoder_seq])        # Bahdanau Attention\n",
        "    # Concat attention input and decoder output\n",
        "    dense_concat_input = keras.layers.Concatenate(axis=-1, name='concat_layer_1')([decoder_seq, attn_out])\n",
        "\n",
        "    # Time distributed Softmax FC layer\n",
        "    decoder_dense = model.get_layer(\"dense_1\")\n",
        "    decoder_dense_output = decoder_dense(dense_concat_input)\n",
        "\n",
        "    # Decoder model\n",
        "    decoder_model = keras.Model(\n",
        "        [encoder_input, decoder_input] + decoder_state_inputs, [attn_scores, decoder_dense_output] + decoder_states\n",
        "    )\n",
        "\n",
        "    return encoder_model, decoder_model, no_enc_layers, no_dec_layers"
      ],
      "execution_count": null,
      "outputs": []
    },
    {
      "cell_type": "markdown",
      "metadata": {
        "id": "KHO1Q-r_gOq3"
      },
      "source": [
        "### Model training (with attention)"
      ]
    },
    {
      "cell_type": "code",
      "metadata": {
        "id": "2iDn4vNlgJSp"
      },
      "source": [
        "config_2 = {\n",
        "    \"learning_rate\": 1e-3,                                      # Hyperparameter for updating the parameters in gradient descent\n",
        "    \"epochs\": 10,                                               # Number of epochs to train the model   \n",
        "    \"optimizer\": 'adam',                                        # Gradient descent algorithm used for the parameter updation\n",
        "    \"batch_size\": 64,                                           # Batch size used for the optimizer\n",
        "    \"loss_function\": 'categorical_crossentropy',                # Loss function used in the optimizer\n",
        "    \"architecture\": 'RNN',                                      # Type of neural network used\n",
        "    \"dataset\": \"Dakshina\",                                      # Name of dataset\n",
        "    \"inp_emb_size\": 64,                                         # Number of filters for the first convolution layer\n",
        "    \"no_enc_layers\": 1,                                         # The factor by which the number of filters change in the subseqeuent convolution layers\n",
        "    \"no_dec_layers\": 1,                                         # Number of neurons in the dense FC layer\n",
        "    \"hid_layer_size\": 64,                                       # True : Data augmentation is done during training, False : No data augmentation done\n",
        "    \"dropout\" : 0.25,                                           # Probability of dropping out a neuron in dropout technique\n",
        "    \"cell_type\": 'GRU',\n",
        "    \"beam_width\": 4,\n",
        "    \"attention\": True\n",
        "}\n",
        "\n",
        "def seq2seq_attention(config, load_model=None, wandb_init=True):\n",
        "  if load_model is not None:\n",
        "    api = wandb.Api()\n",
        "    prev_run = api.run('abisheks/assignment3/'+load_model)\n",
        "    prev_model_file = prev_run.file('model-best.h5').download(replace=True)\n",
        "    model = keras.models.load_model(prev_model_file.name, custom_objects={'AttentionLayer': AttentionLayer})\n",
        "    config_file = prev_run.file('config.yaml').download(replace=True)\n",
        "    with open(config_file.name, 'r') as file:\n",
        "      config = yaml.safe_load(file)\n",
        "  else:\n",
        "    model = create_attention_model(len(input_char_dec), len(target_char_dec), config['inp_emb_size'], config['no_enc_layers'], \n",
        "                                   config['no_dec_layers'], config['hid_layer_size'], config['cell_type'], config['dropout'], config['dropout'])\n",
        "  \n",
        "  id = None\n",
        "  if wandb_init:\n",
        "    id = wandb.util.generate_id()\n",
        "    run = wandb.init(id = id, project=\"assignment3\", entity=\"abisheks\", reinit=True, config=config)\n",
        "  \n",
        "  model = train_model(model, [train_enc_input,train_dec_input], train_dec_target, [val_enc_input,val_dec_input], val_dec_target, config['beam_width'],\n",
        "                      config['attention'], config['batch_size'], config['optimizer'], config['learning_rate'], config['epochs'], config['loss_function'])\n",
        "  \n",
        "  if wandb_init:\n",
        "    run.finish()\n",
        "\n",
        "  return model, config, id\n"
      ],
      "execution_count": null,
      "outputs": []
    },
    {
      "cell_type": "markdown",
      "metadata": {
        "id": "dubHhha3gE7J"
      },
      "source": [
        "### Sweep (models with attention)"
      ]
    },
    {
      "cell_type": "code",
      "metadata": {
        "id": "cqnAi_FNgPZ5"
      },
      "source": [
        "def attention_sweep_wrapper():\n",
        "    # Wrapper function to call the CNN function for sweeping with different hyperparameters\n",
        "\n",
        "    # Initialize a new wandb run\n",
        "    run = wandb.init(config=config_2, reinit=True)\n",
        "\n",
        "    # Config is a variable that holds and saves hyperparameters and inputs\n",
        "    config = wandb.config\n",
        "\n",
        "    wandb.run.name = f'ie_{config.inp_emb_size}_ne_{config.no_enc_layers}_de_{config.no_dec_layers}_ct_{config.cell_type}_dr_{config.dropout}'\n",
        "    wandb.run.name += f'_da_{config.hid_layer_size}_K_{config.beam_width}'\n",
        "    wandb.run.save()\n",
        "    print(wandb.run.name)\n",
        "\n",
        "    model, *_ = seq2seq_attention(config, wandb_init=False)\n",
        "    run.finish()"
      ],
      "execution_count": null,
      "outputs": []
    },
    {
      "cell_type": "code",
      "metadata": {
        "id": "3D-hWnWs18u5"
      },
      "source": [
        "# Hyperparameter choices to sweep \n",
        "sweep_config_2 = {\n",
        "    'name': 'RNN_Attention',\n",
        "    'method': 'bayes',                   # Possible search : grid, random, bayes\n",
        "    'metric': {\n",
        "      'name': 'val_accuracy',\n",
        "      'goal': 'maximize'   \n",
        "    },\n",
        "    'parameters': {\n",
        "        'inp_emb_size': {\n",
        "            'values': [32, 64, 256]\n",
        "        },\n",
        "        'no_enc_layers': {\n",
        "            'values': [1, 2, 3]\n",
        "        },\n",
        "        'no_dec_layers': {\n",
        "            'values': [1, 2, 3]\n",
        "        },\n",
        "        'hid_layer_size': {\n",
        "            'values': [32, 64, 256]\n",
        "        },\n",
        "        'cell_type': {\n",
        "            'values': ['RNN', 'LSTM', 'GRU']\n",
        "        },\n",
        "        'dropout' :{\n",
        "            'values': [0, 0.25, 0.4]\n",
        "        },\n",
        "        'beam_width': {\n",
        "            'values': [1, 5]\n",
        "        }\n",
        "    }\n",
        "}"
      ],
      "execution_count": null,
      "outputs": []
    },
    {
      "cell_type": "code",
      "metadata": {
        "id": "wbD9OeH-hz33"
      },
      "source": [
        "# sweep_id = wandb.sweep(sweep_config_2, entity=\"abisheks\", project=\"assignment3\")\n",
        "# sweep_id = 'abisheks/assignment3/lz39smms'\n",
        "# wandb.agent(sweep_id, lambda : attention_sweep_wrapper())"
      ],
      "execution_count": null,
      "outputs": []
    },
    {
      "cell_type": "markdown",
      "metadata": {
        "id": "OeDBnl1gJSzl"
      },
      "source": [
        "### Test accuracy and sample input/output for best model (with attention)"
      ]
    },
    {
      "cell_type": "code",
      "metadata": {
        "colab": {
          "base_uri": "https://localhost:8080/",
          "height": 1000
        },
        "id": "OeryZFPWJeHi",
        "outputId": "fc149da8-da55-4f8d-fa21-809025493aa6"
      },
      "source": [
        "test2_acc, test2_exact_K_acc, test2_exact_acc, test2_loss, test2_true_out, \\\n",
        "test2_pred_out, test2_pred_scores, test2_attn_scores = test_model('n9rer9pl', test_enc_input, \n",
        "                                                                  test_dec_target, \n",
        "                                                                  max_decoder_seq_length, \n",
        "                                                                  target_char_enc, \n",
        "                                                                  target_char_dec, \n",
        "                                                                  True)\n",
        "print_samples(test_inp, test2_true_out, test2_pred_out, test2_pred_scores)"
      ],
      "execution_count": null,
      "outputs": [
        {
          "output_type": "stream",
          "text": [
            "-------------------- Top 5 predictions in decreasing order of probabilities for 10 random samples --------------------\n",
            "\n"
          ],
          "name": "stdout"
        },
        {
          "output_type": "display_data",
          "data": {
            "text/html": [
              "\n",
              "        <table style=\"border:2px solid black; border-collapse:collapse\">\n",
              "        <caption> <strong>INPUT :</strong> ankahi &emsp; | &emsp; <strong> TRUE OUTPUT : </strong> अनकही </caption>\n",
              "        <tr>\n",
              "        <th scope=\"row\" style=\"border:1px solid black;padding:10px;text-align:left\"> Top 5 Predictions </th>\n",
              "        \n",
              "            <td style=\"color:#000;background-color:rgb(58, 76, 192);border:1px solid black;padding:10px\"> अनकही </td>\n",
              "            \n",
              "            <td style=\"color:#000;background-color:rgb(123, 158, 248);border:1px solid black;padding:10px\"> अनकाही </td>\n",
              "            \n",
              "            <td style=\"color:#000;background-color:rgb(123, 158, 248);border:1px solid black;padding:10px\"> अंकही </td>\n",
              "            \n",
              "            <td style=\"color:#000;background-color:rgb(192, 211, 245);border:1px solid black;padding:10px\"> आंकही </td>\n",
              "            \n",
              "            <td style=\"color:#000;background-color:rgb(192, 211, 245);border:1px solid black;padding:10px\"> अंकाही </td>\n",
              "            \n",
              "        </tr>\n",
              "        <tr>\n",
              "        <th scope=\"row\" style=\"border:1px solid black;padding:10px;text-align:left\"> Levenshtein distance (to true output) &emsp; </th>\n",
              "        \n",
              "            <td style=\"border:1px solid black;padding:10px\"> 0.0 </td>\n",
              "            \n",
              "            <td style=\"border:1px solid black;padding:10px\"> 1.0 </td>\n",
              "            \n",
              "            <td style=\"border:1px solid black;padding:10px\"> 1.0 </td>\n",
              "            \n",
              "            <td style=\"border:1px solid black;padding:10px\"> 2.0 </td>\n",
              "            \n",
              "            <td style=\"border:1px solid black;padding:10px\"> 2.0 </td>\n",
              "            \n",
              "        </tr>\n",
              "        </table>\n",
              "        "
            ],
            "text/plain": [
              "<IPython.core.display.HTML object>"
            ]
          },
          "metadata": {
            "tags": []
          }
        },
        {
          "output_type": "stream",
          "text": [
            "\n",
            "\n",
            "\n"
          ],
          "name": "stdout"
        },
        {
          "output_type": "display_data",
          "data": {
            "text/html": [
              "\n",
              "        <table style=\"border:2px solid black; border-collapse:collapse\">\n",
              "        <caption> <strong>INPUT :</strong> dumra &emsp; | &emsp; <strong> TRUE OUTPUT : </strong> डुमरा </caption>\n",
              "        <tr>\n",
              "        <th scope=\"row\" style=\"border:1px solid black;padding:10px;text-align:left\"> Top 5 Predictions </th>\n",
              "        \n",
              "            <td style=\"color:#000;background-color:rgb(123, 158, 248);border:1px solid black;padding:10px\"> दुमरा </td>\n",
              "            \n",
              "            <td style=\"color:#000;background-color:rgb(192, 211, 245);border:1px solid black;padding:10px\"> दूमरा </td>\n",
              "            \n",
              "            <td style=\"color:#000;background-color:rgb(58, 76, 192);border:1px solid black;padding:10px\"> डुमरा </td>\n",
              "            \n",
              "            <td style=\"color:#000;background-color:rgb(123, 158, 248);border:1px solid black;padding:10px\"> डूमरा </td>\n",
              "            \n",
              "            <td style=\"color:#000;background-color:rgb(192, 211, 245);border:1px solid black;padding:10px\"> दुम्रा </td>\n",
              "            \n",
              "        </tr>\n",
              "        <tr>\n",
              "        <th scope=\"row\" style=\"border:1px solid black;padding:10px;text-align:left\"> Levenshtein distance (to true output) &emsp; </th>\n",
              "        \n",
              "            <td style=\"border:1px solid black;padding:10px\"> 1.0 </td>\n",
              "            \n",
              "            <td style=\"border:1px solid black;padding:10px\"> 2.0 </td>\n",
              "            \n",
              "            <td style=\"border:1px solid black;padding:10px\"> 0.0 </td>\n",
              "            \n",
              "            <td style=\"border:1px solid black;padding:10px\"> 1.0 </td>\n",
              "            \n",
              "            <td style=\"border:1px solid black;padding:10px\"> 2.0 </td>\n",
              "            \n",
              "        </tr>\n",
              "        </table>\n",
              "        "
            ],
            "text/plain": [
              "<IPython.core.display.HTML object>"
            ]
          },
          "metadata": {
            "tags": []
          }
        },
        {
          "output_type": "stream",
          "text": [
            "\n",
            "\n",
            "\n"
          ],
          "name": "stdout"
        },
        {
          "output_type": "display_data",
          "data": {
            "text/html": [
              "\n",
              "        <table style=\"border:2px solid black; border-collapse:collapse\">\n",
              "        <caption> <strong>INPUT :</strong> pahalgaam &emsp; | &emsp; <strong> TRUE OUTPUT : </strong> पहलगाम </caption>\n",
              "        <tr>\n",
              "        <th scope=\"row\" style=\"border:1px solid black;padding:10px;text-align:left\"> Top 5 Predictions </th>\n",
              "        \n",
              "            <td style=\"color:#000;background-color:rgb(58, 76, 192);border:1px solid black;padding:10px\"> पहलगाम </td>\n",
              "            \n",
              "            <td style=\"color:#000;background-color:rgb(123, 158, 248);border:1px solid black;padding:10px\"> पहालगाम </td>\n",
              "            \n",
              "            <td style=\"color:#000;background-color:rgb(123, 158, 248);border:1px solid black;padding:10px\"> पहल्गाम </td>\n",
              "            \n",
              "            <td style=\"color:#000;background-color:rgb(123, 158, 248);border:1px solid black;padding:10px\"> पाहलगाम </td>\n",
              "            \n",
              "            <td style=\"color:#000;background-color:rgb(123, 158, 248);border:1px solid black;padding:10px\"> पहलघाम </td>\n",
              "            \n",
              "        </tr>\n",
              "        <tr>\n",
              "        <th scope=\"row\" style=\"border:1px solid black;padding:10px;text-align:left\"> Levenshtein distance (to true output) &emsp; </th>\n",
              "        \n",
              "            <td style=\"border:1px solid black;padding:10px\"> 0.0 </td>\n",
              "            \n",
              "            <td style=\"border:1px solid black;padding:10px\"> 1.0 </td>\n",
              "            \n",
              "            <td style=\"border:1px solid black;padding:10px\"> 1.0 </td>\n",
              "            \n",
              "            <td style=\"border:1px solid black;padding:10px\"> 1.0 </td>\n",
              "            \n",
              "            <td style=\"border:1px solid black;padding:10px\"> 1.0 </td>\n",
              "            \n",
              "        </tr>\n",
              "        </table>\n",
              "        "
            ],
            "text/plain": [
              "<IPython.core.display.HTML object>"
            ]
          },
          "metadata": {
            "tags": []
          }
        },
        {
          "output_type": "stream",
          "text": [
            "\n",
            "\n",
            "\n"
          ],
          "name": "stdout"
        },
        {
          "output_type": "display_data",
          "data": {
            "text/html": [
              "\n",
              "        <table style=\"border:2px solid black; border-collapse:collapse\">\n",
              "        <caption> <strong>INPUT :</strong> laaganey &emsp; | &emsp; <strong> TRUE OUTPUT : </strong> लागने </caption>\n",
              "        <tr>\n",
              "        <th scope=\"row\" style=\"border:1px solid black;padding:10px;text-align:left\"> Top 5 Predictions </th>\n",
              "        \n",
              "            <td style=\"color:#000;background-color:rgb(58, 76, 192);border:1px solid black;padding:10px\"> लागने </td>\n",
              "            \n",
              "            <td style=\"color:#000;background-color:rgb(123, 158, 248);border:1px solid black;padding:10px\"> लागणे </td>\n",
              "            \n",
              "            <td style=\"color:#000;background-color:rgb(123, 158, 248);border:1px solid black;padding:10px\"> लागाने </td>\n",
              "            \n",
              "            <td style=\"color:#000;background-color:rgb(123, 158, 248);border:1px solid black;padding:10px\"> लाग्ने </td>\n",
              "            \n",
              "            <td style=\"color:#000;background-color:rgb(123, 158, 248);border:1px solid black;padding:10px\"> लागनें </td>\n",
              "            \n",
              "        </tr>\n",
              "        <tr>\n",
              "        <th scope=\"row\" style=\"border:1px solid black;padding:10px;text-align:left\"> Levenshtein distance (to true output) &emsp; </th>\n",
              "        \n",
              "            <td style=\"border:1px solid black;padding:10px\"> 0.0 </td>\n",
              "            \n",
              "            <td style=\"border:1px solid black;padding:10px\"> 1.0 </td>\n",
              "            \n",
              "            <td style=\"border:1px solid black;padding:10px\"> 1.0 </td>\n",
              "            \n",
              "            <td style=\"border:1px solid black;padding:10px\"> 1.0 </td>\n",
              "            \n",
              "            <td style=\"border:1px solid black;padding:10px\"> 1.0 </td>\n",
              "            \n",
              "        </tr>\n",
              "        </table>\n",
              "        "
            ],
            "text/plain": [
              "<IPython.core.display.HTML object>"
            ]
          },
          "metadata": {
            "tags": []
          }
        },
        {
          "output_type": "stream",
          "text": [
            "\n",
            "\n",
            "\n"
          ],
          "name": "stdout"
        },
        {
          "output_type": "display_data",
          "data": {
            "text/html": [
              "\n",
              "        <table style=\"border:2px solid black; border-collapse:collapse\">\n",
              "        <caption> <strong>INPUT :</strong> languria &emsp; | &emsp; <strong> TRUE OUTPUT : </strong> लांगुरिया </caption>\n",
              "        <tr>\n",
              "        <th scope=\"row\" style=\"border:1px solid black;padding:10px;text-align:left\"> Top 5 Predictions </th>\n",
              "        \n",
              "            <td style=\"color:#000;background-color:rgb(123, 158, 248);border:1px solid black;padding:10px\"> लंगुरिया </td>\n",
              "            \n",
              "            <td style=\"color:#000;background-color:rgb(192, 211, 245);border:1px solid black;padding:10px\"> लंगूरिया </td>\n",
              "            \n",
              "            <td style=\"color:#000;background-color:rgb(123, 158, 248);border:1px solid black;padding:10px\"> लैंगुरिया </td>\n",
              "            \n",
              "            <td style=\"color:#000;background-color:rgb(58, 76, 192);border:1px solid black;padding:10px\"> लांगुरिया </td>\n",
              "            \n",
              "            <td style=\"color:#000;background-color:rgb(241, 202, 182);border:1px solid black;padding:10px\"> लंगुरिए </td>\n",
              "            \n",
              "        </tr>\n",
              "        <tr>\n",
              "        <th scope=\"row\" style=\"border:1px solid black;padding:10px;text-align:left\"> Levenshtein distance (to true output) &emsp; </th>\n",
              "        \n",
              "            <td style=\"border:1px solid black;padding:10px\"> 1.0 </td>\n",
              "            \n",
              "            <td style=\"border:1px solid black;padding:10px\"> 2.0 </td>\n",
              "            \n",
              "            <td style=\"border:1px solid black;padding:10px\"> 1.0 </td>\n",
              "            \n",
              "            <td style=\"border:1px solid black;padding:10px\"> 0.0 </td>\n",
              "            \n",
              "            <td style=\"border:1px solid black;padding:10px\"> 3.0 </td>\n",
              "            \n",
              "        </tr>\n",
              "        </table>\n",
              "        "
            ],
            "text/plain": [
              "<IPython.core.display.HTML object>"
            ]
          },
          "metadata": {
            "tags": []
          }
        },
        {
          "output_type": "stream",
          "text": [
            "\n",
            "\n",
            "\n"
          ],
          "name": "stdout"
        },
        {
          "output_type": "display_data",
          "data": {
            "text/html": [
              "\n",
              "        <table style=\"border:2px solid black; border-collapse:collapse\">\n",
              "        <caption> <strong>INPUT :</strong> barsana &emsp; | &emsp; <strong> TRUE OUTPUT : </strong> बरसाना </caption>\n",
              "        <tr>\n",
              "        <th scope=\"row\" style=\"border:1px solid black;padding:10px;text-align:left\"> Top 5 Predictions </th>\n",
              "        \n",
              "            <td style=\"color:#000;background-color:rgb(58, 76, 192);border:1px solid black;padding:10px\"> बरसाना </td>\n",
              "            \n",
              "            <td style=\"color:#000;background-color:rgb(123, 158, 248);border:1px solid black;padding:10px\"> बरसना </td>\n",
              "            \n",
              "            <td style=\"color:#000;background-color:rgb(192, 211, 245);border:1px solid black;padding:10px\"> बारसना </td>\n",
              "            \n",
              "            <td style=\"color:#000;background-color:rgb(123, 158, 248);border:1px solid black;padding:10px\"> बारसाना </td>\n",
              "            \n",
              "            <td style=\"color:#000;background-color:rgb(192, 211, 245);border:1px solid black;padding:10px\"> बर्सना </td>\n",
              "            \n",
              "        </tr>\n",
              "        <tr>\n",
              "        <th scope=\"row\" style=\"border:1px solid black;padding:10px;text-align:left\"> Levenshtein distance (to true output) &emsp; </th>\n",
              "        \n",
              "            <td style=\"border:1px solid black;padding:10px\"> 0.0 </td>\n",
              "            \n",
              "            <td style=\"border:1px solid black;padding:10px\"> 1.0 </td>\n",
              "            \n",
              "            <td style=\"border:1px solid black;padding:10px\"> 2.0 </td>\n",
              "            \n",
              "            <td style=\"border:1px solid black;padding:10px\"> 1.0 </td>\n",
              "            \n",
              "            <td style=\"border:1px solid black;padding:10px\"> 2.0 </td>\n",
              "            \n",
              "        </tr>\n",
              "        </table>\n",
              "        "
            ],
            "text/plain": [
              "<IPython.core.display.HTML object>"
            ]
          },
          "metadata": {
            "tags": []
          }
        },
        {
          "output_type": "stream",
          "text": [
            "\n",
            "\n",
            "\n"
          ],
          "name": "stdout"
        },
        {
          "output_type": "display_data",
          "data": {
            "text/html": [
              "\n",
              "        <table style=\"border:2px solid black; border-collapse:collapse\">\n",
              "        <caption> <strong>INPUT :</strong> aadhipatya &emsp; | &emsp; <strong> TRUE OUTPUT : </strong> आधिपत्य </caption>\n",
              "        <tr>\n",
              "        <th scope=\"row\" style=\"border:1px solid black;padding:10px;text-align:left\"> Top 5 Predictions </th>\n",
              "        \n",
              "            <td style=\"color:#000;background-color:rgb(58, 76, 192);border:1px solid black;padding:10px\"> आधिपत्य </td>\n",
              "            \n",
              "            <td style=\"color:#000;background-color:rgb(123, 158, 248);border:1px solid black;padding:10px\"> आधिपत्या </td>\n",
              "            \n",
              "            <td style=\"color:#000;background-color:rgb(123, 158, 248);border:1px solid black;padding:10px\"> आधिपात्य </td>\n",
              "            \n",
              "            <td style=\"color:#000;background-color:rgb(123, 158, 248);border:1px solid black;padding:10px\"> आधीपत्य </td>\n",
              "            \n",
              "            <td style=\"color:#000;background-color:rgb(241, 202, 182);border:1px solid black;padding:10px\"> आधिपत्यत्य </td>\n",
              "            \n",
              "        </tr>\n",
              "        <tr>\n",
              "        <th scope=\"row\" style=\"border:1px solid black;padding:10px;text-align:left\"> Levenshtein distance (to true output) &emsp; </th>\n",
              "        \n",
              "            <td style=\"border:1px solid black;padding:10px\"> 0.0 </td>\n",
              "            \n",
              "            <td style=\"border:1px solid black;padding:10px\"> 1.0 </td>\n",
              "            \n",
              "            <td style=\"border:1px solid black;padding:10px\"> 1.0 </td>\n",
              "            \n",
              "            <td style=\"border:1px solid black;padding:10px\"> 1.0 </td>\n",
              "            \n",
              "            <td style=\"border:1px solid black;padding:10px\"> 3.0 </td>\n",
              "            \n",
              "        </tr>\n",
              "        </table>\n",
              "        "
            ],
            "text/plain": [
              "<IPython.core.display.HTML object>"
            ]
          },
          "metadata": {
            "tags": []
          }
        },
        {
          "output_type": "stream",
          "text": [
            "\n",
            "\n",
            "\n"
          ],
          "name": "stdout"
        },
        {
          "output_type": "display_data",
          "data": {
            "text/html": [
              "\n",
              "        <table style=\"border:2px solid black; border-collapse:collapse\">\n",
              "        <caption> <strong>INPUT :</strong> combo &emsp; | &emsp; <strong> TRUE OUTPUT : </strong> कोंबो </caption>\n",
              "        <tr>\n",
              "        <th scope=\"row\" style=\"border:1px solid black;padding:10px;text-align:left\"> Top 5 Predictions </th>\n",
              "        \n",
              "            <td style=\"color:#000;background-color:rgb(58, 76, 192);border:1px solid black;padding:10px\"> कोंबो </td>\n",
              "            \n",
              "            <td style=\"color:#000;background-color:rgb(123, 158, 248);border:1px solid black;padding:10px\"> कंबो </td>\n",
              "            \n",
              "            <td style=\"color:#000;background-color:rgb(123, 158, 248);border:1px solid black;padding:10px\"> कांबो </td>\n",
              "            \n",
              "            <td style=\"color:#000;background-color:rgb(123, 158, 248);border:1px solid black;padding:10px\"> कॉंबो </td>\n",
              "            \n",
              "            <td style=\"color:#000;background-color:rgb(123, 158, 248);border:1px solid black;padding:10px\"> कोमबो </td>\n",
              "            \n",
              "        </tr>\n",
              "        <tr>\n",
              "        <th scope=\"row\" style=\"border:1px solid black;padding:10px;text-align:left\"> Levenshtein distance (to true output) &emsp; </th>\n",
              "        \n",
              "            <td style=\"border:1px solid black;padding:10px\"> 0.0 </td>\n",
              "            \n",
              "            <td style=\"border:1px solid black;padding:10px\"> 1.0 </td>\n",
              "            \n",
              "            <td style=\"border:1px solid black;padding:10px\"> 1.0 </td>\n",
              "            \n",
              "            <td style=\"border:1px solid black;padding:10px\"> 1.0 </td>\n",
              "            \n",
              "            <td style=\"border:1px solid black;padding:10px\"> 1.0 </td>\n",
              "            \n",
              "        </tr>\n",
              "        </table>\n",
              "        "
            ],
            "text/plain": [
              "<IPython.core.display.HTML object>"
            ]
          },
          "metadata": {
            "tags": []
          }
        },
        {
          "output_type": "stream",
          "text": [
            "\n",
            "\n",
            "\n"
          ],
          "name": "stdout"
        },
        {
          "output_type": "display_data",
          "data": {
            "text/html": [
              "\n",
              "        <table style=\"border:2px solid black; border-collapse:collapse\">\n",
              "        <caption> <strong>INPUT :</strong> nasht &emsp; | &emsp; <strong> TRUE OUTPUT : </strong> नष्ट </caption>\n",
              "        <tr>\n",
              "        <th scope=\"row\" style=\"border:1px solid black;padding:10px;text-align:left\"> Top 5 Predictions </th>\n",
              "        \n",
              "            <td style=\"color:#000;background-color:rgb(192, 211, 245);border:1px solid black;padding:10px\"> नश्त </td>\n",
              "            \n",
              "            <td style=\"color:#000;background-color:rgb(123, 158, 248);border:1px solid black;padding:10px\"> नाष्ट </td>\n",
              "            \n",
              "            <td style=\"color:#000;background-color:rgb(241, 202, 182);border:1px solid black;padding:10px\"> नाश्त </td>\n",
              "            \n",
              "            <td style=\"color:#000;background-color:rgb(123, 158, 248);border:1px solid black;padding:10px\"> नश्ट </td>\n",
              "            \n",
              "            <td style=\"color:#000;background-color:rgb(192, 211, 245);border:1px solid black;padding:10px\"> नाश्ट </td>\n",
              "            \n",
              "        </tr>\n",
              "        <tr>\n",
              "        <th scope=\"row\" style=\"border:1px solid black;padding:10px;text-align:left\"> Levenshtein distance (to true output) &emsp; </th>\n",
              "        \n",
              "            <td style=\"border:1px solid black;padding:10px\"> 2.0 </td>\n",
              "            \n",
              "            <td style=\"border:1px solid black;padding:10px\"> 1.0 </td>\n",
              "            \n",
              "            <td style=\"border:1px solid black;padding:10px\"> 3.0 </td>\n",
              "            \n",
              "            <td style=\"border:1px solid black;padding:10px\"> 1.0 </td>\n",
              "            \n",
              "            <td style=\"border:1px solid black;padding:10px\"> 2.0 </td>\n",
              "            \n",
              "        </tr>\n",
              "        </table>\n",
              "        "
            ],
            "text/plain": [
              "<IPython.core.display.HTML object>"
            ]
          },
          "metadata": {
            "tags": []
          }
        },
        {
          "output_type": "stream",
          "text": [
            "\n",
            "\n",
            "\n"
          ],
          "name": "stdout"
        },
        {
          "output_type": "display_data",
          "data": {
            "text/html": [
              "\n",
              "        <table style=\"border:2px solid black; border-collapse:collapse\">\n",
              "        <caption> <strong>INPUT :</strong> arch &emsp; | &emsp; <strong> TRUE OUTPUT : </strong> आर्च </caption>\n",
              "        <tr>\n",
              "        <th scope=\"row\" style=\"border:1px solid black;padding:10px;text-align:left\"> Top 5 Predictions </th>\n",
              "        \n",
              "            <td style=\"color:#000;background-color:rgb(123, 158, 248);border:1px solid black;padding:10px\"> आरच </td>\n",
              "            \n",
              "            <td style=\"color:#000;background-color:rgb(192, 211, 245);border:1px solid black;padding:10px\"> आरची </td>\n",
              "            \n",
              "            <td style=\"color:#000;background-color:rgb(192, 211, 245);border:1px solid black;padding:10px\"> आरचे </td>\n",
              "            \n",
              "            <td style=\"color:#000;background-color:rgb(123, 158, 248);border:1px solid black;padding:10px\"> आर्क </td>\n",
              "            \n",
              "            <td style=\"color:#000;background-color:rgb(241, 202, 182);border:1px solid black;padding:10px\"> एरची </td>\n",
              "            \n",
              "        </tr>\n",
              "        <tr>\n",
              "        <th scope=\"row\" style=\"border:1px solid black;padding:10px;text-align:left\"> Levenshtein distance (to true output) &emsp; </th>\n",
              "        \n",
              "            <td style=\"border:1px solid black;padding:10px\"> 1.0 </td>\n",
              "            \n",
              "            <td style=\"border:1px solid black;padding:10px\"> 2.0 </td>\n",
              "            \n",
              "            <td style=\"border:1px solid black;padding:10px\"> 2.0 </td>\n",
              "            \n",
              "            <td style=\"border:1px solid black;padding:10px\"> 1.0 </td>\n",
              "            \n",
              "            <td style=\"border:1px solid black;padding:10px\"> 3.0 </td>\n",
              "            \n",
              "        </tr>\n",
              "        </table>\n",
              "        "
            ],
            "text/plain": [
              "<IPython.core.display.HTML object>"
            ]
          },
          "metadata": {
            "tags": []
          }
        },
        {
          "output_type": "stream",
          "text": [
            "\n",
            "\n",
            "\n"
          ],
          "name": "stdout"
        }
      ]
    },
    {
      "cell_type": "markdown",
      "metadata": {
        "id": "8J4yMOmoJfrD"
      },
      "source": [
        "### Attention heatmaps for best model"
      ]
    },
    {
      "cell_type": "code",
      "metadata": {
        "colab": {
          "base_uri": "https://localhost:8080/"
        },
        "id": "bGZD6tI1ANU2",
        "outputId": "00b9eb5a-ccb5-4d9d-8eb2-c1674dc8bdeb"
      },
      "source": [
        "!wget -P fonts \"https://www.fontsquirrel.com/fonts/download/vesper-libre\"\n",
        "%cd fonts\n",
        "!unzip vesper-libre\n",
        "!mv VesperLibre-Regular.ttf /usr/share/fonts/truetype/\n",
        "%cd ../\n",
        "!fc-list :lang=hi family"
      ],
      "execution_count": null,
      "outputs": [
        {
          "output_type": "stream",
          "text": [
            "--2021-05-06 20:49:34--  https://www.fontsquirrel.com/fonts/download/vesper-libre\n",
            "Resolving www.fontsquirrel.com (www.fontsquirrel.com)... 45.79.150.110, 2600:3c03::f03c:91ff:fe37:ba29\n",
            "Connecting to www.fontsquirrel.com (www.fontsquirrel.com)|45.79.150.110|:443... connected.\n",
            "HTTP request sent, awaiting response... 200 OK\n",
            "Length: 371600 (363K) [application/octet-stream]\n",
            "Saving to: ‘fonts/vesper-libre’\n",
            "\n",
            "vesper-libre        100%[===================>] 362.89K  --.-KB/s    in 0.05s   \n",
            "\n",
            "2021-05-06 20:49:34 (6.48 MB/s) - ‘fonts/vesper-libre’ saved [371600/371600]\n",
            "\n",
            "/content/fonts\n",
            "Archive:  vesper-libre\n",
            "  inflating: VesperLibre-Regular.ttf  \n",
            "  inflating: VesperLibre-Medium.ttf  \n",
            "  inflating: VesperLibre-Bold.ttf    \n",
            "  inflating: VesperLibre-Heavy.ttf   \n",
            "  inflating: SIL Open Font License.txt  \n",
            "/content\n",
            "Vesper Libre\n"
          ],
          "name": "stdout"
        }
      ]
    },
    {
      "cell_type": "code",
      "metadata": {
        "id": "tIwMyRQa9Hb4",
        "colab": {
          "base_uri": "https://localhost:8080/",
          "height": 1000,
          "referenced_widgets": [
            "122f8cb162aa4cb99b00a0f4ad032baf",
            "655c0b63d3174cf8ac3b488c81617f7b",
            "1831330e9db340c99a9a7284b31f5e98",
            "9d653609061a42be9012d29dc77af907",
            "4d1efbb61bfe46fca8f74f4fb6bbf9a0",
            "19f977db97cc4363b502abdba6e8a698",
            "ca025e39a4f747a181728d512c7bddef",
            "5fccf298870a4bf094713bfadf3ef11b"
          ]
        },
        "outputId": "3488f1d0-7b3d-4ee5-9930-b0feed7e8369"
      },
      "source": [
        "import pandas as pd\n",
        "import matplotlib.pyplot as plt\n",
        "from matplotlib.font_manager import FontProperties\n",
        "\n",
        "def plot_heatmaps(input, pred_out, pred_scores, attn_scores, wandb_log=False):\n",
        "    no_samples = len(pred_out)\n",
        "    rand_seq = np.random.randint(no_samples, size=(9,))\n",
        "    \n",
        "    plt.close('all')\n",
        "    fig = plt.figure(figsize=(15,15))\n",
        "    fig, axes = plt.subplots(3, 3, figsize=(15, 15), constrained_layout=True)\n",
        "    plt.suptitle('Attention Heatmaps', fontsize='x-large')\n",
        "    for i,ax in zip(rand_seq, axes.flat):\n",
        "        K = len(pred_scores[i])\n",
        "        k = np.argmin(pred_scores[i])\n",
        "        im = ax.imshow(attn_scores[i,k,:len(pred_out[i][k])+1,:len(input[i])+1].T, vmin=0, vmax=1, cmap='magma')\n",
        "        ax.set_xticks(range(len(pred_out[i][k])+1))\n",
        "        ax.set_xticklabels(list(pred_out[i][k])+['<end>'], fontproperties=FontProperties(fname=\"/usr/share/fonts/truetype/VesperLibre-Regular.ttf\"))\n",
        "        ax.set_yticks(range(len(input[i])+1))\n",
        "        ax.set_yticklabels(list(input[i])+['<end>'])\n",
        "        ax.set_ylabel(u'Encoder Input')\n",
        "        ax.set_xlabel(f'Decoder Output')\n",
        "        ax.set_title(str(i) + r'$^{th}$ example of Test Set')\n",
        "        ax.set_aspect(\"equal\")\n",
        "        ax.grid(False)\n",
        "\n",
        "    # create colorbar\n",
        "    fig.colorbar(im, ax=axes.ravel().tolist(), shrink=0.7)\n",
        "    # Log in WANDB\n",
        "    if wandb_log:\n",
        "        run = wandb.init(project=\"assignment3\", entity=\"abisheks\", reinit=True)\n",
        "        wandb.log({'attention_heatmaps': fig})\n",
        "        run.finish()\n",
        "\n",
        "    plt.show()\n",
        "\n",
        "plot_heatmaps(test_inp, test2_pred_out, test2_pred_scores, test2_attn_scores, True)"
      ],
      "execution_count": null,
      "outputs": [
        {
          "output_type": "display_data",
          "data": {
            "text/html": [
              "\n",
              "                Tracking run with wandb version 0.10.29<br/>\n",
              "                Syncing run <strong style=\"color:#cdcd00\">autumn-terrain-369</strong> to <a href=\"https://wandb.ai\" target=\"_blank\">Weights & Biases</a> <a href=\"https://docs.wandb.com/integrations/jupyter.html\" target=\"_blank\">(Documentation)</a>.<br/>\n",
              "                Project page: <a href=\"https://wandb.ai/abisheks/assignment3\" target=\"_blank\">https://wandb.ai/abisheks/assignment3</a><br/>\n",
              "                Run page: <a href=\"https://wandb.ai/abisheks/assignment3/runs/1y8ysb11\" target=\"_blank\">https://wandb.ai/abisheks/assignment3/runs/1y8ysb11</a><br/>\n",
              "                Run data is saved locally in <code>/content/wandb/run-20210506_205033-1y8ysb11</code><br/><br/>\n",
              "            "
            ],
            "text/plain": [
              "<IPython.core.display.HTML object>"
            ]
          },
          "metadata": {
            "tags": []
          }
        },
        {
          "output_type": "display_data",
          "data": {
            "text/html": [
              "<br/>Waiting for W&B process to finish, PID 5991<br/>Program ended successfully."
            ],
            "text/plain": [
              "<IPython.core.display.HTML object>"
            ]
          },
          "metadata": {
            "tags": []
          }
        },
        {
          "output_type": "display_data",
          "data": {
            "application/vnd.jupyter.widget-view+json": {
              "model_id": "122f8cb162aa4cb99b00a0f4ad032baf",
              "version_minor": 0,
              "version_major": 2
            },
            "text/plain": [
              "VBox(children=(Label(value=' 0.02MB of 0.06MB uploaded (0.00MB deduped)\\r'), FloatProgress(value=0.26690727986…"
            ]
          },
          "metadata": {
            "tags": []
          }
        },
        {
          "output_type": "display_data",
          "data": {
            "text/html": [
              "Find user logs for this run at: <code>/content/wandb/run-20210506_205033-1y8ysb11/logs/debug.log</code>"
            ],
            "text/plain": [
              "<IPython.core.display.HTML object>"
            ]
          },
          "metadata": {
            "tags": []
          }
        },
        {
          "output_type": "display_data",
          "data": {
            "text/html": [
              "Find internal logs for this run at: <code>/content/wandb/run-20210506_205033-1y8ysb11/logs/debug-internal.log</code>"
            ],
            "text/plain": [
              "<IPython.core.display.HTML object>"
            ]
          },
          "metadata": {
            "tags": []
          }
        },
        {
          "output_type": "display_data",
          "data": {
            "text/html": [
              "<h3>Run summary:</h3><br/><style>\n",
              "    table.wandb td:nth-child(1) { padding: 0 10px; text-align: right }\n",
              "    </style><table class=\"wandb\">\n",
              "<tr><td>_runtime</td><td>3</td></tr><tr><td>_timestamp</td><td>1620334236</td></tr><tr><td>_step</td><td>0</td></tr></table>"
            ],
            "text/plain": [
              "<IPython.core.display.HTML object>"
            ]
          },
          "metadata": {
            "tags": []
          }
        },
        {
          "output_type": "display_data",
          "data": {
            "text/html": [
              "<h3>Run history:</h3><br/><style>\n",
              "    table.wandb td:nth-child(1) { padding: 0 10px; text-align: right }\n",
              "    </style><table class=\"wandb\">\n",
              "<tr><td>_runtime</td><td>▁</td></tr><tr><td>_timestamp</td><td>▁</td></tr><tr><td>_step</td><td>▁</td></tr></table><br/>"
            ],
            "text/plain": [
              "<IPython.core.display.HTML object>"
            ]
          },
          "metadata": {
            "tags": []
          }
        },
        {
          "output_type": "display_data",
          "data": {
            "text/html": [
              "Synced 4 W&B file(s), 1 media file(s), 0 artifact file(s) and 0 other file(s)"
            ],
            "text/plain": [
              "<IPython.core.display.HTML object>"
            ]
          },
          "metadata": {
            "tags": []
          }
        },
        {
          "output_type": "display_data",
          "data": {
            "text/html": [
              "\n",
              "                    <br/>Synced <strong style=\"color:#cdcd00\">autumn-terrain-369</strong>: <a href=\"https://wandb.ai/abisheks/assignment3/runs/1y8ysb11\" target=\"_blank\">https://wandb.ai/abisheks/assignment3/runs/1y8ysb11</a><br/>\n",
              "                "
            ],
            "text/plain": [
              "<IPython.core.display.HTML object>"
            ]
          },
          "metadata": {
            "tags": []
          }
        },
        {
          "output_type": "display_data",
          "data": {
            "text/plain": [
              "<Figure size 1080x1080 with 0 Axes>"
            ]
          },
          "metadata": {
            "tags": []
          }
        },
        {
          "output_type": "display_data",
          "data": {
            "image/png": "[encoded data removed]",
            "text/plain": [
              "<Figure size 1080x1080 with 10 Axes>"
            ]
          },
          "metadata": {
            "tags": [],
            "needs_background": "light"
          }
        }
      ]
    },
    {
      "cell_type": "markdown",
      "metadata": {
        "id": "niOvGRJJJl1z"
      },
      "source": [
        "### Visualizing attention for best model"
      ]
    },
    {
      "cell_type": "code",
      "metadata": {
        "id": "NmkOignlS2vH"
      },
      "source": [
        "# get text html element\n",
        "def cstr(s, color=None):\n",
        "  if color is None:\n",
        "      return '''<text style=\"padding:2px\"> {} </text>'''.format(s)\n",
        "  return '''<text style=\"color:#000;background-color:{};padding:2px\"> {} </text>'''.format(color, s)"
      ],
      "execution_count": null,
      "outputs": []
    },
    {
      "cell_type": "code",
      "metadata": {
        "id": "viuTh9l6EJjg"
      },
      "source": [
        "def print_connectivity(input, pred_out, pred_scores, attn_scores, dec_char_ind=0):\n",
        "    K = len(pred_scores)\n",
        "    print('-'*20 + f' Visualizing attention for Top {K} predictions (in decreasing order of probabilities) ' + '-'*20)\n",
        "    print('')\n",
        "    html_str = '''\n",
        "    <table style=\"border:2px solid black; border-collapse:collapse\">\n",
        "    <caption> <strong>INPUT : </strong> {} </caption>\n",
        "    <tr>\n",
        "    <th style=\"border:1px solid black;padding:10px;text-align:center\"> Character in Prediction Focussed </th>\n",
        "    <th style=\"border:1px solid black;padding:10px;text-align:center\"> Attention Visualization </th>\n",
        "    </tr>\n",
        "    '''.format(input)\n",
        "    for k in range(K):  \n",
        "        char = pred_out[k][dec_char_ind] if dec_char_ind < len(pred_out[k]) else '&lt end &gt' if dec_char_ind == len(pred_out[k]) else '&lt blank &gt'\n",
        "        html_str += '''\n",
        "        <tr>\n",
        "        <td style=\"border:1px solid black;padding:10px;text-align:center\"> character at index {} of {} <br/> {} </td>\n",
        "        <td style=\"border:1px solid black;padding:10px;text-align:center\">\n",
        "        '''.format(dec_char_ind, pred_out[k], char)\n",
        "        for i,c in enumerate(input):\n",
        "            html_str += '''\n",
        "            {}\n",
        "            '''.format(cstr(c, get_clr(attn_scores[k,dec_char_ind,i], 'Greens')))\n",
        "        html_str += '''\n",
        "        </td>\n",
        "        </tr>\n",
        "        '''\n",
        "    html_str += '''\n",
        "    </table>\n",
        "    '''\n",
        "    display(html_print(html_str))\n"
      ],
      "execution_count": null,
      "outputs": []
    },
    {
      "cell_type": "code",
      "metadata": {
        "id": "2h-Cw5GUGT2b"
      },
      "source": [
        "def visualize_attention(sample_ind=0, dec_char_ind=0):\n",
        "    # Function to visualize the importance of encoder input characters to the (dec_char_ind)th character of the output,\n",
        "    # for the (sample_ind)th sample in the test data\n",
        "    print_connectivity(test_inp[sample_ind], test2_pred_out[sample_ind], test2_pred_scores[sample_ind], test2_attn_scores[sample_ind], dec_char_ind)"
      ],
      "execution_count": null,
      "outputs": []
    },
    {
      "cell_type": "code",
      "metadata": {
        "id": "5IiZE03mJMy5"
      },
      "source": [
        "def interact():\n",
        "    print(f'Enter the index of the sample (0-{len(test_inp)}) : ')\n",
        "    s_ind = int(input())\n",
        "    print(f'Input : {test_inp[s_ind]}')\n",
        "    print(f'Top {len(test2_pred_out[s_ind])} predictions : ')\n",
        "    mx_len = 0\n",
        "    for pred in test2_pred_out[s_ind]:\n",
        "        print(pred)\n",
        "        mx_len = max(mx_len, len(pred))\n",
        "    print(f'Enter the index of output character to visualize the attention for (0-{mx_len-1}): ')\n",
        "    c_ind = int(input())\n",
        "    visualize_attention(s_ind, c_ind)"
      ],
      "execution_count": null,
      "outputs": []
    },
    {
      "cell_type": "code",
      "metadata": {
        "colab": {
          "base_uri": "https://localhost:8080/",
          "height": 571
        },
        "id": "RGJH4ZN3cuKR",
        "outputId": "665c8b54-85ad-4fdf-d817-06a926285d2a"
      },
      "source": [
        "interact()"
      ],
      "execution_count": null,
      "outputs": [
        {
          "output_type": "stream",
          "text": [
            "Enter the index of the sample (0-4358) : \n",
            "520\n",
            "Input : emilie\n",
            "Top 5 predictions : \n",
            "एमिली\n",
            "एमाइली\n",
            "एमिलिय\n",
            "एमाइलिय\n",
            "एमीली\n",
            "Enter the index of output character to visualize the attention for (0-6): \n",
            "4\n",
            "-------------------- Visualizing attention for Top 5 predictions (in decreasing order of probabilities) --------------------\n",
            "\n"
          ],
          "name": "stdout"
        },
        {
          "output_type": "display_data",
          "data": {
            "text/html": [
              "\n",
              "    <table style=\"border:2px solid black; border-collapse:collapse\">\n",
              "    <caption> <strong>INPUT : </strong> emilie </caption>\n",
              "    <tr>\n",
              "    <th style=\"border:1px solid black;padding:10px;text-align:center\"> Character in Prediction Focussed </th>\n",
              "    <th style=\"border:1px solid black;padding:10px;text-align:center\"> Attention Visualization </th>\n",
              "    </tr>\n",
              "    \n",
              "        <tr>\n",
              "        <td style=\"border:1px solid black;padding:10px;text-align:center\"> character at index 4 of एमिली <br/> ी </td>\n",
              "        <td style=\"border:1px solid black;padding:10px;text-align:center\">\n",
              "        \n",
              "            <text style=\"color:#000;background-color:rgb(247, 252, 245);padding:2px\"> e </text>\n",
              "            \n",
              "            <text style=\"color:#000;background-color:rgb(247, 252, 245);padding:2px\"> m </text>\n",
              "            \n",
              "            <text style=\"color:#000;background-color:rgb(243, 250, 240);padding:2px\"> i </text>\n",
              "            \n",
              "            <text style=\"color:#000;background-color:rgb(247, 252, 245);padding:2px\"> l </text>\n",
              "            \n",
              "            <text style=\"color:#000;background-color:rgb(210, 237, 203);padding:2px\"> i </text>\n",
              "            \n",
              "            <text style=\"color:#000;background-color:rgb(217, 240, 211);padding:2px\"> e </text>\n",
              "            \n",
              "        </td>\n",
              "        </tr>\n",
              "        \n",
              "        <tr>\n",
              "        <td style=\"border:1px solid black;padding:10px;text-align:center\"> character at index 4 of एमाइली <br/> ल </td>\n",
              "        <td style=\"border:1px solid black;padding:10px;text-align:center\">\n",
              "        \n",
              "            <text style=\"color:#000;background-color:rgb(247, 252, 245);padding:2px\"> e </text>\n",
              "            \n",
              "            <text style=\"color:#000;background-color:rgb(246, 251, 244);padding:2px\"> m </text>\n",
              "            \n",
              "            <text style=\"color:#000;background-color:rgb(247, 252, 245);padding:2px\"> i </text>\n",
              "            \n",
              "            <text style=\"color:#000;background-color:rgb(0, 97, 39);padding:2px\"> l </text>\n",
              "            \n",
              "            <text style=\"color:#000;background-color:rgb(245, 251, 243);padding:2px\"> i </text>\n",
              "            \n",
              "            <text style=\"color:#000;background-color:rgb(244, 250, 241);padding:2px\"> e </text>\n",
              "            \n",
              "        </td>\n",
              "        </tr>\n",
              "        \n",
              "        <tr>\n",
              "        <td style=\"border:1px solid black;padding:10px;text-align:center\"> character at index 4 of एमिलिय <br/> ि </td>\n",
              "        <td style=\"border:1px solid black;padding:10px;text-align:center\">\n",
              "        \n",
              "            <text style=\"color:#000;background-color:rgb(247, 252, 245);padding:2px\"> e </text>\n",
              "            \n",
              "            <text style=\"color:#000;background-color:rgb(247, 252, 245);padding:2px\"> m </text>\n",
              "            \n",
              "            <text style=\"color:#000;background-color:rgb(243, 250, 240);padding:2px\"> i </text>\n",
              "            \n",
              "            <text style=\"color:#000;background-color:rgb(247, 252, 245);padding:2px\"> l </text>\n",
              "            \n",
              "            <text style=\"color:#000;background-color:rgb(210, 237, 203);padding:2px\"> i </text>\n",
              "            \n",
              "            <text style=\"color:#000;background-color:rgb(217, 240, 211);padding:2px\"> e </text>\n",
              "            \n",
              "        </td>\n",
              "        </tr>\n",
              "        \n",
              "        <tr>\n",
              "        <td style=\"border:1px solid black;padding:10px;text-align:center\"> character at index 4 of एमाइलिय <br/> ल </td>\n",
              "        <td style=\"border:1px solid black;padding:10px;text-align:center\">\n",
              "        \n",
              "            <text style=\"color:#000;background-color:rgb(247, 252, 245);padding:2px\"> e </text>\n",
              "            \n",
              "            <text style=\"color:#000;background-color:rgb(246, 251, 244);padding:2px\"> m </text>\n",
              "            \n",
              "            <text style=\"color:#000;background-color:rgb(247, 252, 245);padding:2px\"> i </text>\n",
              "            \n",
              "            <text style=\"color:#000;background-color:rgb(0, 97, 39);padding:2px\"> l </text>\n",
              "            \n",
              "            <text style=\"color:#000;background-color:rgb(245, 251, 243);padding:2px\"> i </text>\n",
              "            \n",
              "            <text style=\"color:#000;background-color:rgb(244, 250, 241);padding:2px\"> e </text>\n",
              "            \n",
              "        </td>\n",
              "        </tr>\n",
              "        \n",
              "        <tr>\n",
              "        <td style=\"border:1px solid black;padding:10px;text-align:center\"> character at index 4 of एमीली <br/> ी </td>\n",
              "        <td style=\"border:1px solid black;padding:10px;text-align:center\">\n",
              "        \n",
              "            <text style=\"color:#000;background-color:rgb(247, 252, 245);padding:2px\"> e </text>\n",
              "            \n",
              "            <text style=\"color:#000;background-color:rgb(247, 252, 245);padding:2px\"> m </text>\n",
              "            \n",
              "            <text style=\"color:#000;background-color:rgb(245, 251, 243);padding:2px\"> i </text>\n",
              "            \n",
              "            <text style=\"color:#000;background-color:rgb(247, 252, 245);padding:2px\"> l </text>\n",
              "            \n",
              "            <text style=\"color:#000;background-color:rgb(208, 236, 201);padding:2px\"> i </text>\n",
              "            \n",
              "            <text style=\"color:#000;background-color:rgb(219, 241, 213);padding:2px\"> e </text>\n",
              "            \n",
              "        </td>\n",
              "        </tr>\n",
              "        \n",
              "    </table>\n",
              "    "
            ],
            "text/plain": [
              "<IPython.core.display.HTML object>"
            ]
          },
          "metadata": {
            "tags": []
          }
        }
      ]
    }
  ]
}