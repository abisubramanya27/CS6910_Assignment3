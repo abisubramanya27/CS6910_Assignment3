{
  "nbformat": 4,
  "nbformat_minor": 0,
  "metadata": {
    "colab": {
      "name": "Assignment3.ipynb",
      "provenance": [],
      "collapsed_sections": [],
      "include_colab_link": true
    },
    "kernelspec": {
      "name": "python3",
      "display_name": "Python 3"
    },
    "language_info": {
      "name": "python"
    },
    "accelerator": "GPU"
  },
  "cells": [
    {
      "cell_type": "markdown",
      "metadata": {
        "id": "view-in-github",
        "colab_type": "text"
      },
      "source": [
        "<a href=\"https://colab.research.google.com/github/abisubramanya27/CS6910_Assignment3/blob/master/src/Assignment3.ipynb\" target=\"_parent\"><img src=\"https://colab.research.google.com/assets/colab-badge.svg\" alt=\"Open In Colab\"/></a>"
      ]
    },
    {
      "cell_type": "code",
      "metadata": {
        "colab": {
          "base_uri": "https://localhost:8080/"
        },
        "id": "anLHOjMmcDNp",
        "outputId": "41eb5c39-4e16-4bd1-dc0f-f49d21cf0b97"
      },
      "source": [
        "!wget \"https://storage.googleapis.com/gresearch/dakshina/dakshina_dataset_v1.0.tar\""
      ],
      "execution_count": null,
      "outputs": [
        {
          "output_type": "stream",
          "text": [
            "--2021-04-30 19:50:56--  https://storage.googleapis.com/gresearch/dakshina/dakshina_dataset_v1.0.tar\n",
            "Resolving storage.googleapis.com (storage.googleapis.com)... 108.177.125.128, 74.125.23.128, 74.125.203.128, ...\n",
            "Connecting to storage.googleapis.com (storage.googleapis.com)|108.177.125.128|:443... connected.\n",
            "HTTP request sent, awaiting response... 200 OK\n",
            "Length: 2008340480 (1.9G) [application/x-tar]\n",
            "Saving to: ‘dakshina_dataset_v1.0.tar’\n",
            "\n",
            "dakshina_dataset_v1 100%[===================>]   1.87G  96.4MB/s    in 22s     \n",
            "\n",
            "2021-04-30 19:51:18 (87.6 MB/s) - ‘dakshina_dataset_v1.0.tar’ saved [2008340480/2008340480]\n",
            "\n"
          ],
          "name": "stdout"
        }
      ]
    },
    {
      "cell_type": "code",
      "metadata": {
        "id": "t8z7gFejcpWM"
      },
      "source": [
        "!tar xopf dakshina_dataset_v1.0.tar"
      ],
      "execution_count": null,
      "outputs": []
    },
    {
      "cell_type": "code",
      "metadata": {
        "colab": {
          "base_uri": "https://localhost:8080/"
        },
        "id": "v6Ixguaue_fq",
        "outputId": "65f8b33c-bae3-4223-aaa5-32c0ae1f6e78"
      },
      "source": [
        "!ls dakshina_dataset_v1.0/hi/lexicons"
      ],
      "execution_count": null,
      "outputs": [
        {
          "output_type": "stream",
          "text": [
            "hi.translit.sampled.dev.tsv   hi.translit.sampled.train.tsv\n",
            "hi.translit.sampled.test.tsv\n"
          ],
          "name": "stdout"
        }
      ]
    },
    {
      "cell_type": "code",
      "metadata": {
        "id": "3-xkKp8jY8Q9"
      },
      "source": [
        "import numpy as np\n",
        "\n",
        "def read_data(data_path, characters = False):\n",
        "    # Returns the (input, output) pair from the dataset\n",
        "    # If characters == True, the input/output would be in the form list of characters, else as string\n",
        "\n",
        "    with open(data_path, \"r\", encoding=\"utf-8\") as f:\n",
        "        lines = [line.split(\"\\t\") for line in f.read().split(\"\\n\") if line != '']\n",
        "    \n",
        "    input, target = [val[1] for val in lines], [val[0] for val in lines]\n",
        "    if characters:\n",
        "        input, target = [list(inp_str) for inp_str in input], [list(tar_str) for tar_str in target]\n",
        "    return input, target\n",
        "\n",
        "\n",
        "def process_data(input, enc_timesteps, input_char_enc, target = None, dec_timesteps = None, target_char_enc = None):\n",
        "    # Returns the input and target data in a form needed by the Keras embedding layer, where each character is encoded by an integer\n",
        "\n",
        "    # ' ' -- space (equivalent to no meaningful input)\n",
        "    encoder_input = np.array([[input_char_enc[ch] for ch in string] + [input_char_enc[' ']] * (enc_timesteps - len(string)) for string in input])\n",
        "\n",
        "    decoder_input, decoder_target = None, None\n",
        "    if target is not None and dec_timesteps is not None and target_char_enc is not None:\n",
        "        # '\\t' -- start of sequence, '\\n' -- end of sequence\n",
        "        decoder_input = np.array([[target_char_enc['\\t']] + [target_char_enc[ch] for ch in string] + [target_char_enc['\\n']] \n",
        "                                    + [target_char_enc[' ']] * (dec_timesteps - len(string) - 2) for string in target])\n",
        "        decoder_target = np.zeros((decoder_input.shape[0], dec_timesteps, len(target_char_enc)), dtype='float32')\n",
        "\n",
        "        for i in range(decoder_input.shape[0]):\n",
        "            for t, char_ind in enumerate(decoder_input[i]):\n",
        "                if t > 0:\n",
        "                    decoder_target[i,t-1,char_ind] = 1.0\n",
        "            decoder_target[i,t:,target_char_enc[' ']] = 1.0\n",
        "\n",
        "    return encoder_input, decoder_input, decoder_target\n",
        "\n",
        "\n",
        "def encode_decode_characters(train_input, train_target, val_input, val_target):\n",
        "    # Returns the encoder for characters to integer (as a dictionary) and decoder for integers to characters (as a list) for input and target data\n",
        "\n",
        "    input_char_enc = {}\n",
        "    input_char_dec = []\n",
        "    max_encoder_seq_length = 1\n",
        "    for string in train_input + val_input:\n",
        "        max_encoder_seq_length = max(max_encoder_seq_length, len(string))\n",
        "        for char in string:\n",
        "            if char not in input_char_enc:\n",
        "                input_char_enc[char] = len(input_char_dec)\n",
        "                input_char_dec.append(char)\n",
        "    if ' ' not in input_char_enc:\n",
        "        input_char_enc[' '] = len(input_char_dec)\n",
        "        input_char_dec.append(' ')\n",
        "\n",
        "    target_char_enc = {}\n",
        "    target_char_dec = []\n",
        "    target_char_enc['\\t'] = len(target_char_dec)\n",
        "    target_char_dec.append('\\t')\n",
        "    max_decoder_seq_length = 1\n",
        "    for string in train_target + val_target:\n",
        "        max_decoder_seq_length = max(max_decoder_seq_length, len(string)+2)\n",
        "        for char in string:\n",
        "            if char not in target_char_enc:\n",
        "                target_char_enc[char] = len(target_char_dec)\n",
        "                target_char_dec.append(char)\n",
        "    target_char_enc['\\n'] = len(target_char_dec)\n",
        "    target_char_dec.append('\\n')\n",
        "    if ' ' not in target_char_enc:\n",
        "        target_char_enc[' '] = len(target_char_dec)\n",
        "        target_char_dec.append(' ')\n",
        "\n",
        "    print(\"Number of training samples:\", len(train_input))\n",
        "    print(\"Number of validation samples:\", len(val_input))\n",
        "    print(\"Number of unique input tokens:\", len(input_char_dec))\n",
        "    print(\"Number of unique output tokens:\", len(target_char_dec))\n",
        "    print(\"Max sequence length for inputs:\", max_encoder_seq_length)\n",
        "    print(\"Max sequence length for outputs:\", max_decoder_seq_length)\n",
        "\n",
        "    return input_char_enc, input_char_dec, target_char_enc, target_char_dec, max_encoder_seq_length, max_decoder_seq_length\n",
        "\n",
        "def max_seq_length(data):\n",
        "    max_len = 0\n",
        "    for word in data:\n",
        "        max_len = max(max_len, len(word))\n",
        "    \n",
        "    return max_len\n"
      ],
      "execution_count": 15,
      "outputs": []
    },
    {
      "cell_type": "code",
      "metadata": {
        "colab": {
          "base_uri": "https://localhost:8080/"
        },
        "id": "97ou-pxE9gCQ",
        "outputId": "ec43c347-029f-4b1b-a689-e9a90a786d8e"
      },
      "source": [
        "input_char_enc = {}\n",
        "input_char_dec = []\n",
        "target_char_enc = {}\n",
        "target_char_dec = []\n",
        "max_encoder_seq_length = 0\n",
        "max_decoder_seq_length = 0\n",
        "\n",
        "# Reading training and validation data\n",
        "train_inp, train_out = read_data('./dakshina_dataset_v1.0/hi/lexicons/hi.translit.sampled.train.tsv')\n",
        "val_inp, val_out = read_data('./dakshina_dataset_v1.0/hi/lexicons/hi.translit.sampled.dev.tsv')\n",
        "# Assigning encoder and decoder for input and target characters\n",
        "input_char_enc, input_char_dec, target_char_enc, target_char_dec, max_encoder_seq_length, max_decoder_seq_length = encode_decode_characters(\n",
        "    train_inp, train_out, val_inp, val_out)\n",
        "\n",
        "# Assigning training and validation encoder input, decoder input, decoder output\n",
        "train_enc_input, train_dec_input, train_dec_target = process_data(train_inp, max_encoder_seq_length, input_char_enc, train_out, \n",
        "                                                                  max_decoder_seq_length, target_char_enc)\n",
        "val_enc_input, val_dec_input, val_dec_target = process_data(val_inp, max_encoder_seq_length, input_char_enc, val_out, \n",
        "                                                            max_decoder_seq_length, target_char_enc)\n"
      ],
      "execution_count": 16,
      "outputs": [
        {
          "output_type": "stream",
          "text": [
            "Number of training samples: 44204\n",
            "Number of validation samples: 4358\n",
            "Number of unique input tokens: 27\n",
            "Number of unique output tokens: 66\n",
            "Max sequence length for inputs: 20\n",
            "Max sequence length for outputs: 21\n"
          ],
          "name": "stdout"
        }
      ]
    },
    {
      "cell_type": "code",
      "metadata": {
        "id": "N8jvETu5Ga6g"
      },
      "source": [
        "import tensorflow as tf\n",
        "import tensorflow.keras as keras\n",
        "\n",
        "def create_model(encoder_vocab_size, decoder_vocab_size, inp_emb_size=16, no_enc_layers=1, no_dec_layers=1, \n",
        "                 hid_layer_size=32, cell_type='LSTM', dropout=0, r_dropout=0, cell_activation='tanh'):\n",
        "    \n",
        "    get_cell = {\n",
        "        'RNN': keras.layers.SimpleRNN,\n",
        "        'GRU': keras.layers.GRU,\n",
        "        'LSTM': keras.layers.LSTM\n",
        "    }\n",
        "    # Encoder input and embedding\n",
        "    encoder_input = keras.layers.Input(shape=(None,), name=\"input_1\")\n",
        "    encoder_inp_emb = keras.layers.Embedding(encoder_vocab_size, inp_emb_size, name=\"embedding_1\")(encoder_input)\n",
        "\n",
        "    # Encoder cell layers\n",
        "    encoder_seq, *encoder_state = get_cell[cell_type](hid_layer_size, activation=cell_activation, return_sequences=True, return_state=True, \n",
        "                                                      dropout=dropout, recurrent_dropout=r_dropout, name=\"encoder_1\")(\n",
        "                                                            encoder_inp_emb\n",
        "                                                     )\n",
        "    for i in range(1, no_enc_layers):\n",
        "        encoder_seq, *encoder_state = get_cell[cell_type](hid_layer_size, activation=cell_activation, return_sequences=True, return_state=True, \n",
        "                                                          dropout=dropout, recurrent_dropout=r_dropout, name=\"encoder_\"+str(i+1))(\n",
        "                                                                encoder_seq\n",
        "                                                         )\n",
        "    \n",
        "    # Decoder input and embedding\n",
        "    decoder_input = keras.layers.Input(shape=(None,), name=\"input_2\")\n",
        "    decoder_inp_emb = keras.layers.Embedding(decoder_vocab_size, inp_emb_size, name=\"embedding_2\")(decoder_input)\n",
        "\n",
        "    # Decoder cell layers\n",
        "    decoder_seq, *_ = get_cell[cell_type](hid_layer_size, activation=cell_activation, return_sequences=True, return_state=True, \n",
        "                                          dropout=dropout, recurrent_dropout=r_dropout, name=\"decoder_1\")(\n",
        "                                                decoder_inp_emb, initial_state=encoder_state\n",
        "                                         )\n",
        "    for i in range(1, no_dec_layers):\n",
        "        decoder_seq, *_ = get_cell[cell_type](hid_layer_size, activation=cell_activation, return_sequences=True, return_state=True, \n",
        "                                              dropout=dropout, recurrent_dropout=r_dropout, name=\"decoder_\"+str(i+1))(\n",
        "                                                    decoder_seq, initial_state=encoder_state\n",
        "                                             )\n",
        "    \n",
        "    # Softmax FC layer\n",
        "    decoder_dense_output = keras.layers.Dense(decoder_vocab_size, activation=\"softmax\", name=\"dense_1\")(\n",
        "        decoder_seq\n",
        "    )\n",
        "\n",
        "    # Define the model that will turn encoder_input_data and decoder_input_data into decoder_target_data\n",
        "    model = keras.Model([encoder_input, decoder_input], decoder_dense_output)\n",
        "\n",
        "    model.summary()\n",
        "    return model"
      ],
      "execution_count": 17,
      "outputs": []
    },
    {
      "cell_type": "code",
      "metadata": {
        "colab": {
          "base_uri": "https://localhost:8080/"
        },
        "id": "u-PJvBWTXsky",
        "outputId": "461a2b05-ebeb-4a9c-b50c-e5c2ad1cb1ca"
      },
      "source": [
        "!pip install --upgrade wandb\n",
        "!wandb login 6746f968d95eb71e281d6c7772a0469574430408\n",
        "\n",
        "import wandb\n",
        "from wandb.keras import WandbCallback"
      ],
      "execution_count": 18,
      "outputs": [
        {
          "output_type": "stream",
          "text": [
            "Requirement already up-to-date: wandb in /usr/local/lib/python3.7/dist-packages (0.10.28)\n",
            "Requirement already satisfied, skipping upgrade: protobuf>=3.12.0 in /usr/local/lib/python3.7/dist-packages (from wandb) (3.12.4)\n",
            "Requirement already satisfied, skipping upgrade: docker-pycreds>=0.4.0 in /usr/local/lib/python3.7/dist-packages (from wandb) (0.4.0)\n",
            "Requirement already satisfied, skipping upgrade: shortuuid>=0.5.0 in /usr/local/lib/python3.7/dist-packages (from wandb) (1.0.1)\n",
            "Requirement already satisfied, skipping upgrade: configparser>=3.8.1 in /usr/local/lib/python3.7/dist-packages (from wandb) (5.0.2)\n",
            "Requirement already satisfied, skipping upgrade: subprocess32>=3.5.3 in /usr/local/lib/python3.7/dist-packages (from wandb) (3.5.4)\n",
            "Requirement already satisfied, skipping upgrade: promise<3,>=2.0 in /usr/local/lib/python3.7/dist-packages (from wandb) (2.3)\n",
            "Requirement already satisfied, skipping upgrade: sentry-sdk>=0.4.0 in /usr/local/lib/python3.7/dist-packages (from wandb) (1.0.0)\n",
            "Requirement already satisfied, skipping upgrade: PyYAML in /usr/local/lib/python3.7/dist-packages (from wandb) (3.13)\n",
            "Requirement already satisfied, skipping upgrade: pathtools in /usr/local/lib/python3.7/dist-packages (from wandb) (0.1.2)\n",
            "Requirement already satisfied, skipping upgrade: six>=1.13.0 in /usr/local/lib/python3.7/dist-packages (from wandb) (1.15.0)\n",
            "Requirement already satisfied, skipping upgrade: Click>=7.0 in /usr/local/lib/python3.7/dist-packages (from wandb) (7.1.2)\n",
            "Requirement already satisfied, skipping upgrade: psutil>=5.0.0 in /usr/local/lib/python3.7/dist-packages (from wandb) (5.4.8)\n",
            "Requirement already satisfied, skipping upgrade: GitPython>=1.0.0 in /usr/local/lib/python3.7/dist-packages (from wandb) (3.1.14)\n",
            "Requirement already satisfied, skipping upgrade: python-dateutil>=2.6.1 in /usr/local/lib/python3.7/dist-packages (from wandb) (2.8.1)\n",
            "Requirement already satisfied, skipping upgrade: requests<3,>=2.0.0 in /usr/local/lib/python3.7/dist-packages (from wandb) (2.23.0)\n",
            "Requirement already satisfied, skipping upgrade: setuptools in /usr/local/lib/python3.7/dist-packages (from protobuf>=3.12.0->wandb) (56.0.0)\n",
            "Requirement already satisfied, skipping upgrade: certifi in /usr/local/lib/python3.7/dist-packages (from sentry-sdk>=0.4.0->wandb) (2020.12.5)\n",
            "Requirement already satisfied, skipping upgrade: urllib3>=1.10.0 in /usr/local/lib/python3.7/dist-packages (from sentry-sdk>=0.4.0->wandb) (1.24.3)\n",
            "Requirement already satisfied, skipping upgrade: gitdb<5,>=4.0.1 in /usr/local/lib/python3.7/dist-packages (from GitPython>=1.0.0->wandb) (4.0.7)\n",
            "Requirement already satisfied, skipping upgrade: chardet<4,>=3.0.2 in /usr/local/lib/python3.7/dist-packages (from requests<3,>=2.0.0->wandb) (3.0.4)\n",
            "Requirement already satisfied, skipping upgrade: idna<3,>=2.5 in /usr/local/lib/python3.7/dist-packages (from requests<3,>=2.0.0->wandb) (2.10)\n",
            "Requirement already satisfied, skipping upgrade: smmap<5,>=3.0.1 in /usr/local/lib/python3.7/dist-packages (from gitdb<5,>=4.0.1->GitPython>=1.0.0->wandb) (4.0.0)\n",
            "\u001b[34m\u001b[1mwandb\u001b[0m: Appending key for api.wandb.ai to your netrc file: /root/.netrc\n"
          ],
          "name": "stdout"
        }
      ]
    },
    {
      "cell_type": "code",
      "metadata": {
        "id": "Ozyl__IWdNvo"
      },
      "source": [
        "def create_inference_model(model):\n",
        "    no_enc_layers, no_dec_layers = 0, 0\n",
        "    for layer in model.layers:\n",
        "        no_enc_layers += layer.name.startswith('encoder')\n",
        "        no_dec_layers += layer.name.startswith('decoder')\n",
        "\n",
        "    # Encoder input\n",
        "    encoder_input = model.input[0]      # Input_1\n",
        "    # Encoder cell final layer\n",
        "    encoder_cell = model.get_layer(\"encoder_\"+str(no_enc_layers))\n",
        "    encoder_type = encoder_cell.__class__.__name__\n",
        "    encoder_seq, *encoder_state = encoder_cell.output\n",
        "    # Encoder model\n",
        "    encoder_model = keras.Model(encoder_input, encoder_state)\n",
        "\n",
        "    # Decoder input\n",
        "    decoder_input = model.input[1]      # Input_2\n",
        "    decoder_inp_emb = model.get_layer(\"embedding_2\")(decoder_input)\n",
        "    decoder_seq = decoder_inp_emb\n",
        "    # Inputs to decoder layers' initial states\n",
        "    decoder_states, decoder_state_inputs = [], []\n",
        "    for i in range(1, no_dec_layers+1):\n",
        "        if encoder_type == 'LSTM':\n",
        "            decoder_state_input = [keras.Input(shape=(encoder_state[0].shape[1],), name=\"input_\"+str(2*i+1)), \n",
        "                                   keras.Input(shape=(encoder_state[1].shape[1],), name=\"input_\"+str(2*i+2))]\n",
        "        else:\n",
        "            decoder_state_input = [keras.Input(shape=(encoder_state[0].shape[1],), name=\"input_\"+str(i+2))]\n",
        "\n",
        "        decoder_cell = model.get_layer(\"decoder_\"+str(i))\n",
        "        decoder_seq, *decoder_state = decoder_cell(decoder_seq, initial_state=decoder_state_input)\n",
        "        decoder_states += decoder_state\n",
        "        decoder_state_inputs += decoder_state_input\n",
        "\n",
        "    # Softmax FC layer\n",
        "    decoder_dense = model.get_layer(\"dense_1\")\n",
        "    decoder_dense_output = decoder_dense(decoder_seq)\n",
        "\n",
        "    # Decoder model\n",
        "    decoder_model = keras.Model(\n",
        "        [decoder_input] + decoder_state_inputs, [decoder_dense_output] + decoder_states\n",
        "    )\n",
        "\n",
        "    return encoder_model, decoder_model, no_enc_layers, no_dec_layers\n",
        "\n",
        "\n",
        "def convert_to_word(predictions, char_enc, char_dec = None):\n",
        "    no_samples = len(predictions) if type(predictions) is list else predictions.shape[0]\n",
        "    pred_words = ['' for _ in range(no_samples)]\n",
        "    for i, pred_list in enumerate(predictions):\n",
        "        for l in pred_list:\n",
        "            # Stop word : '\\n'\n",
        "            if l == char_enc['\\n']:\n",
        "                break\n",
        "            pred_words[i] += char_dec[l] if char_dec is not None else l\n",
        "    \n",
        "    return pred_words\n"
      ],
      "execution_count": 19,
      "outputs": []
    },
    {
      "cell_type": "code",
      "metadata": {
        "id": "qfvzFIUKdYAw"
      },
      "source": [
        "def beam_decoder_infer(model, input_seqs, max_decoder_timesteps, K=1, target_seqs=None, starting_char_enc=0, batch_size=64):\n",
        "    # K : beam_width\n",
        "    encoder_model, decoder_model, no_enc_layers, no_dec_layers = create_inference_model(model)\n",
        "    # Encoder output which is the input initial state for the decoder\n",
        "    encoder_output = encoder_model.predict(input_seqs, batch_size=batch_size)\n",
        "    encoder_out = encoder_output if type(encoder_output) is list else [encoder_output]\n",
        "\n",
        "    # Number of input samples in the data passed\n",
        "    no_samples = input_seqs.shape[0]\n",
        "\n",
        "    # Top K output sequences for each input \n",
        "    final_outputs = np.zeros((no_samples, K, max_decoder_timesteps), dtype=np.int32)\n",
        "    # Errors for top K output sequences for each input\n",
        "    final_errors = np.zeros((no_samples, K))\n",
        "\n",
        "    # decoder input sequence for 1 timestep (for all samples). Initially one choice only there\n",
        "    decoder_k_inputs = np.zeros((no_samples, 1, 1))\n",
        "    # Populate the input sequence with the start character at the 1st timestep\n",
        "    decoder_k_inputs[:, :, 0] = starting_char_enc\n",
        "\n",
        "    # (log(probability) sequence, decoder output sequence) pairs for all choices and all samples. Probability starts with log(1) = 0\n",
        "    decoder_k_out = [[(0, [])] for _ in range(no_samples)]\n",
        "    # Categorical cross entropy error in the sequence for all choice and all samples\n",
        "    errors = [[0] for _ in range(no_samples)]\n",
        "    # Output states from decoder for all choices, and all samples\n",
        "    states_values  = [encoder_out * no_dec_layers]\n",
        "\n",
        "    # Sampling loop\n",
        "    for it in range(max_decoder_timesteps):\n",
        "\n",
        "        All_k_beams = [[] for _ in range(no_samples)]\n",
        "        All_decoder_states = [[] for _ in range(no_samples)]\n",
        "        All_errors = [[] for _ in range(no_samples)]\n",
        "\n",
        "        for k in range(len(decoder_k_out[0])):\n",
        "            decoder_output, *decoder_states = decoder_model.predict([decoder_k_inputs[:,k]] + states_values[k], batch_size=batch_size)\n",
        "\n",
        "            # Top K scores\n",
        "            top_k = np.argsort(decoder_output[:, -1, :], axis=-1)[:, -K:]\n",
        "            for b in range(no_samples):\n",
        "                All_k_beams[b] += [(\n",
        "                    decoder_k_out[b][k][0] + np.log(decoder_output[b, -1, top_k[b][i]]),\n",
        "                    decoder_k_out[b][k][1] + [top_k[b][i]]\n",
        "                ) for i in range(K)]\n",
        "            \n",
        "                if target_seqs is not None:\n",
        "                    All_errors[b] += [errors[b][k] - np.log(decoder_output[b, -1, target_seqs[b, it]])] * K\n",
        "                \n",
        "                All_decoder_states[b] += [[state[b:b+1] for state in decoder_states]] * K\n",
        "        \n",
        "        # Sort and choose top K with max probabilities\n",
        "        sorted_ind = list(range(len(All_k_beams[0])))\n",
        "        sorted_ind = [sorted(sorted_ind, key = lambda ix: All_k_beams[b][ix][0])[-K:][::-1] for b in range(no_samples)]\n",
        "        # Choose the top K decoder output sequences till now\n",
        "        decoder_k_out = [[All_k_beams[b][ind] for ind in sorted_ind[b]] for b in range(no_samples)]\n",
        "\n",
        "        # Update the input sequence for next 1 timestep\n",
        "        decoder_k_inputs = np.array([[All_k_beams[b][ind][1][-1] for ind in sorted_ind[b]] for b in range(no_samples)])\n",
        "\n",
        "        # Update states\n",
        "        states_values = [All_decoder_states[0][ind] for ind in sorted_ind[0]]\n",
        "        for b in range(1, no_samples):\n",
        "            states_values = [[np.concatenate((states_values[i][j], All_decoder_states[b][ind][j])) \n",
        "                              for j in range(len(All_decoder_states[b][ind]))] for i,ind in enumerate(sorted_ind[b])]\n",
        "\n",
        "        # Update errors\n",
        "        if target_seqs is not None:\n",
        "            errors = [[All_errors[b][ind] for ind in sorted_ind[b]] for b in range(no_samples)]\n",
        "\n",
        "    #print(len(decoder_k_out), len(decoder_k_out[0]), len(decoder_k_out[0][0]), len(decoder_k_out[0][0][1]))\n",
        "    final_outputs = np.array([[decoder_k_out[b][i][1] for i in range(K)] for b in range(no_samples)])\n",
        "    if target_seqs is not None:\n",
        "        final_errors = np.array(errors) / max_decoder_timesteps\n",
        "\n",
        "    return final_outputs, final_errors\n",
        "\n",
        "def calc_metrics(k_outputs, target_seqs, char_enc, char_dec, k_errors=None, exact_word=True):\n",
        "    # Calculates the accuracy (and mean error if info provided) for the best of K possible output sequences\n",
        "    # target_seqs -- Expected output (encoded sequence)\n",
        "    # k_outputs -- k choices of output sequences for each sample\n",
        "\n",
        "    matches = np.mean(k_outputs == np.repeat(target_seqs.reshape((target_seqs.shape[0], 1, target_seqs.shape[1])), k_outputs.shape[1], axis=1), axis=-1)\n",
        "    best_k = np.argmax(matches, axis=-1)\n",
        "    best_ind = (tuple(range(best_k.shape[0])), tuple(best_k))\n",
        "    accuracy = np.mean(matches[best_ind])\n",
        "\n",
        "    loss = None\n",
        "    if k_errors is not None:\n",
        "        loss = np.mean(k_errors[best_ind])\n",
        "    if exact_word:\n",
        "        equal = [0] * k_outputs.shape[0]\n",
        "        true_out = convert_to_word(target_seqs, char_enc, char_dec)\n",
        "        for k in range(k_outputs.shape[1]):\n",
        "            pred_out = convert_to_word(k_outputs[:,k], char_enc, char_dec)\n",
        "            equal = [equal[i] or (pred_out[i] == true_out[i]) for i in range(k_outputs.shape[0])]\n",
        "        exact_accuracy = np.mean(equal)\n",
        "\n",
        "        return accuracy, exact_accuracy, loss\n",
        "    \n",
        "    return accuracy, loss\n",
        "\n",
        "def beam_decoder(model, input_seqs, target_seqs_onehot, max_decoder_timesteps, char_enc, char_dec, K=1, \n",
        "                 infer_batch_size=512, model_batch_size=64, exact_word=True):\n",
        "    target_seqs = np.argmax(target_seqs_onehot, axis=-1)\n",
        "    k_outputs, k_errors = None, None\n",
        "    for i in range(0, input_seqs.shape[0], infer_batch_size):\n",
        "        tmp_k_outputs, tmp_k_errors = beam_decoder_infer(model, input_seqs[i:i+infer_batch_size], max_decoder_timesteps, K, \n",
        "                                                         target_seqs[i:i+infer_batch_size], char_enc['\\t'], model_batch_size)\n",
        "        if k_errors is None:\n",
        "            k_outputs, k_errors = tmp_k_outputs, tmp_k_errors\n",
        "        else:\n",
        "            k_outputs = np.concatenate((k_outputs, tmp_k_outputs))\n",
        "            k_errors = np.concatenate((k_errors, tmp_k_errors))\n",
        "\n",
        "    return calc_metrics(k_outputs, target_seqs, char_enc, char_dec, k_errors, exact_word)\n"
      ],
      "execution_count": 20,
      "outputs": []
    },
    {
      "cell_type": "code",
      "metadata": {
        "id": "FbxGPFfs_Vtv"
      },
      "source": [
        "class customValidation(keras.callbacks.Callback):\n",
        "    def __init__(self, val_enc_input, val_dec_target, beam_width=1):\n",
        "        self.beam_width = beam_width\n",
        "        self.validation_input = val_enc_input\n",
        "        self.validation_target = val_dec_target\n",
        "\n",
        "    def on_epoch_end(self, epoch, logs):\n",
        "        val_accuracy, val_exact_accuracy, val_loss = beam_decoder(self.model, self.validation_input, self.validation_target, max_decoder_seq_length, \n",
        "                                                                  target_char_enc, target_char_dec, self.beam_width)\n",
        "\n",
        "        # Log them to reflect in WANDB callback and EarlyStopping\n",
        "        logs[\"val_accuracy\"] = val_accuracy\n",
        "        logs[\"val_exact_accuracy\"] = val_exact_accuracy\n",
        "        logs[\"val_loss\"] = val_loss             # Validation loss calculates categorical cross entropy loss\n",
        "\n",
        "        print(\"— val_loss: {:.4f} — val_accuracy: {:.4f} — val_exact_accuracy: {:.4f}\".format(val_loss, val_accuracy, val_exact_accuracy))\n"
      ],
      "execution_count": 29,
      "outputs": []
    },
    {
      "cell_type": "code",
      "metadata": {
        "id": "ClA5ym6tw2fp"
      },
      "source": [
        "from tensorflow.keras.optimizers import Adam, SGD, RMSprop, Nadam\n",
        "from tensorflow.keras.metrics import categorical_crossentropy\n",
        "from tensorflow.keras.callbacks import EarlyStopping\n",
        "\n",
        "def train_model(model, train_input_data, train_target_data, val_input_data, val_target_data, beam_width=1,\n",
        "                batch_size=64, optimizer = 'adam', learning_rate = 1e-3, epochs = 10, loss_fn = 'categorical_crossentropy'):\n",
        "    # Function to train the model using the mentioned optimizer, learning rate and epochs using given training and validation data\n",
        "\n",
        "    if optimizer == 'adam':\n",
        "        model.compile(optimizer = Adam(learning_rate=learning_rate), loss = loss_fn, metrics = ['accuracy'])\n",
        "    elif optimizer == 'momentum':\n",
        "        model.compile(optimizer = SGD(learning_rate=learning_rate, momentum = 0.9), loss = loss_fn, metrics = ['accuracy'])\n",
        "    elif optimizer == 'rmsprop':\n",
        "        model.compile(optimizer = RMSprop(learning_rate=learning_rate), loss = loss_fn, metrics = ['accuracy'])\n",
        "    elif optimizer == 'nesterov':\n",
        "        model.compile(optimizer = SGD(learning_rate=learning_rate, momentum = 0.9, nesterov = True), loss = loss_fn, metrics = ['accuracy'])\n",
        "    elif optimizer == 'nadam':\n",
        "        model.compile(optimizer = Nadam(learning_rate=learning_rate), loss = loss_fn, metrics = ['accuracy'])\n",
        "    else:\n",
        "        model.compile(optimizer = SGD(learning_rate=learning_rate), loss = loss_fn, metrics = ['accuracy'])\n",
        "\n",
        "    # Using validation accuracy as the metric to monitor as that is what is intended to be maximized\n",
        "    model.fit(train_input_data,\n",
        "              train_target_data,\n",
        "              batch_size = batch_size,\n",
        "              epochs = epochs, \n",
        "              verbose = 2,\n",
        "              callbacks = [customValidation(val_input_data[0], val_target_data, beam_width=beam_width), \n",
        "                           WandbCallback(monitor='val_accuracy'), EarlyStopping(monitor='val_accuracy', patience=5)])\n",
        "\n",
        "    return model"
      ],
      "execution_count": 22,
      "outputs": []
    },
    {
      "cell_type": "code",
      "metadata": {
        "id": "pAUGuzLFZoRg"
      },
      "source": [
        "config_1 = {\n",
        "    \"learning_rate\": 1e-3,                                      # Hyperparameter for updating the parameters in gradient descent\n",
        "    \"epochs\": 10,                                               # Number of epochs to train the model   \n",
        "    \"optimizer\": 'adam',                                        # Gradient descent algorithm used for the parameter updation\n",
        "    \"batch_size\": 64,                                           # Batch size used for the optimizer\n",
        "    \"loss_function\": 'categorical_crossentropy',                # Loss function used in the optimizer\n",
        "    \"architecture\": 'RNN',                                      # Type of neural network used\n",
        "    \"dataset\": \"Dakshina\",                                      # Name of dataset\n",
        "    \"inp_emb_size\": 64,                                         # Number of filters for the first convolution layer\n",
        "    \"no_enc_layers\": 1,                                         # The factor by which the number of filters change in the subseqeuent convolution layers\n",
        "    \"no_dec_layers\": 1,                                         # Number of neurons in the dense FC layer\n",
        "    \"hid_layer_size\": 64,                                       # True : Data augmentation is done during training, False : No data augmentation done\n",
        "    \"dropout\" : 0.25,                                           # Probability of dropping out a neuron in dropout technique\n",
        "    \"cell_type\": 'GRU',\n",
        "    \"beam_width\": 4,\n",
        "}\n",
        "\n",
        "\n",
        "# run = wandb.init(project=\"assignment3\", entity=\"abisheks\", reinit=True)\n",
        "# tf.keras.backend.clear_session()\n",
        "# model = create_model(len(input_char_dec), len(target_char_dec))\n",
        "# model = train_model(model, [train_enc_input,train_dec_input], train_dec_target, [val_enc_input,val_dec_input], val_dec_target)\n",
        "# run.finish()\n",
        "\n",
        "def RNN_train(config):\n",
        "  model = create_model(len(input_char_dec), len(target_char_dec), config['inp_emb_size'], config['no_enc_layers'], \n",
        "                       config['no_dec_layers'], config['hid_layer_size'], config['cell_type'], config['dropout'], config['dropout'])\n",
        "  \n",
        "  model = train_model(model, [train_enc_input,train_dec_input], train_dec_target, [val_enc_input,val_dec_input], val_dec_target, config['beam_width'],\n",
        "                      config['batch_size'], config['optimizer'], config['learning_rate'], config['epochs'], config['loss_function'])\n",
        "  return model\n",
        "\n",
        "# run = wandb.init(project=\"assignment3\", entity=\"abisheks\", reinit=True, config=config_1)\n",
        "# model = RNN_train(config_1)\n",
        "# run.finish()"
      ],
      "execution_count": 23,
      "outputs": []
    },
    {
      "cell_type": "code",
      "metadata": {
        "id": "-RFDUlnWcgk_"
      },
      "source": [
        "# print([layer.__class__.__name__ for layer in model.layers])\n",
        "# print(model.input)\n",
        "# en1, *en2 = model.get_layer(\"encoder_1\").output\n",
        "# print(en2)"
      ],
      "execution_count": 24,
      "outputs": []
    },
    {
      "cell_type": "code",
      "metadata": {
        "id": "F-t-wAKzh-xl"
      },
      "source": [
        "def infer(model, input_seqs, target_char_enc, target_char_dec, max_decoder_timesteps):\n",
        "    encoder_model, decoder_model, no_enc_layers, no_dec_layers = create_inference_model(model)\n",
        "    # Encoder output which is the input initial state for the decoder\n",
        "    encoder_output = encoder_model.predict(input_seqs)\n",
        "\n",
        "    no_samples, no_decoder_tokens = input_seqs.shape[0], len(target_char_dec)\n",
        "\n",
        "    # Generate empty decoder input sequence for 1 timestep\n",
        "    decoder_input_seq = np.zeros((no_samples, 1))\n",
        "    # Populate the input sequence with the start character at the 1st timestep\n",
        "    decoder_input_seq[:, 0] = target_char_enc[\"\\t\"]\n",
        "\n",
        "    states_value = encoder_output * no_dec_layers if type(encoder_output) is list else [encoder_output] * no_dec_layers\n",
        "    # Sampling loop for a batch of sequences\n",
        "    stop_mask = np.array([False] * no_samples)\n",
        "    stop_condition = False\n",
        "    decoded_words = [\"\"] * no_samples\n",
        "    iterations = 0\n",
        "    while not stop_condition:\n",
        "        decoder_output, *decoder_states = decoder_model.predict([decoder_input_seq] + states_value)\n",
        "\n",
        "        # Sample the tokens\n",
        "        sampled_tokens_enc = np.argmax(decoder_output[:, -1, :], axis=-1)\n",
        "        sampled_chars = [target_char_dec[token] for token in sampled_tokens_enc]\n",
        "        # Update stop_mask\n",
        "        stop_mask = np.array([(stop_mask[i] or sampled_chars[i] == '\\n') for i in range(no_samples)])\n",
        "        # Update the decoded words\n",
        "        decoded_words = [decoded_words[i]+sampled_chars[i] if not stop_mask[i] else decoded_words[i] for i in range(no_samples)]\n",
        "        iterations += 1\n",
        "\n",
        "        # Exit condition: either hit max number of timesteps in decoder or hit stop characters (\"\\n\") in all the decoded words\n",
        "        if np.all(stop_mask) or iterations > max_decoder_timesteps:\n",
        "            stop_condition = True\n",
        "\n",
        "        # Update the target sequence (of length 1).\n",
        "        decoder_input_seq[:, 0] = sampled_tokens_enc\n",
        "\n",
        "        # Update states\n",
        "        states_value = decoder_states\n",
        "\n",
        "    return decoded_words\n",
        "\n",
        "\n",
        "# load_run = 'z5xoybdt'\n",
        "# api = wandb.Api()\n",
        "# run_prev = api.run('abisheks/assignment3/'+load_run)\n",
        "# prev_model_file = run_prev.file('model-best.h5').download(replace=True)\n",
        "# model = tf.keras.models.load_model(prev_model_file.name)\n",
        "# print([layer.name for layer in model.layers])\n",
        "# # predicted_words = infer(model, train_enc_input[:10], target_char_enc, target_char_dec, 21)\n",
        "# # k_pred, _ = beam_decoder_infer(model, train_enc_input[:10], 21, 5)\n",
        "# # for i in range(10):\n",
        "# #     print('-' * 60)\n",
        "# #     print('English word:', train_inp[i])\n",
        "# #     for j in range(5):\n",
        "# #         print(f'Translated word (possibility {j+1}):', convert_to_word(k_pred[i,j,:], target_char_enc, target_char_dec))\n",
        "# acc, error = beam_decoder(model, val_enc_input, val_dec_target, max_decoder_seq_length, target_char_enc, target_char_dec, 5)\n",
        "# print(error, acc)\n"
      ],
      "execution_count": 25,
      "outputs": []
    },
    {
      "cell_type": "code",
      "metadata": {
        "id": "LVUmL1bU4Rkf"
      },
      "source": [
        "# Hyperparameter choices to sweep \n",
        "sweep_config = {\n",
        "    'name': 'RNN',\n",
        "    'method': 'bayes',                   # Possible search : grid, random, bayes\n",
        "    'metric': {\n",
        "      'name': 'val_accuracy',\n",
        "      'goal': 'maximize'   \n",
        "    },\n",
        "    'parameters': {\n",
        "        'inp_emb_size': {\n",
        "            'values': [32, 64, 256]\n",
        "        },\n",
        "        'no_enc_layers': {\n",
        "            'values': [1, 2, 3]\n",
        "        },\n",
        "        'no_dec_layers': {\n",
        "            'values': [1, 2, 3]\n",
        "        },\n",
        "        'hid_layer_size': {\n",
        "            'values': [32, 64, 256]\n",
        "        },\n",
        "        'cell_type': {\n",
        "            'values': ['RNN', 'LSTM', 'GRU']\n",
        "        },\n",
        "        'dropout' :{\n",
        "            'values': [0, 0.25, 0.4]\n",
        "        },\n",
        "        'beam_width': {\n",
        "            'values': [1, 5]\n",
        "        }\n",
        "    }\n",
        "}"
      ],
      "execution_count": 30,
      "outputs": []
    },
    {
      "cell_type": "code",
      "metadata": {
        "id": "Sa8cfQE6uZI3"
      },
      "source": [
        "def sweep_wrapper():\n",
        "    # Wrapper function to call the CNN function for sweeping with different hyperparameters\n",
        "\n",
        "    # Initialize a new wandb run\n",
        "    run = wandb.init(config=config_1, reinit=True)\n",
        "\n",
        "    # Config is a variable that holds and saves hyperparameters and inputs\n",
        "    config = wandb.config\n",
        "\n",
        "    wandb.run.name = f'ie_{config.inp_emb_size}_ne_{config.no_enc_layers}_de_{config.no_dec_layers}_ct_{config.cell_type}_dr_{config.dropout}'\n",
        "    wandb.run.name += f'_da_{config.hid_layer_size}'\n",
        "    wandb.run.save()\n",
        "    print(wandb.run.name)\n",
        "\n",
        "    modelA = RNN_train(config)\n",
        "    run.finish()"
      ],
      "execution_count": 31,
      "outputs": []
    },
    {
      "cell_type": "code",
      "metadata": {
        "id": "qswMgpZe9mqx",
        "colab": {
          "base_uri": "https://localhost:8080/",
          "height": 938
        },
        "outputId": "8c87ef16-93d8-40dd-c384-e8cd07b9a033"
      },
      "source": [
        "sweep_id = wandb.sweep(sweep_config, entity=\"abisheks\", project=\"assignment3\")\n",
        "wandb.agent(sweep_id, lambda : sweep_wrapper())"
      ],
      "execution_count": null,
      "outputs": [
        {
          "output_type": "stream",
          "text": [
            "Create sweep with ID: ihfiazmk\n",
            "Sweep URL: https://wandb.ai/abisheks/assignment3/sweeps/ihfiazmk\n"
          ],
          "name": "stdout"
        },
        {
          "output_type": "stream",
          "text": [
            "\u001b[34m\u001b[1mwandb\u001b[0m: Agent Starting Run: zd1o4j1n with config:\n",
            "\u001b[34m\u001b[1mwandb\u001b[0m: \tbeam_width: 1\n",
            "\u001b[34m\u001b[1mwandb\u001b[0m: \tcell_type: LSTM\n",
            "\u001b[34m\u001b[1mwandb\u001b[0m: \tdropout: 0.25\n",
            "\u001b[34m\u001b[1mwandb\u001b[0m: \thid_layer_size: 64\n",
            "\u001b[34m\u001b[1mwandb\u001b[0m: \tinp_emb_size: 256\n",
            "\u001b[34m\u001b[1mwandb\u001b[0m: \tno_dec_layers: 1\n",
            "\u001b[34m\u001b[1mwandb\u001b[0m: \tno_enc_layers: 2\n",
            "\u001b[34m\u001b[1mwandb\u001b[0m: \toptimizer: adam\n"
          ],
          "name": "stderr"
        },
        {
          "output_type": "display_data",
          "data": {
            "text/html": [
              "\n",
              "                Tracking run with wandb version 0.10.28<br/>\n",
              "                Syncing run <strong style=\"color:#cdcd00\">eager-sweep-1</strong> to <a href=\"https://wandb.ai\" target=\"_blank\">Weights & Biases</a> <a href=\"https://docs.wandb.com/integrations/jupyter.html\" target=\"_blank\">(Documentation)</a>.<br/>\n",
              "                Project page: <a href=\"https://wandb.ai/abisheks/assignment3\" target=\"_blank\">https://wandb.ai/abisheks/assignment3</a><br/>\n",
              "                Sweep page: <a href=\"https://wandb.ai/abisheks/assignment3/sweeps/ihfiazmk\" target=\"_blank\">https://wandb.ai/abisheks/assignment3/sweeps/ihfiazmk</a><br/>\n",
              "Run page: <a href=\"https://wandb.ai/abisheks/assignment3/runs/zd1o4j1n\" target=\"_blank\">https://wandb.ai/abisheks/assignment3/runs/zd1o4j1n</a><br/>\n",
              "                Run data is saved locally in <code>/content/wandb/run-20210430_214800-zd1o4j1n</code><br/><br/>\n",
              "            "
            ],
            "text/plain": [
              "<IPython.core.display.HTML object>"
            ]
          },
          "metadata": {
            "tags": []
          }
        },
        {
          "output_type": "stream",
          "text": [
            "\u001b[34m\u001b[1mwandb\u001b[0m: \u001b[33mWARNING\u001b[0m Calling run.save without any arguments is deprecated.Changes to attributes are automatically persisted.\n"
          ],
          "name": "stderr"
        },
        {
          "output_type": "stream",
          "text": [
            "ie_256_ne_2_de_1_ct_LSTM_dr_0.25_da_64\n",
            "WARNING:tensorflow:Layer encoder_1 will not use cuDNN kernel since it doesn't meet the cuDNN kernel criteria. It will use generic GPU kernel as fallback when running on GPU\n",
            "WARNING:tensorflow:Layer encoder_2 will not use cuDNN kernel since it doesn't meet the cuDNN kernel criteria. It will use generic GPU kernel as fallback when running on GPU\n",
            "WARNING:tensorflow:Layer decoder_1 will not use cuDNN kernel since it doesn't meet the cuDNN kernel criteria. It will use generic GPU kernel as fallback when running on GPU\n",
            "Model: \"model\"\n",
            "__________________________________________________________________________________________________\n",
            "Layer (type)                    Output Shape         Param #     Connected to                     \n",
            "==================================================================================================\n",
            "input_1 (InputLayer)            [(None, None)]       0                                            \n",
            "__________________________________________________________________________________________________\n",
            "embedding_1 (Embedding)         (None, None, 256)    6912        input_1[0][0]                    \n",
            "__________________________________________________________________________________________________\n",
            "input_2 (InputLayer)            [(None, None)]       0                                            \n",
            "__________________________________________________________________________________________________\n",
            "encoder_1 (LSTM)                [(None, None, 64), ( 82176       embedding_1[0][0]                \n",
            "__________________________________________________________________________________________________\n",
            "embedding_2 (Embedding)         (None, None, 256)    16896       input_2[0][0]                    \n",
            "__________________________________________________________________________________________________\n",
            "encoder_2 (LSTM)                [(None, None, 64), ( 33024       encoder_1[0][0]                  \n",
            "__________________________________________________________________________________________________\n",
            "decoder_1 (LSTM)                [(None, None, 64), ( 82176       embedding_2[0][0]                \n",
            "                                                                 encoder_2[0][1]                  \n",
            "                                                                 encoder_2[0][2]                  \n",
            "__________________________________________________________________________________________________\n",
            "dense_1 (Dense)                 (None, None, 66)     4290        decoder_1[0][0]                  \n",
            "==================================================================================================\n",
            "Total params: 225,474\n",
            "Trainable params: 225,474\n",
            "Non-trainable params: 0\n",
            "__________________________________________________________________________________________________\n",
            "Epoch 1/10\n",
            "691/691 - 223s - loss: 1.1280 - accuracy: 0.7229\n",
            "— val_loss: 1.7762 — val_accuracy: 0.6325 — val_exact_accuracy: 0.0000\n",
            "Epoch 2/10\n"
          ],
          "name": "stdout"
        }
      ]
    }
  ]
}